{
 "cells": [
  {
   "cell_type": "code",
   "execution_count": 1,
   "id": "499facbf-4c68-473f-becc-6f862ae0e8e7",
   "metadata": {},
   "outputs": [],
   "source": [
    "import MetaTrader5 as mt5"
   ]
  },
  {
   "cell_type": "code",
   "execution_count": 2,
   "id": "023da974-b850-4e0c-b118-97689c015d80",
   "metadata": {},
   "outputs": [
    {
     "name": "stdout",
     "output_type": "stream",
     "text": [
      "Connected to MT5 successfully\n"
     ]
    }
   ],
   "source": [
    "if not mt5.initialize(login=89500879, server=\"MetaQuotes-Demo\", password=\"6kF-FhYd\"):\n",
    "    print(\"Initialization failed\")\n",
    "    print(mt5.last_error())\n",
    "    quit()\n",
    "\n",
    "print(\"Connected to MT5 successfully\")"
   ]
  },
  {
   "cell_type": "markdown",
   "id": "6b100c3e-49cc-4f56-8255-b81fc499c12b",
   "metadata": {},
   "source": [
    "### IMMEDIATE BUY ORDER"
   ]
  },
  {
   "cell_type": "code",
   "execution_count": 3,
   "id": "fd8a009d-2206-4da3-bb1c-1067b6bd194e",
   "metadata": {},
   "outputs": [
    {
     "name": "stdout",
     "output_type": "stream",
     "text": [
      "Buy order placed successfully! Order ID: 3241797300\n"
     ]
    }
   ],
   "source": [
    "# Symbol to trade\n",
    "symbol = \"EURUSD\"  # Replace with the desired symbol\n",
    "lot_size = 0.1     # Trade volume (lot size)\n",
    "\n",
    "# Ensure the symbol is available\n",
    "if not mt5.symbol_select(symbol, True):\n",
    "    print(f\"Failed to select symbol: {symbol}\")\n",
    "    mt5.shutdown()\n",
    "    quit()\n",
    "\n",
    "# Get current price\n",
    "price = mt5.symbol_info_tick(symbol).ask  # Use ask price for buy\n",
    "\n",
    "# Prepare the request\n",
    "request = {\n",
    "    \"action\": mt5.TRADE_ACTION_DEAL,\n",
    "    \"symbol\": symbol,\n",
    "    \"volume\": lot_size,\n",
    "    \"type\": mt5.ORDER_TYPE_BUY,\n",
    "    \"price\": price,\n",
    "    \"deviation\": 50,  # Max deviation in points\n",
    "    \"magic\": 123456,  # Unique identifier for your trades\n",
    "    \"comment\": \"Immediate Buy Order\",\n",
    "}\n",
    "\n",
    "# Send the trade request\n",
    "result = mt5.order_send(request)\n",
    "\n",
    "# Check the result\n",
    "if result.retcode == mt5.TRADE_RETCODE_DONE:\n",
    "    print(f\"Buy order placed successfully! Order ID: {result.order}\")\n",
    "else:\n",
    "    print(f\"Order failed, retcode: {result.retcode}\")\n",
    "    print(\"Error details:\", result)"
   ]
  },
  {
   "cell_type": "markdown",
   "id": "b8b14a54-ce93-4506-b965-756539ccc17f",
   "metadata": {},
   "source": [
    "### IMMEDIATE SELL ORDER"
   ]
  },
  {
   "cell_type": "code",
   "execution_count": 20,
   "id": "5690d96c-fb0f-46f9-a07f-e8da660f4274",
   "metadata": {},
   "outputs": [
    {
     "name": "stdout",
     "output_type": "stream",
     "text": [
      "Sell order placed successfully! Order ID: 3241818509\n"
     ]
    }
   ],
   "source": [
    "# Symbol to trade\n",
    "symbol = \"EURUSD\"  # Replace with the desired symbol\n",
    "lot_size = 0.1     # Trade volume (lot size)\n",
    "\n",
    "# Ensure the symbol is available\n",
    "if not mt5.symbol_select(symbol, True):\n",
    "    print(f\"Failed to select symbol: {symbol}\")\n",
    "    mt5.shutdown()\n",
    "    quit()\n",
    "\n",
    "# Get current price\n",
    "price = mt5.symbol_info_tick(symbol).bid  # Use bid price for sell orders\n",
    "\n",
    "# Prepare the request\n",
    "request = {\n",
    "    \"action\": mt5.TRADE_ACTION_DEAL,\n",
    "    \"symbol\": symbol,\n",
    "    \"volume\": lot_size,\n",
    "    \"type\": mt5.ORDER_TYPE_SELL,\n",
    "    \"price\": price,\n",
    "    \"deviation\": 50,  # Max deviation in points\n",
    "    \"magic\": 123456,  # Unique identifier for your trades\n",
    "    \"comment\": \"Immediate Sell Order\",\n",
    "    \"type_filling\": mt5.ORDER_FILLING_IOC,  # Immediate or Cancel\n",
    "}\n",
    "\n",
    "# Send the trade request\n",
    "result = mt5.order_send(request)\n",
    "\n",
    "# Check the result\n",
    "if result.retcode == mt5.TRADE_RETCODE_DONE:\n",
    "    print(f\"Sell order placed successfully! Order ID: {result.order}\")\n",
    "else:\n",
    "    print(f\"Order failed, retcode: {result.retcode}\")\n",
    "    print(\"Error details:\", result)"
   ]
  },
  {
   "cell_type": "markdown",
   "id": "daf7f7b8-d32d-4067-a03e-530956fcdecf",
   "metadata": {},
   "source": [
    "### BUY LIMIT ORDER "
   ]
  },
  {
   "cell_type": "code",
   "execution_count": 29,
   "id": "cead25ae-5922-4b58-9263-bedbe3b6bad1",
   "metadata": {},
   "outputs": [
    {
     "name": "stdout",
     "output_type": "stream",
     "text": [
      "Buy limit order placed successfully! Order ID: 3241828003\n"
     ]
    }
   ],
   "source": [
    "# Symbol to trade\n",
    "symbol = \"EURUSD\"  # Replace with the desired symbol\n",
    "lot_size = 0.1     # Trade volume (lot size)\n",
    "limit_price = 1.02364  # The price at which you want to sell (must be above the current price)\n",
    "sl_price = 1.02194   # Stop Loss (price above the limit price)\n",
    "tp_price = 1.02858    # Take Profit (price below the limit price)\n",
    "\n",
    "# Ensure the symbol is available\n",
    "if not mt5.symbol_select(symbol, True):\n",
    "    print(f\"Failed to select symbol: {symbol}\")\n",
    "    mt5.shutdown()\n",
    "    quit()\n",
    "\n",
    "# Validate SL and TP distances\n",
    "symbol_info = mt5.symbol_info(symbol)\n",
    "if symbol_info is None:\n",
    "    print(f\"Symbol {symbol} not found\")\n",
    "    mt5.shutdown()\n",
    "    quit()\n",
    "\n",
    "# Prepare the request\n",
    "request = {\n",
    "    \"action\": mt5.TRADE_ACTION_PENDING,\n",
    "    \"symbol\": symbol,\n",
    "    \"volume\": lot_size,\n",
    "    \"type\": mt5.ORDER_TYPE_BUY_LIMIT,\n",
    "    \"price\": limit_price,\n",
    "    \"sl\": sl_price,\n",
    "    \"tp\": tp_price,\n",
    "    \"deviation\": 50,\n",
    "    \"magic\": 123456,\n",
    "    \"type_time\": mt5.ORDER_TIME_GTC,\n",
    "    \"type_filling\": mt5.ORDER_FILLING_RETURN,\n",
    "}\n",
    "\n",
    "# Send the trade request\n",
    "result = mt5.order_send(request)\n",
    "\n",
    "# Check the result\n",
    "if result is None:\n",
    "    print(\"Failed to send order. Error:\", mt5.last_error())\n",
    "else:\n",
    "    if result.retcode == mt5.TRADE_RETCODE_DONE:\n",
    "        print(f\"Buy limit order placed successfully! Order ID: {result.order}\")\n",
    "    else:\n",
    "        print(f\"Order failed, retcode: {result.retcode}\")\n",
    "        print(\"Error details:\", result)"
   ]
  },
  {
   "cell_type": "markdown",
   "id": "9b44de5e-6c0a-4bf5-a451-8835a09854c2",
   "metadata": {},
   "source": [
    "### BUY STOP ORDER"
   ]
  },
  {
   "cell_type": "code",
   "execution_count": 31,
   "id": "8719fe5e-aa02-42d7-a522-bf94513709a8",
   "metadata": {},
   "outputs": [
    {
     "name": "stdout",
     "output_type": "stream",
     "text": [
      "Buy stop order placed successfully! Order ID: 3241828291\n"
     ]
    }
   ],
   "source": [
    "# Symbol to trade\n",
    "symbol = \"EURUSD\"  # Replace with the desired symbol\n",
    "lot_size = 0.1     # Trade volume (lot size)\n",
    "stop_price = 1.03405 # The price at which you want to sell (must be above the current price)\n",
    "sl_price = 1.03235    # Stop Loss (price above the limit price)\n",
    "tp_price = 1.03899    # Take Profit (price below the limit price)\n",
    "\n",
    "# Ensure the symbol is available\n",
    "if not mt5.symbol_select(symbol, True):\n",
    "    print(f\"Failed to select symbol: {symbol}\")\n",
    "    mt5.shutdown()\n",
    "    quit()\n",
    "\n",
    "# Prepare the request\n",
    "request = {\n",
    "    \"action\": mt5.TRADE_ACTION_PENDING,  # Pending order\n",
    "    \"symbol\": symbol,\n",
    "    \"volume\": lot_size,\n",
    "    \"type\": mt5.ORDER_TYPE_BUY_STOP,  # Buy stop order\n",
    "    \"price\": stop_price,  # The price at which the order will trigger (must be above current market price)\n",
    "    \"sl\": sl_price,        # Stop Loss level\n",
    "    \"tp\": tp_price,        # Take Profit level\n",
    "    \"deviation\": 50,       # Max price deviation (not used in pending orders)\n",
    "    \"magic\": 123456,       # Unique identifier for your trades\n",
    "    \"type_time\": mt5.ORDER_TIME_GTC,  # Good Till Cancelled\n",
    "    \"type_filling\": mt5.ORDER_FILLING_RETURN,  # Return unused portion\n",
    "}\n",
    "\n",
    "\n",
    "# Send the trade request\n",
    "result = mt5.order_send(request)\n",
    "\n",
    "# Check the result\n",
    "if result is None:\n",
    "    print(\"Failed to send order. Error:\", mt5.last_error())\n",
    "else:\n",
    "    if result.retcode == mt5.TRADE_RETCODE_DONE:\n",
    "        print(f\"Buy stop order placed successfully! Order ID: {result.order}\")\n",
    "    else:\n",
    "        print(f\"Order failed, retcode: {result.retcode}\")\n",
    "        print(\"Error details:\", result)"
   ]
  },
  {
   "cell_type": "markdown",
   "id": "abf019d7-b911-4eba-98d7-4322ccb1eb9c",
   "metadata": {},
   "source": [
    "### SELL LIMIT ORDER"
   ]
  },
  {
   "cell_type": "code",
   "execution_count": 25,
   "id": "ffb346ea-ea5c-4928-b47d-b034f1db6f29",
   "metadata": {},
   "outputs": [
    {
     "name": "stdout",
     "output_type": "stream",
     "text": [
      "Sell limit order placed successfully! Order ID: 3241827295\n"
     ]
    }
   ],
   "source": [
    "# Symbol to trade\n",
    "symbol = \"EURUSD\"  # Replace with the desired symbol\n",
    "lot_size = 0.1     # Trade volume (lot size)\n",
    "limit_price = 1.05518  # The price at which you want to sell (must be above the current price)\n",
    "sl_price = 1.05785     # Stop Loss (price above the limit price)\n",
    "tp_price = 1.05091     # Take Profit (price below the limit price)\n",
    "\n",
    "# Ensure the symbol is available\n",
    "if not mt5.symbol_select(symbol, True):\n",
    "    print(f\"Failed to select symbol: {symbol}\")\n",
    "    mt5.shutdown()\n",
    "    quit()\n",
    "\n",
    "# Validate SL and TP distances\n",
    "symbol_info = mt5.symbol_info(symbol)\n",
    "if symbol_info is None:\n",
    "    print(f\"Symbol {symbol} not found\")\n",
    "    mt5.shutdown()\n",
    "    quit()\n",
    "\n",
    "# Prepare the request\n",
    "request = {\n",
    "    \"action\": mt5.TRADE_ACTION_PENDING,  # Pending order\n",
    "    \"symbol\": symbol,\n",
    "    \"volume\": lot_size,\n",
    "    \"type\": mt5.ORDER_TYPE_SELL_LIMIT,  # Sell limit order\n",
    "    \"price\": limit_price,  # The price at which the order will trigger\n",
    "    \"sl\": sl_price,        # Stop Loss level\n",
    "    \"tp\": tp_price,        # Take Profit level\n",
    "    \"deviation\": 50,       # Max price deviation (not used in pending orders)\n",
    "    \"magic\": 123456,       # Unique identifier for your trades,\n",
    "    \"type_time\": mt5.ORDER_TIME_GTC,  # Good Till Cancelled\n",
    "    \"type_filling\": mt5.ORDER_FILLING_RETURN,  # Return unused portion\n",
    "}\n",
    "\n",
    "# Send the trade request\n",
    "result = mt5.order_send(request)\n",
    "\n",
    "# Check the result\n",
    "if result is None:\n",
    "    print(\"Failed to send order. Error:\", mt5.last_error())\n",
    "else:\n",
    "    if result.retcode == mt5.TRADE_RETCODE_DONE:\n",
    "        print(f\"Sell limit order placed successfully! Order ID: {result.order}\")\n",
    "    else:\n",
    "        print(f\"Order failed, retcode: {result.retcode}\")\n",
    "        print(\"Error details:\", result)"
   ]
  },
  {
   "cell_type": "markdown",
   "id": "624d9da7-cb52-4861-9d1b-b17b437d1591",
   "metadata": {},
   "source": [
    "### SELL STOP ORDER"
   ]
  },
  {
   "cell_type": "code",
   "execution_count": 27,
   "id": "894002ee-973a-4dc6-adc0-008d1999cfe7",
   "metadata": {},
   "outputs": [
    {
     "name": "stdout",
     "output_type": "stream",
     "text": [
      "Sell limit order placed successfully! Order ID: 3241827761\n"
     ]
    }
   ],
   "source": [
    "# Symbol to trade\n",
    "symbol = \"EURUSD\"  # Replace with the desired symbol\n",
    "lot_size = 0.1     # Trade volume (lot size)\n",
    "stop_price = 1.01942  # The price at which you want to sell (must be above the current price)\n",
    "sl_price = 1.02270    # Stop Loss (price above the limit price)\n",
    "tp_price = 1.01484     # Take Profit (price below the limit price)\n",
    "\n",
    "# Ensure the symbol is available\n",
    "if not mt5.symbol_select(symbol, True):\n",
    "    print(f\"Failed to select symbol: {symbol}\")\n",
    "    mt5.shutdown()\n",
    "    quit()\n",
    "\n",
    "# Validate SL and TP distances\n",
    "symbol_info = mt5.symbol_info(symbol)\n",
    "if symbol_info is None:\n",
    "    print(f\"Symbol {symbol} not found\")\n",
    "    mt5.shutdown()\n",
    "    quit()\n",
    "\n",
    "# Prepare the request\n",
    "request = {\n",
    "    \"action\": mt5.TRADE_ACTION_PENDING,  # Pending order\n",
    "    \"symbol\": symbol,\n",
    "    \"volume\": lot_size,\n",
    "    \"type\": mt5.ORDER_TYPE_SELL_STOP,  # Sell stop order\n",
    "    \"price\": stop_price,  # The price at which the order will trigger (must be below current market price)\n",
    "    \"sl\": sl_price,        # Stop Loss level\n",
    "    \"tp\": tp_price,        # Take Profit level\n",
    "    \"deviation\": 50,       # Max price deviation (not used in pending orders)\n",
    "    \"magic\": 123456,       # Unique identifier for your trades\n",
    "    \"type_time\": mt5.ORDER_TIME_GTC,  # Good Till Cancelled\n",
    "    \"type_filling\": mt5.ORDER_FILLING_RETURN,  # Return unused portion\n",
    "}\n",
    "\n",
    "\n",
    "# Send the trade request\n",
    "result = mt5.order_send(request)\n",
    "\n",
    "# Check the result\n",
    "if result is None:\n",
    "    print(\"Failed to send order. Error:\", mt5.last_error())\n",
    "else:\n",
    "    if result.retcode == mt5.TRADE_RETCODE_DONE:\n",
    "        print(f\"Sell limit order placed successfully! Order ID: {result.order}\")\n",
    "    else:\n",
    "        print(f\"Order failed, retcode: {result.retcode}\")\n",
    "        print(\"Error details:\", result)"
   ]
  },
  {
   "cell_type": "markdown",
   "id": "53c9971e-3e13-4a44-8a2e-1de8cfec4679",
   "metadata": {},
   "source": [
    "### MOVING THE STOP LOSS  FOR AN ONGOING TRADE (FOR BOTH BUYS AND SELLS)"
   ]
  },
  {
   "cell_type": "code",
   "execution_count": 24,
   "id": "33436293-cd4c-4840-93f1-d671e4882966",
   "metadata": {},
   "outputs": [
    {
     "name": "stdout",
     "output_type": "stream",
     "text": [
      "Stop loss modified successfully! Position ID: 3241818509\n"
     ]
    }
   ],
   "source": [
    "# Retrieve all open positions\n",
    "positions = mt5.positions_get()\n",
    "\n",
    "if positions is None or len(positions) == 0:\n",
    "    print(\"No active positions found.\")\n",
    "    mt5.shutdown()\n",
    "    quit()\n",
    "\n",
    "\n",
    "# Select the first sell position (change the index for specific trade)\n",
    "position = positions[0]  # Example: using the first active position\n",
    "\n",
    "#preparing the new stop loss value\n",
    "new_stop_loss = 1.03421\n",
    "\n",
    "# Prepare the modification request to update the Stop Loss\n",
    "request = {\n",
    "    \"action\": mt5.TRADE_ACTION_SLTP,  # Specify action for Stop Loss / Take Profit modification\n",
    "    \"symbol\": position.symbol,        # Symbol of the position\n",
    "    \"sl\": new_stop_loss,              # New Stop Loss price provided by your logic\n",
    "    \"tp\": position.tp,                # Keep the existing Take Profit\n",
    "    \"position\": position.ticket,      # Position ID of the trade to modify\n",
    "    \"deviation\": 50,                  # Max price deviation allowed\n",
    "    \"magic\": position.magic,          # Unique identifier for your trades\n",
    "    \"comment\": \"Trailing Stop Adjust\",# Comment for the trade modification\n",
    "}\n",
    "\n",
    "# Send the modification request\n",
    "result = mt5.order_send(request)\n",
    "\n",
    "# Check the result of the request\n",
    "if result is None:\n",
    "    print(\"Failed to modify stop loss. Error:\", mt5.last_error())\n",
    "else:\n",
    "    if result.retcode == mt5.TRADE_RETCODE_DONE:\n",
    "        print(f\"Stop loss modified successfully! Position ID: {position.ticket}\")\n",
    "    else:\n",
    "        print(f\"Failed to modify stop loss, retcode: {result.retcode}\")\n",
    "        print(\"Error details:\", result)"
   ]
  },
  {
   "cell_type": "markdown",
   "id": "76b74c89-b581-4fb6-9772-111a8861aab5",
   "metadata": {},
   "source": [
    "### DELETING AN ORDER (BUY LIMIT, BUY ORDER, SELL LIMIT, SELL ORDER)"
   ]
  },
  {
   "cell_type": "code",
   "execution_count": 32,
   "id": "f55c7069-7956-4e35-9480-e2e9d795e1e1",
   "metadata": {},
   "outputs": [
    {
     "name": "stdout",
     "output_type": "stream",
     "text": [
      "Found 1 pending orders.\n",
      "Order 3241828291 deleted successfully.\n"
     ]
    }
   ],
   "source": [
    "# Define the symbol and pending order ticket to delete\n",
    "symbol = \"EURUSD\"  # Replace with your symbol\n",
    "\n",
    "# Retrieve all pending orders\n",
    "orders = mt5.orders_get()\n",
    "\n",
    "if orders is None or len(orders) == 0:\n",
    "    print(\"No pending orders found.\")\n",
    "else:\n",
    "    print(f\"Found {len(orders)} pending orders.\")\n",
    "    for order in orders:\n",
    "        # Prepare the request to delete the pending order\n",
    "        request = {\n",
    "            \"action\": mt5.TRADE_ACTION_REMOVE,  # Action to delete the order\n",
    "            \"order\": order.ticket,             # Ticket ID of the pending order\n",
    "            \"symbol\": order.symbol,            # Symbol of the order\n",
    "            \"magic\": order.magic,              # Unique identifier for your trades\n",
    "            \"comment\": \"Deleting pending order\",  # Comment for the deletion\n",
    "        }\n",
    "\n",
    "        # Send the request to delete the order\n",
    "        result = mt5.order_send(request)\n",
    "\n",
    "        # Check the result of the operation\n",
    "        if result.retcode == mt5.TRADE_RETCODE_DONE:\n",
    "            print(f\"Order {order.ticket} deleted successfully.\")\n",
    "        else:\n",
    "            print(f\"Failed to delete order {order.ticket}, retcode: {result.retcode}, comment: {result.comment}\")"
   ]
  },
  {
   "cell_type": "code",
   "execution_count": null,
   "id": "63b90be0-4775-4134-9575-d4a0c96e1e9c",
   "metadata": {},
   "outputs": [],
   "source": []
  }
 ],
 "metadata": {
  "kernelspec": {
   "display_name": "Python 3 (ipykernel)",
   "language": "python",
   "name": "python3"
  },
  "language_info": {
   "codemirror_mode": {
    "name": "ipython",
    "version": 3
   },
   "file_extension": ".py",
   "mimetype": "text/x-python",
   "name": "python",
   "nbconvert_exporter": "python",
   "pygments_lexer": "ipython3",
   "version": "3.12.7"
  }
 },
 "nbformat": 4,
 "nbformat_minor": 5
}
