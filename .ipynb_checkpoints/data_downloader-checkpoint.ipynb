{
 "cells": [
  {
   "cell_type": "code",
   "execution_count": 196,
   "id": "4f125bef-bb77-4f84-9365-0c1449b7363b",
   "metadata": {},
   "outputs": [],
   "source": [
    "import numpy\n",
    "import pandas as pd\n",
    "import MetaTrader5 as mt5\n",
    "from datetime import datetime"
   ]
  },
  {
   "cell_type": "code",
   "execution_count": 197,
   "id": "f07c8ef2-f5e4-4537-9945-2e2498cbed9e",
   "metadata": {},
   "outputs": [],
   "source": [
    "# Initialize the connection\n",
    "if not mt5.initialize():\n",
    "    print(\"initialize() failed, error code =\", mt5.last_error())\n",
    "    quit()"
   ]
  },
  {
   "cell_type": "code",
   "execution_count": 233,
   "id": "6ac49c4e-a952-49f8-9d9b-5b00a7ec104f",
   "metadata": {},
   "outputs": [],
   "source": [
    "#INPUTS\n",
    "# SYMBOLS = AUDSD, EURUSD,EURJPY, XAUUSD, EURGPY, USDJPY\n",
    "symbol = input(\"Choose one AUDSD, EURUSD,EURJPY, XAUUSD, EURGPY, USDJPY: \")\n",
    "timeframe = mt5.TIMEFRAME_M1  # 1-minute timeframe\n",
    "utc_from = datetime(2024, 7, 15)\n",
    "utc_to = datetime(2024, 8, 3)"
   ]
  },
  {
   "cell_type": "code",
   "execution_count": 234,
   "id": "ebbd31d3-9fc1-4cdd-ab4d-79808ab03e8b",
   "metadata": {},
   "outputs": [],
   "source": [
    "startdate=utc_from.strftime('%Y%m%d')\n",
    "enddate=utc_to.strftime('%Y%m%d')"
   ]
  },
  {
   "cell_type": "code",
   "execution_count": 235,
   "id": "719b80aa-dad3-4d92-8722-c2b3a3d35018",
   "metadata": {},
   "outputs": [
    {
     "name": "stdout",
     "output_type": "stream",
     "text": [
      "                     time     open     high      low    close  tick_volume  \\\n",
      "0     2024-07-15 00:02:00  158.073  158.076  158.064  158.064            4   \n",
      "1     2024-07-15 00:03:00  158.030  158.088  158.030  158.088            6   \n",
      "2     2024-07-15 00:04:00  158.085  158.089  158.083  158.084            6   \n",
      "3     2024-07-15 00:05:00  158.074  158.086  158.063  158.085           11   \n",
      "4     2024-07-15 00:06:00  158.086  158.093  158.086  158.093            4   \n",
      "...                   ...      ...      ...      ...      ...          ...   \n",
      "21100 2024-08-02 15:56:00  147.217  147.320  147.171  147.263          103   \n",
      "21101 2024-08-02 15:57:00  147.273  147.435  147.262  147.384           92   \n",
      "21102 2024-08-02 15:58:00  147.384  147.408  147.361  147.368           94   \n",
      "21103 2024-08-02 15:59:00  147.370  147.482  147.366  147.435           87   \n",
      "21104 2024-08-02 16:00:00  147.447  147.708  147.447  147.634          113   \n",
      "\n",
      "       spread  real_volume  \n",
      "0          55            0  \n",
      "1          94            0  \n",
      "2          92            0  \n",
      "3          98            0  \n",
      "4          76            0  \n",
      "...       ...          ...  \n",
      "21100       1            0  \n",
      "21101       0            0  \n",
      "21102       1            0  \n",
      "21103       1            0  \n",
      "21104       2            0  \n",
      "\n",
      "[21105 rows x 8 columns]\n"
     ]
    }
   ],
   "source": [
    "# Get the OHLC data\n",
    "rates = mt5.copy_rates_range(symbol, timeframe, utc_from, utc_to)\n",
    "\n",
    "# Check if the data is downloaded successfully\n",
    "if rates is None:\n",
    "    print(\"No data available, error code =\", mt5.last_error())\n",
    "else:\n",
    "    # Convert the data to a pandas DataFrame\n",
    "    rates_frame = pd.DataFrame(rates)\n",
    "    # Convert the time in seconds to a datetime format\n",
    "    rates_frame['time'] = pd.to_datetime(rates_frame['time'], unit='s')\n",
    "\n",
    "    # Display the data\n",
    "    print(rates_frame)"
   ]
  },
  {
   "cell_type": "code",
   "execution_count": 236,
   "id": "3952c38c-1760-4115-8118-5ea3a40254e1",
   "metadata": {},
   "outputs": [],
   "source": [
    "rates_frame.drop([\"tick_volume\", \"spread\", \"real_volume\"], inplace=True, axis=1)"
   ]
  },
  {
   "cell_type": "code",
   "execution_count": 237,
   "id": "28321aca-0c08-4aae-86e9-98604bf43d21",
   "metadata": {},
   "outputs": [],
   "source": [
    "rates_frame[\"date\"] = rates_frame[\"time\"].astype(\"str\").str[:10]\n",
    "rates_frame[\"time\"] = rates_frame[\"time\"].astype(\"str\").str[11:]"
   ]
  },
  {
   "cell_type": "code",
   "execution_count": 238,
   "id": "4f5b97eb-9f6c-459c-bb0e-c45b72ab368d",
   "metadata": {},
   "outputs": [],
   "source": [
    "rates = rates_frame.reindex(labels=[\"date\", \"time\", \"open\", \"high\", \"low\", \"close\"], axis = 1)"
   ]
  },
  {
   "cell_type": "code",
   "execution_count": 239,
   "id": "346c81dc-a23a-4151-846e-5d6b5d175a5a",
   "metadata": {},
   "outputs": [],
   "source": [
    "rates.to_csv(f'./{symbol}_{startdate}_{enddate}.csv', index=False)"
   ]
  }
 ],
 "metadata": {
  "kernelspec": {
   "display_name": "Python 3 (ipykernel)",
   "language": "python",
   "name": "python3"
  },
  "language_info": {
   "codemirror_mode": {
    "name": "ipython",
    "version": 3
   },
   "file_extension": ".py",
   "mimetype": "text/x-python",
   "name": "python",
   "nbconvert_exporter": "python",
   "pygments_lexer": "ipython3",
   "version": "3.12.4"
  }
 },
 "nbformat": 4,
 "nbformat_minor": 5
}
