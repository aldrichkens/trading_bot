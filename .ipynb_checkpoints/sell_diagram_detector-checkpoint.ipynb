{
 "cells": [
  {
   "cell_type": "code",
   "execution_count": 2,
   "id": "b0038cf8-4a0f-41d5-970b-3dae9b9a9ddc",
   "metadata": {},
   "outputs": [],
   "source": [
    "import numpy as np\n",
    "import pandas as pd\n",
    "from datetime import datetime, timedelta, timezone, date\n",
    "from scipy.signal import find_peaks\n",
    "import pytz\n",
    "import time\n",
    "from IPython.display import clear_output"
   ]
  },
  {
   "cell_type": "code",
   "execution_count": 3,
   "id": "1a03e725-05f7-4509-8d5d-0cab12474c65",
   "metadata": {},
   "outputs": [],
   "source": [
    "#Functions of the sell diagram ratio module\n",
    "\n",
    "def convert_minima_to_HH_HL_df(Pay, p1_range_localminimas):\n",
    "    Pa = p1_range_localminimas[p1_range_localminimas['low'] == Pay].drop(['open','high','close'], axis=1)\n",
    "    Pa = Pa.drop_duplicates(subset=['low'], keep='last')\n",
    "    Pa = Pa.rename(columns={\"low\":\"price\"})\n",
    "    return Pa\n",
    "\n",
    "def convert_maxima_to_HH_HL_df(Pay, condition, p1_range_localmaximas):\n",
    "    Pa = p1_range_localmaximas[(p1_range_localmaximas['high'] == Pay) & condition].drop(['open','low','close'], axis=1)  \n",
    "    Pa = Pa.drop_duplicates(subset=['high'], keep='last')\n",
    "    Pa = Pa.rename(columns={\"high\":\"price\"})\n",
    "    return Pa\n",
    "    \n",
    "def compute_index_Pa_n(Pay, p1_range_localminimas):\n",
    "    Pay_index = p1_range_localminimas[p1_range_localminimas['low'] == Pay].index[-1]\n",
    "    return Pay_index\n",
    "\n",
    "def create_tuples_p1_p3(df):\n",
    "    p1_p2_p3 = []\n",
    "    max_index = df.index.max()\n",
    "    no_of_comb = ((max_index + 1) // 2) -1  # +1 to include the last element for odd lengths\n",
    "    for i in range(no_of_comb):\n",
    "        p1_p2_p3.append((max_index, max_index - 2*(i+1) + 1, max_index - 2*(i+1)))\n",
    "    return p1_p2_p3 "
   ]
  },
  {
   "cell_type": "markdown",
   "id": "545ca29f-1f5f-4370-85a6-5e77e17531a8",
   "metadata": {},
   "source": [
    "### start \"to delete\""
   ]
  },
  {
   "cell_type": "code",
   "execution_count": 4,
   "id": "51d788b2-8979-4f0f-9806-d53f892208fa",
   "metadata": {},
   "outputs": [],
   "source": [
    "#Fake Values only in here since this is backtest\n",
    "\n",
    "#Importing the CSV file\n",
    "path = f\"./OHLC_data/GBPUSD_20250109_20250111.csv\"\n",
    "\n",
    "OHLC_df = pd.read_csv(path)\n",
    "OHLC_df['time'] = pd.to_datetime(OHLC_df['time'], format='%Y-%m-%d %H:%M:%S')"
   ]
  },
  {
   "cell_type": "code",
   "execution_count": 5,
   "id": "cf67dd24-9baa-4597-8f39-5e1620867ff0",
   "metadata": {},
   "outputs": [
    {
     "name": "stdout",
     "output_type": "stream",
     "text": [
      "                    time     open     high      low    close\n",
      "2728 2025-01-10 13:29:00  1.22941  1.22948  1.22936  1.22945\n",
      "2729 2025-01-10 13:30:00  1.22945  1.22980  1.22945  1.22966\n",
      "2730 2025-01-10 13:31:00  1.22965  1.22974  1.22961  1.22974\n",
      "2731 2025-01-10 13:32:00  1.22974  1.22977  1.22974  1.22975\n",
      "2732 2025-01-10 13:33:00  1.22975  1.22986  1.22974  1.22986\n",
      "...                  ...      ...      ...      ...      ...\n",
      "2833 2025-01-10 15:14:00  1.23126  1.23143  1.23126  1.23129\n",
      "2834 2025-01-10 15:15:00  1.23138  1.23138  1.23120  1.23128\n",
      "2835 2025-01-10 15:16:00  1.23126  1.23145  1.23124  1.23144\n",
      "2836 2025-01-10 15:17:00  1.23144  1.23155  1.23137  1.23144\n",
      "2837 2025-01-10 15:18:00  1.23143  1.23157  1.23133  1.23154\n",
      "\n",
      "[110 rows x 5 columns]\n"
     ]
    }
   ],
   "source": [
    "# DATA TO BE TESTED\n",
    "mask = (OHLC_df[\"time\"] >= \"2025-01-10 12:02:00\") & (OHLC_df[\"time\"] <= \"2025-01-10 15:18:00\")\n",
    "Last_110 = OHLC_df[mask].tail(110)\n",
    "print(Last_110)"
   ]
  },
  {
   "cell_type": "markdown",
   "id": "79b96e68-1663-44ed-92f2-a67bad6b2898",
   "metadata": {},
   "source": [
    "### end \"to delete\""
   ]
  },
  {
   "cell_type": "code",
   "execution_count": 6,
   "id": "9131b692-0c4d-4dcc-9506-9f93c2a21488",
   "metadata": {
    "scrolled": true
   },
   "outputs": [],
   "source": [
    "# FUNCTION TO DETECT P1 P2 P3 for the EXTERNAL AND INTERNAL\n",
    "def obtain_p1_p2_p3(Last_110):\n",
    "    #obtaining the maximum point from the last 110 minutes for sells\n",
    "    Max_110_y = Last_110[\"high\"].max()\n",
    "    Max_110 = Last_110[Last_110[\"high\"] == Max_110_y].iloc[[-1]]\n",
    "    \n",
    "    #obtaining the minimum point from the last 110 minutes for sells\n",
    "    Min_110_y = Last_110[\"low\"].min()\n",
    "    Min_110 = Last_110[Last_110[\"low\"] == Min_110_y].iloc[[-1]]\n",
    "    \n",
    "    # Creating a new dataframe for the start and end of the minimum points in order to grab the data of local maxima and minima in an uptrend\n",
    "    p1_range_start_time = Min_110[\"time\"].iloc[-1]\n",
    "    p1_range_end_time = Max_110['time'].iloc[-1]\n",
    "    mask = Last_110[\"time\"].ge(p1_range_start_time) & Last_110[\"time\"].le(p1_range_end_time)\n",
    "    p1_range = Last_110[mask].reset_index(drop=True)\n",
    "    \n",
    "    # Find the index of local maximas\n",
    "    local_maximas_i,_ = find_peaks(p1_range['high'].values)\n",
    "    local_maximas_i = np.array(local_maximas_i)\n",
    "    \n",
    "    # Find the index of the local minima by inverting the data\n",
    "    local_minimas_i,_ = find_peaks(-p1_range['low'].values)\n",
    "    local_minimas_i = np.array(local_minimas_i)\n",
    "    \n",
    "    #Obtaining the dataframe of the local minimas and local maximas\n",
    "    p1_range_localminimas = p1_range[p1_range.index.isin(local_minimas_i)].reset_index(drop=True)\n",
    "    p1_range_localmaximas = p1_range[p1_range.index.isin(local_maximas_i)].reset_index(drop=True)\n",
    "    \n",
    "    # Finding the value of Pay1\n",
    "    Pay1 = Min_110_y\n",
    "    \n",
    "    #to find the y value of the possible 2nd local minima:\n",
    "    Pay3 = p1_range_localminimas[\"low\"].min()\n",
    "    Pay3_index = compute_index_Pa_n(Pay3, p1_range_localminimas)\n",
    "    Pay3_index_range = Pay3_index\n",
    "    \n",
    "    while True:\n",
    "        mask = p1_range[\"low\"] == Pay3\n",
    "        Pay3_candle = p1_range[mask].iloc[0]\n",
    "        Pay3_high = Pay3_candle[\"high\"]\n",
    "        try:\n",
    "            #finding the index of the 1st local maxima in the series \"p1_range_localminimas\"\n",
    "            condition1 = p1_range_localmaximas[\"time\"].ge(p1_range.iloc[0,0])\n",
    "            condition2 = p1_range_localmaximas[\"time\"].le(p1_range_localminimas.iloc[Pay3_index,0])\n",
    "            condition = condition1 & condition2\n",
    "            \n",
    "            #to find the y value of the 1st local maxima:\n",
    "            Pay2 = p1_range_localmaximas[condition == True]['high'].values\n",
    "            if len(Pay2) == 0:\n",
    "                #proceed with the next pay3 index and rerun the while loop\n",
    "                Pay3_index_range = Pay3_index_range + 1\n",
    "                Pay3 = p1_range_localminimas.iloc[Pay3_index_range:,3].min()\n",
    "                Pay3_index = compute_index_Pa_n(Pay3, p1_range_localminimas)\n",
    "                continue\n",
    "            else:\n",
    "                #if value exists, find the maximum\n",
    "                Pay2 = max(Pay2)\n",
    "                if Pay2 < Pay3_high:\n",
    "                    Pay3_index_range = Pay3_index_range + 1\n",
    "                    Pay3 = p1_range_localminimas.iloc[Pay3_index_range:,3].min()\n",
    "                    Pay3_index = compute_index_Pa_n(Pay3, p1_range_localminimas)\n",
    "                else:\n",
    "                    break\n",
    "        except IndexError as err1:\n",
    "            print(\"IndexError:\", err1)\n",
    "            break\n",
    "        except ValueError as ve:\n",
    "            print(\"ValueError:\", ve)\n",
    "            break\n",
    "        except TypeError as te:\n",
    "            print(\"TypeError:\", te)\n",
    "            break\n",
    "    \n",
    "            \n",
    "    #Making a new dataframe of the higher highs and higher lows approaching P3 in chronological order\n",
    "    HH_HL_df = pd.DataFrame(columns=['time','price'])\n",
    "    HH_HL_df = pd.DataFrame({'time': pd.Series(dtype='datetime64[ns]'), 'price': pd.Series(dtype='float')})\n",
    "    \n",
    "    #Grabbing the data attached to Pay*\n",
    "    mask = Last_110['low'] == Pay1\n",
    "    pa1 = Last_110[mask].drop(['open','high','close'], axis=1).drop_duplicates(subset=['low'], keep='last').rename(columns={\"low\":\"price\"})\n",
    "    HH_HL_df = pd.concat([HH_HL_df, pa1], ignore_index=True)\n",
    "    \n",
    "    Pa2 = p1_range_localmaximas[p1_range_localmaximas['high'] == Pay2].drop(['open','low','close'], axis=1)\n",
    "    Pa2 = Pa2.drop_duplicates(subset=['high'], keep='last')\n",
    "    Pa2 = Pa2.rename(columns={\"high\":\"price\"})\n",
    "    HH_HL_df = pd.concat([HH_HL_df, Pa2], ignore_index=True)\n",
    "    HH_HL_df = pd.concat([HH_HL_df, convert_minima_to_HH_HL_df(Pay3, p1_range_localminimas)], ignore_index=True)\n",
    "    \n",
    "    #Resetting the values to avoid issues\n",
    "    Pay2 = Pay1_index = Pay3_index = 0\n",
    "    \n",
    "    #Assigning new values to find new sets of Pa2, Pa3\n",
    "    Pay1 = Pay3\n",
    "    Pay1_index = compute_index_Pa_n(Pay1, p1_range_localminimas)\n",
    "    \n",
    "    #Resetting the values to avoid issues\n",
    "    Pay3 = Pay3_index = 0\n",
    "    \n",
    "    #Finding the initial value of Pay3\n",
    "    Pay3 = p1_range_localminimas.iloc[Pay1_index+1:,3].min()\n",
    "    Pay3_index = compute_index_Pa_n(Pay3, p1_range_localminimas)\n",
    "    \n",
    "    #Finding the values of the higher lows and higher highs and appending it to the HH_HL_df\n",
    "    while True:\n",
    "        Pay3_index_range = 0\n",
    "        try:\n",
    "            # Check if the current Pay3_index is beyond the end of p1_range_localminimas\n",
    "            if Pay3_index > len(p1_range_localminimas):\n",
    "                print(f\"End of p1_range_localminimas reached.{Pay3_index}\")\n",
    "                break\n",
    "                \n",
    "            #finding the index of the next local maxima\n",
    "            condition1 = p1_range_localmaximas[\"time\"].ge(p1_range_localminimas.iloc[Pay1_index,0])\n",
    "            condition2 = p1_range_localmaximas[\"time\"].le(p1_range_localminimas.iloc[Pay3_index,0])\n",
    "            condition = condition1 & condition2\n",
    "    \n",
    "            \n",
    "            #to find the y value of the next local maxima:\n",
    "            Pay2 = p1_range_localmaximas[condition == True]['high'].values\n",
    "            \n",
    "            #previous HH index\n",
    "            pHH_index = HH_HL_df[HH_HL_df['price'] == Pay1].index[0] - 1\n",
    "            pHHy = HH_HL_df.iloc[pHH_index,1]\n",
    "    \n",
    "            #if Pay2 isnt existing for the current Pay3\n",
    "            condition3 = len(Pay2) == 0\n",
    "            \n",
    "            #if the current Pay2 is less than the previous HH\n",
    "            try:\n",
    "                condition4 = p1_range_localmaximas[condition == True]['high'].values.max() < pHHy\n",
    "            except ValueError as err2:\n",
    "                Pay3_index = Pay3_index+1\n",
    "                Pay3 = p1_range_localminimas.iloc[Pay3_index:,3].min()\n",
    "                Pay3_index = compute_index_Pa_n(Pay3, p1_range_localminimas)\n",
    "                continue\n",
    "            if condition3 or condition4:\n",
    "                #proceed with the next pay3 index and rerun the while loop\n",
    "                Pay2 = 0\n",
    "                Pay3_index_range = Pay3_index+1\n",
    "                Pay3 = p1_range_localminimas.iloc[Pay3_index_range:,3].min()\n",
    "                Pay3_index = compute_index_Pa_n(Pay3, p1_range_localminimas)\n",
    "                continue\n",
    "            else:\n",
    "                Pay2=Pay2.max()\n",
    "                #Appending to the HH_HL_df \n",
    "                condition5 = (p1_range_localmaximas['high'] == Pay2) & condition\n",
    "                HH_HL_df = pd.concat([HH_HL_df, convert_maxima_to_HH_HL_df(Pay2, condition5, p1_range_localmaximas)], ignore_index=True)\n",
    "                HH_HL_df = pd.concat([HH_HL_df, convert_minima_to_HH_HL_df(Pay3, p1_range_localminimas)], ignore_index=True)\n",
    "                \n",
    "                #Assigning new values to find new sets of Pa2, Pa3\n",
    "                Pay1 = Pay3\n",
    "                Pay1_index = compute_index_Pa_n(Pay1, p1_range_localminimas)\n",
    "                \n",
    "                #Finding the initial value of Pay3\n",
    "                Pay3 = p1_range_localminimas.iloc[Pay1_index+1:,3].min()\n",
    "                Pay3_index = compute_index_Pa_n(Pay3, p1_range_localminimas)\n",
    "                continue\n",
    "        except IndexError as err1:\n",
    "            break\n",
    "    \n",
    "    \n",
    "    #Append Max_110 to the dataframe:\n",
    "    Max_110 = Max_110.drop(['open','low','close'], axis=1).rename(columns={\"high\":\"price\"})\n",
    "    HH_HL_df = pd.concat([HH_HL_df, Max_110], ignore_index=True)\n",
    "    \n",
    "    # Create a tuple combining the list of possible p1-p2-p3 (initial values)\n",
    "    p1_p2_p3i = create_tuples_p1_p3(HH_HL_df)\n",
    "    \n",
    "    # finding the right p1-p2-p3 in terms of ratios\n",
    "    p1_p2_p3_index = []\n",
    "    for i in p1_p2_p3i:\n",
    "        p3i=i[0]\n",
    "        p2i=i[1]\n",
    "        p1i=i[2]\n",
    "        p3y_p2y = HH_HL_df.iloc[p3i,1] - HH_HL_df.iloc[p2i,1]\n",
    "        p2y_p1y = HH_HL_df.iloc[p2i,1] - HH_HL_df.iloc[p1i,1]\n",
    "        p3x_p2x = HH_HL_df.iloc[p3i,0] - HH_HL_df.iloc[p2i,0]\n",
    "        p2x_p1x = HH_HL_df.iloc[p2i,0] - HH_HL_df.iloc[p1i,0]\n",
    "    \n",
    "        # conditions for finding the right p1-p2-p3\n",
    "        condition1 = 1.027 < abs(p3y_p2y/p2y_p1y) < 1.9286\n",
    "        try:\n",
    "            condition2 = 0.333 < p3x_p2x/p2x_p1x < 5\n",
    "        except ZeroDivisionError as err1:\n",
    "            condition2 = False\n",
    "        condition3 = p2x_p1x > pd.Timedelta(minutes=1)\n",
    "        condition4 = pd.Timedelta(minutes=2) <= p2x_p1x <= pd.Timedelta(minutes=24)\n",
    "        condition5 = pd.Timedelta(minutes=2) <= p3x_p2x <= pd.Timedelta(minutes=21)\n",
    "        condition = condition1 & condition2 & condition3 & condition4 & condition5\n",
    "        \n",
    "        if condition:\n",
    "            p1_p2_p3_index.append(i)\n",
    "    \n",
    "    p1 = pd.DataFrame(columns=['time','price'])\n",
    "    p1 = pd.DataFrame({'time': pd.Series(dtype='datetime64[ns]'), 'price': pd.Series(dtype='float')})\n",
    "    p2 = pd.DataFrame(columns=['time','price'])\n",
    "    p2 = pd.DataFrame({'time': pd.Series(dtype='datetime64[ns]'), 'price': pd.Series(dtype='float')})\n",
    "    p3 = pd.DataFrame(columns=['time','price'])\n",
    "    p3 = pd.DataFrame({'time': pd.Series(dtype='datetime64[ns]'), 'price': pd.Series(dtype='float')})\n",
    "    \n",
    "    if len(p1_p2_p3_index) == 0:\n",
    "        print(\"There are no P1-P2-P3 yet. Let's keep waiting...\")\n",
    "        return p1_range_localminimas, p1_range_localmaximas, HH_HL_df, p1, p2, p3\n",
    "    else:\n",
    "        for p3i, p2i, p1i in p1_p2_p3_index:\n",
    "            new_p3 = HH_HL_df.iloc[[p3i]]\n",
    "            new_p2 = HH_HL_df.iloc[[p2i]]\n",
    "            new_p1 = HH_HL_df.iloc[[p1i]]\n",
    "            p3 = pd.concat([p3,new_p3], ignore_index=True)\n",
    "            p2 = pd.concat([p2,new_p2], ignore_index=True)\n",
    "            p1 = pd.concat([p1,new_p1], ignore_index=True)\n",
    "            return  p1_range_localminimas, p1_range_localmaximas, HH_HL_df, p1, p2, p3\n",
    "    \n",
    "    if len(p1) != len(p2):\n",
    "        print(\"Index error! P1 and P2 doesn't match!\")\n",
    "        return p1_range_localminimas, p1_range_localmaximas, HH_HL_df, p1, p2, p3"
   ]
  },
  {
   "cell_type": "markdown",
   "id": "b3f9298a-ebc0-4962-8963-bafdc72a67c8",
   "metadata": {},
   "source": [
    "### FIND THE P1_internal_range"
   ]
  },
  {
   "cell_type": "code",
   "execution_count": 22,
   "id": "23387784-f079-4d2a-860b-64759fc936f8",
   "metadata": {},
   "outputs": [
    {
     "data": {
      "text/plain": [
       "Timestamp('2025-01-10 14:55:00')"
      ]
     },
     "execution_count": 22,
     "metadata": {},
     "output_type": "execute_result"
    }
   ],
   "source": [
    "p2[\"time\"].iloc[-1]"
   ]
  },
  {
   "cell_type": "code",
   "execution_count": 17,
   "id": "96993781-e985-4802-b04b-bee49531212c",
   "metadata": {},
   "outputs": [
    {
     "name": "stdout",
     "output_type": "stream",
     "text": [
      "2025-01-10 14:55:00\n",
      "2025-01-10 15:03:00\n",
      "                    time     open     high      low    close\n",
      "2814 2025-01-10 14:55:00  1.23143  1.23155  1.23137  1.23147\n",
      "2815 2025-01-10 14:56:00  1.23147  1.23157  1.23147  1.23157\n",
      "2816 2025-01-10 14:57:00  1.23157  1.23171  1.23156  1.23161\n",
      "2817 2025-01-10 14:58:00  1.23159  1.23168  1.23159  1.23163\n",
      "2818 2025-01-10 14:59:00  1.23161  1.23165  1.23142  1.23157\n",
      "2819 2025-01-10 15:00:00  1.23159  1.23174  1.23155  1.23157\n",
      "2820 2025-01-10 15:01:00  1.23157  1.23177  1.23148  1.23177\n",
      "2821 2025-01-10 15:02:00  1.23176  1.23203  1.23175  1.23202\n",
      "2822 2025-01-10 15:03:00  1.23204  1.23215  1.23200  1.23215\n"
     ]
    }
   ],
   "source": [
    "p1_internal_range_start_time = p2[\"time\"].iloc[-1]\n",
    "p1_internal_range_end_time = p3[\"time\"].iloc[-1]\n",
    "\n",
    "print(p1_internal_range_start_time)\n",
    "print(p1_internal_range_end_time)\n",
    "mask = (p1_internal_range_start_time <= Last_110[\"time\"]) & (Last_110[\"time\"] <= p1_internal_range_end_time)\n",
    "p1_internal_range = Last_110[mask]\n",
    "print(p1_internal_range)"
   ]
  },
  {
   "cell_type": "code",
   "execution_count": 18,
   "id": "3ea06762-1b41-406e-b61f-109e86356bfc",
   "metadata": {},
   "outputs": [
    {
     "name": "stdout",
     "output_type": "stream",
     "text": [
      "There are no P1-P2-P3 yet. Let's keep waiting...\n"
     ]
    }
   ],
   "source": [
    "p1_range_localminimas_internal, p1_range_localmaximas_internal, HH_HL_df_internal, p1_internal, p2_internal, p3_internal = obtain_p1_p2_p3(p1_internal_range)"
   ]
  },
  {
   "cell_type": "code",
   "execution_count": 19,
   "id": "59b02950-6be0-4a54-aaf0-2c734ed7b3ca",
   "metadata": {},
   "outputs": [
    {
     "data": {
      "text/html": [
       "<div>\n",
       "<style scoped>\n",
       "    .dataframe tbody tr th:only-of-type {\n",
       "        vertical-align: middle;\n",
       "    }\n",
       "\n",
       "    .dataframe tbody tr th {\n",
       "        vertical-align: top;\n",
       "    }\n",
       "\n",
       "    .dataframe thead th {\n",
       "        text-align: right;\n",
       "    }\n",
       "</style>\n",
       "<table border=\"1\" class=\"dataframe\">\n",
       "  <thead>\n",
       "    <tr style=\"text-align: right;\">\n",
       "      <th></th>\n",
       "      <th>time</th>\n",
       "      <th>price</th>\n",
       "    </tr>\n",
       "  </thead>\n",
       "  <tbody>\n",
       "    <tr>\n",
       "      <th>0</th>\n",
       "      <td>2025-01-10 14:55:00</td>\n",
       "      <td>1.23137</td>\n",
       "    </tr>\n",
       "    <tr>\n",
       "      <th>1</th>\n",
       "      <td>2025-01-10 14:57:00</td>\n",
       "      <td>1.23171</td>\n",
       "    </tr>\n",
       "    <tr>\n",
       "      <th>2</th>\n",
       "      <td>2025-01-10 14:59:00</td>\n",
       "      <td>1.23142</td>\n",
       "    </tr>\n",
       "    <tr>\n",
       "      <th>3</th>\n",
       "      <td>2025-01-10 15:03:00</td>\n",
       "      <td>1.23215</td>\n",
       "    </tr>\n",
       "  </tbody>\n",
       "</table>\n",
       "</div>"
      ],
      "text/plain": [
       "                 time    price\n",
       "0 2025-01-10 14:55:00  1.23137\n",
       "1 2025-01-10 14:57:00  1.23171\n",
       "2 2025-01-10 14:59:00  1.23142\n",
       "3 2025-01-10 15:03:00  1.23215"
      ]
     },
     "execution_count": 19,
     "metadata": {},
     "output_type": "execute_result"
    }
   ],
   "source": [
    "HH_HL_df_internal"
   ]
  },
  {
   "cell_type": "code",
   "execution_count": null,
   "id": "70802a74-7c62-47de-8a58-2e4f0490ea94",
   "metadata": {},
   "outputs": [],
   "source": []
  },
  {
   "cell_type": "code",
   "execution_count": null,
   "id": "a1e4ecdc-3bf1-4c39-b02b-80b958b99077",
   "metadata": {},
   "outputs": [],
   "source": []
  },
  {
   "cell_type": "code",
   "execution_count": null,
   "id": "1168a760-908a-46b9-af65-27e1808e6c3b",
   "metadata": {},
   "outputs": [],
   "source": []
  },
  {
   "cell_type": "code",
   "execution_count": null,
   "id": "3cf18894-baea-4439-893a-3172a7eb9ffa",
   "metadata": {},
   "outputs": [],
   "source": []
  },
  {
   "cell_type": "code",
   "execution_count": null,
   "id": "6dabdfb0-8423-4d48-8287-e92f27cd3c8a",
   "metadata": {},
   "outputs": [],
   "source": []
  },
  {
   "cell_type": "code",
   "execution_count": null,
   "id": "db4ed88c-c1ea-4c1d-9d0f-b7cf58721366",
   "metadata": {},
   "outputs": [],
   "source": []
  },
  {
   "cell_type": "markdown",
   "id": "ef989186-73f5-48ce-b8e0-0e40451635ac",
   "metadata": {},
   "source": [
    "### FIND P4 RANGE"
   ]
  },
  {
   "cell_type": "code",
   "execution_count": null,
   "id": "e129817f-adbe-424b-b27c-49f9f5fc4517",
   "metadata": {},
   "outputs": [],
   "source": [
    "# p1_range_start_time = Min_110[\"time\"].iloc[-1]\n",
    "# p1_range_end_time = Max_110['time'].iloc[-1]\n",
    "\n",
    "p4_range_start_time = p3[\"time\"].iloc[-1]\n",
    "p4_range_end_time = Last_110[\"time\"].iloc[-1]\n",
    "print(p4_range_start_time)\n",
    "print(p4_range_end_time)\n",
    "mask = (p4_range_start_time <= Last_110[\"time\"]) & (Last_110[\"time\"] <= p4_range_end_time)\n",
    "p4_range = Last_110[mask]\n",
    "print(p4_range)"
   ]
  },
  {
   "cell_type": "code",
   "execution_count": null,
   "id": "42fefab2-91af-4db8-8852-3c5e50536524",
   "metadata": {},
   "outputs": [],
   "source": [
    "#FIND THE INITIAL VALUE OF P4 ( MINIMUM LOW IN THE P4 RANGE)\n",
    "p4 = p4_range[\"low\"].min()\n",
    "\n",
    "mask = p4_range[\"low\"] == p4\n",
    "p4 = p4_range[mask].drop(['open','high','close'], axis=1).rename(columns={\"low\":\"price\"})\n",
    "p4"
   ]
  },
  {
   "cell_type": "code",
   "execution_count": null,
   "id": "2afd0521-2c9d-4938-ae63-92300bd64c64",
   "metadata": {},
   "outputs": [],
   "source": []
  }
 ],
 "metadata": {
  "kernelspec": {
   "display_name": "Python 3 (ipykernel)",
   "language": "python",
   "name": "python3"
  },
  "language_info": {
   "codemirror_mode": {
    "name": "ipython",
    "version": 3
   },
   "file_extension": ".py",
   "mimetype": "text/x-python",
   "name": "python",
   "nbconvert_exporter": "python",
   "pygments_lexer": "ipython3",
   "version": "3.12.7"
  }
 },
 "nbformat": 4,
 "nbformat_minor": 5
}
