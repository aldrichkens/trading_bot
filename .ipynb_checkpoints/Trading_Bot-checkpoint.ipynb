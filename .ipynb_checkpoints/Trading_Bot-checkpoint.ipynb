{
 "cells": [
  {
   "cell_type": "code",
   "execution_count": 1,
   "id": "d7cd4aff-9aee-43cf-851e-cbe6af4764f9",
   "metadata": {},
   "outputs": [
    {
     "name": "stdout",
     "output_type": "stream",
     "text": [
      "Requirement already satisfied: MetaTrader5 in c:\\users\\aldri\\appdata\\local\\anaconda3\\lib\\site-packages (5.0.4738)\n",
      "Requirement already satisfied: numpy>=1.7 in c:\\users\\aldri\\appdata\\local\\anaconda3\\lib\\site-packages (from MetaTrader5) (1.26.4)\n",
      "Note: you may need to restart the kernel to use updated packages.\n"
     ]
    }
   ],
   "source": [
    "pip install --upgrade MetaTrader5"
   ]
  },
  {
   "cell_type": "code",
   "execution_count": 2,
   "id": "0ba18578-75d5-43b8-a097-11e19f98d1f0",
   "metadata": {},
   "outputs": [],
   "source": [
    "import numpy as np\n",
    "import pandas as pd\n",
    "from datetime import datetime, timedelta, timezone, date\n",
    "from scipy.signal import find_peaks\n",
    "import MetaTrader5 as mt5\n",
    "from zoneinfo import ZoneInfo\n",
    "import pytz\n",
    "import time\n",
    "from IPython.display import clear_output\n",
    "from pandas import Timestamp"
   ]
  },
  {
   "cell_type": "code",
   "execution_count": 3,
   "id": "5c0333c0-712f-4e1f-a17f-b4f538b62179",
   "metadata": {},
   "outputs": [],
   "source": [
    "# Initialize MetaTrader 5 connection\n",
    "if not mt5.initialize():\n",
    "    print(\"Initialization failed\")\n",
    "    quit()"
   ]
  },
  {
   "cell_type": "markdown",
   "id": "ffc7c628-887a-45cd-9b82-39ccafda6360",
   "metadata": {},
   "source": [
    "DEFINING FUNCTIONS"
   ]
  },
  {
   "cell_type": "code",
   "execution_count": 4,
   "id": "e7889847-4e56-47ce-a95e-2a994bb5efb4",
   "metadata": {},
   "outputs": [],
   "source": [
    "#DROP THE UNNCESSARY COLUMNS IN THE DATAFRAME AND CONVERTING THE TIME TO HUMAN READABLE FORMAT\n",
    "def df_convert_hr(rates_frame_input):\n",
    "    rates_frame_input['time'] = pd.to_datetime(rates_frame_input['time'], unit='s')\n",
    "    rates_frame_input.drop([\"tick_volume\", \"spread\", \"real_volume\"], inplace=True, axis=1)\n",
    "    rates_frame_input[\"time\"] = pd.to_datetime(rates_frame_input[\"time\"])\n",
    "    return rates_frame\n",
    "\n",
    "def append_new_data(rates_frame, rates_frame_to_append):\n",
    "    rates_frame = pd.concat([rates_frame, rates_frame_to_append]).drop_duplicates().reset_index(drop=True)\n",
    "    return rates_frame\n",
    "\n",
    "def download_recent_OHLCdata():\n",
    "    symbol = \"EURUSD\"\n",
    "    timeframe = mt5.TIMEFRAME_M1\n",
    "    \n",
    "    #GETTING THE TIMESTAMP FOR TODAY AND YESTERDAY\n",
    "    utc_from = datetime.now() - timedelta(minutes=3) + timedelta(hours=2)\n",
    "    utc_to = datetime.now() + timedelta(hours=2) - timedelta(minutes=1)\n",
    "    startdate=utc_from.strftime('%Y%m%d')\n",
    "    enddate=utc_to.strftime('%Y%m%d')\n",
    "    \n",
    "    # Get the OHLC data FOR TODAY AND YESTERDAY\n",
    "    rates_5m = mt5.copy_rates_range(symbol, timeframe, utc_from, utc_to)\n",
    "    # Check if the data is downloaded successfully\n",
    "    if rates is None:\n",
    "        print(\"No data available, error code =\", mt5.last_error())\n",
    "    else:\n",
    "        # Convert the data to a pandas DataFrame\n",
    "        rates_frame_to_append = pd.DataFrame(rates_5m)\n",
    "        df_convert_hr(rates_frame_to_append)\n",
    "        return rates_frame_to_append\n",
    "\n",
    "def download_and_display_updated_values():\n",
    "    global rates_frame\n",
    "    rates_frame_to_append = download_recent_OHLCdata()\n",
    "    rates_frame = append_new_data(rates_frame, rates_frame_to_append)\n",
    "    print(\"  \")\n",
    "    print(f\"{symbol} OHLC prices from the last 10 minutes :\")\n",
    "    print(\"____________________________________________________________________________\")\n",
    "    print(rates_frame.tail(10))\n",
    "    return"
   ]
  },
  {
   "cell_type": "code",
   "execution_count": 5,
   "id": "48cdde42-a959-4155-abce-e8e422271444",
   "metadata": {},
   "outputs": [],
   "source": [
    "#Detect the entry drills\n",
    "def check_buy_entry_drill():\n",
    "    if buy_tp == \"-\":\n",
    "        return\n",
    "        \n",
    "    global rates_frame, Last_110\n",
    "\n",
    "    #take note that ldn and ny session includes 1hr before it opens\n",
    "    #check if pattern occured during london session:\n",
    "    ldn_session = 9 <= LowestPoint[\"time\"].to_pydatetime().hour < 14\n",
    "    #check if pattern occured during ny session\n",
    "    ny_session = 14 <= LowestPoint[\"time\"].to_pydatetime().hour <= 19\n",
    "\n",
    "    if ldn_session and (ldn_low == LowestPoint[\"low\"]):\n",
    "        print(\"Price is at OTE!\")\n",
    "        print(\"Current session: London\")\n",
    "        print(f\"London session low: {ldn_low}\")\n",
    "        print(f\"Lowest point from the last 110 minutes: {LowestPoint[\"low\"]}\")\n",
    "        #insert code here\n",
    "        return\n",
    "    elif ny_session and (ny_low == LowestPoint[\"low\"]):\n",
    "        print(\"Price is at OTE!\")\n",
    "        print(\"Current session: NY\")\n",
    "        print(f\"NY session low: {ny_low}\")\n",
    "        print(f\"Lowest point from the last 110 minutes: {LowestPoint[\"low\"]}\")\n",
    "        #insert code here\n",
    "        return\n",
    "    else:\n",
    "        print(\"It is not yet time to trade!\")\n",
    "        return\n",
    "\n",
    "def check_sell_entry_drill():\n",
    "    if sell_tp == \"-\":\n",
    "        return\n",
    "        \n",
    "    global rates_frame, Last_110\n",
    "\n",
    "    #take note that ldn and ny session includes 1hr before it opens\n",
    "    #check if pattern occured during london session:\n",
    "    ldn_session = 9 <= HighestPoint[\"time\"].to_pydatetime().hour < 14\n",
    "    #check if pattern occured during ny session\n",
    "    ny_session = 14 <= HighestPoint[\"time\"].to_pydatetime().hour <= 19\n",
    "    #check if the drill appreared during pre-session times\n",
    "    pre_ldn_session = 9 < HighestPoint[\"time\"].to_pydatetime().hour <= 10\n",
    "    pre_ny_session = 14 <= HighestPoint[\"time\"].to_pydatetime().hour <= 15\n",
    "    \n",
    "    if ldn_session and (ldn_high == HighestPoint[\"high\"]):\n",
    "        print(\"Price is at OTE!\")\n",
    "        print(\"Current session: London\")\n",
    "        print(f\"London session high: {ldn_high}\")\n",
    "        print(f\"Highest point from the last 110 minutes: {HighestPoint[\"high\"]}\")\n",
    "        #insert code here\n",
    "        return\n",
    "    elif ny_session and (ny_high == HighestPoint[\"high\"]):\n",
    "        print(\"Price is at OTE!\")\n",
    "        print(\"Current session: NY\")\n",
    "        print(f\"NY session high: {ny_high}\")\n",
    "        print(f\"Highest point from the last 110 minutes: {HighestPoint[\"high\"]}\")\n",
    "        #insert code here\n",
    "        return\n",
    "    elif (pre_ldn_session or pre_ny_session):\n",
    "        print(\"Current session: Pre-London or Pre-NY\")\n",
    "        print(f\"Highest point from the last 110 minutes: {HighestPoint[\"high\"]}\")\n",
    "        #insert code here\n",
    "        return\n",
    "    else:\n",
    "        print(\"Price is not at the OTE of the session!\")\n",
    "        return"
   ]
  },
  {
   "cell_type": "markdown",
   "id": "c151a086-8655-41f0-8d09-cc34a9c07b23",
   "metadata": {},
   "source": [
    "DOWNLOAD THE OHLC DATA FROM THE LAST 7 DAYS"
   ]
  },
  {
   "cell_type": "code",
   "execution_count": 6,
   "id": "3153145d-bab9-4f1f-a8e5-b6028b37fb4d",
   "metadata": {},
   "outputs": [],
   "source": [
    "symbol = \"EURUSD\"\n",
    "timeframe = mt5.TIMEFRAME_M1\n",
    "\n",
    "#GETTING THE TIMESTAMP FOR TODAY AND YESTERDAY\n",
    "utc_from = datetime.now() - timedelta(days=1) + timedelta(hours=2)\n",
    "utc_to = datetime.now() - timedelta(minutes=1) + timedelta(hours=2)\n",
    "startdate=utc_from.strftime('%Y%m%d')\n",
    "enddate=utc_to.strftime('%Y%m%d')\n",
    "\n",
    "# Get the OHLC data FOR TODAY AND YESTERDAY\n",
    "rates = mt5.copy_rates_range(symbol, timeframe, utc_from, utc_to)\n",
    "# Check if the data is downloaded successfully\n",
    "if rates is None:\n",
    "    print(\"No data available, error code =\", mt5.last_error())\n",
    "else:\n",
    "    # Convert the data to a pandas DataFrame\n",
    "    rates_frame = pd.DataFrame(rates)\n",
    "    df_convert_hr(rates_frame)\n"
   ]
  },
  {
   "cell_type": "code",
   "execution_count": 7,
   "id": "63ef7d5b-491b-4b26-972b-6134417a05dc",
   "metadata": {
    "scrolled": true
   },
   "outputs": [
    {
     "data": {
      "text/html": [
       "<div>\n",
       "<style scoped>\n",
       "    .dataframe tbody tr th:only-of-type {\n",
       "        vertical-align: middle;\n",
       "    }\n",
       "\n",
       "    .dataframe tbody tr th {\n",
       "        vertical-align: top;\n",
       "    }\n",
       "\n",
       "    .dataframe thead th {\n",
       "        text-align: right;\n",
       "    }\n",
       "</style>\n",
       "<table border=\"1\" class=\"dataframe\">\n",
       "  <thead>\n",
       "    <tr style=\"text-align: right;\">\n",
       "      <th></th>\n",
       "      <th>time</th>\n",
       "      <th>open</th>\n",
       "      <th>high</th>\n",
       "      <th>low</th>\n",
       "      <th>close</th>\n",
       "    </tr>\n",
       "  </thead>\n",
       "  <tbody>\n",
       "  </tbody>\n",
       "</table>\n",
       "</div>"
      ],
      "text/plain": [
       "Empty DataFrame\n",
       "Columns: [time, open, high, low, close]\n",
       "Index: []"
      ]
     },
     "execution_count": 7,
     "metadata": {},
     "output_type": "execute_result"
    }
   ],
   "source": [
    "rates_frame"
   ]
  },
  {
   "cell_type": "markdown",
   "id": "24c4fccc-696a-4da7-b08c-08634299c7ab",
   "metadata": {},
   "source": [
    "GRAB USER INPUT FOR THE TAKE PROFIT LEVELS FOR THE BUYS AND SELLS"
   ]
  },
  {
   "cell_type": "code",
   "execution_count": 8,
   "id": "dabd9aa0-668c-4f5a-a758-20d6f6785fa3",
   "metadata": {},
   "outputs": [
    {
     "name": "stdout",
     "output_type": "stream",
     "text": [
      "It is weekend you dumbass! The forex market is closed!\n"
     ]
    }
   ],
   "source": [
    "try:\n",
    "    current_price = float(rates_frame[\"close\"].tail(1).iloc[0])\n",
    "    print(f\"The current price of {symbol} is about: {current_price}.\")\n",
    "\n",
    "    while True:\n",
    "        sell_tp = input(\"Enter the sell TP: \").strip()\n",
    "        try: \n",
    "            # Check for a dash\n",
    "            if sell_tp == \"-\":\n",
    "                print(\"You are only looking to buy.\")\n",
    "                BEARISH_BIAS = False\n",
    "                break\n",
    "        \n",
    "            sell_tp = float(sell_tp)\n",
    "            if sell_tp >= current_price:\n",
    "                print(f\"Enter a price that is less than the current price of {symbol}.\")\n",
    "                continue\n",
    "            value = float(sell_tp)\n",
    "            print(f\"You entered a TP level: {value}\")\n",
    "            BEARISH_BIAS = True\n",
    "            break\n",
    "        except ValueError:\n",
    "            print(f\"Invalid input. Please enter a dash '-' or a valid price of {symbol}.\")\n",
    "            continue\n",
    "    \n",
    "    while True:\n",
    "        buy_tp = input(\"Enter the buy TP: \").strip()\n",
    "        try:\n",
    "            if buy_tp == \"-\":\n",
    "                print(\"You are only looking to sell.\")\n",
    "                BULLISH_BIAS = False\n",
    "                break\n",
    "            \n",
    "            buy_tp = float(buy_tp) \n",
    "            if buy_tp <= current_price:\n",
    "                print(f\"Enter a price that is more than the current price of {symbol}.\")\n",
    "                continue\n",
    "                \n",
    "            value = float(buy_tp)\n",
    "            print(f\"You entered a TP level: {value}\")\n",
    "            BULLISH_BIAS = True\n",
    "            break\n",
    "            \n",
    "        except ValueError:\n",
    "            print(f\"Invalid input. Please enter a dash '-' or a valid price of {symbol}.\")\n",
    "            continue\n",
    "            \n",
    "except IndexError as err:\n",
    "    print(\"It is weekend you dumbass! The forex market is closed!\")\n",
    "except NameError as err:\n",
    "    print(\"It is weekend you dumbass! The forex market is closed!\")\n",
    "\n",
    "    "
   ]
  },
  {
   "cell_type": "markdown",
   "id": "1324c914-40fc-4134-a094-ea7639e4f505",
   "metadata": {},
   "source": [
    "CREATING A RISK MANAGEMENT STRATEGY THAT TRADES ONLY A MAXIMUM OF 4 TRADES PER DAY"
   ]
  },
  {
   "cell_type": "code",
   "execution_count": null,
   "id": "70957833-6fdd-4320-8d5c-1b96bdb3d630",
   "metadata": {},
   "outputs": [
    {
     "name": "stdout",
     "output_type": "stream",
     "text": [
      "__________________________________\n",
      "London high: nan\n",
      "London low: nan\n",
      "NY high: nan\n",
      "NY low: nan\n",
      "__________________________________\n",
      "It is weekend you dumbass! The forex market is closed!\n",
      "It is weekend you dumbass! The forex market is closed!\n"
     ]
    }
   ],
   "source": [
    "#number of trades for today\n",
    "N = 0\n",
    "date_today = date.today()\n",
    "\n",
    "while N < 4:\n",
    "    if N > 4:\n",
    "        break\n",
    "    else:\n",
    "        clear_output(wait=True)\n",
    "        #HAVE THE DATAFRAME FOR THE CURRENT LONDON SESSION and LOOK FOR THE LONDON HIGH AND LOW:\n",
    "        ldn_rates_frame = rates_frame[(rates_frame['time'].dt.date == date_today) & (rates_frame['time'].dt.hour >= 9) & (rates_frame['time'].dt.hour < 14)]\n",
    "        ldn_high = ldn_rates_frame[\"high\"].max()\n",
    "        ldn_low = ldn_rates_frame[\"low\"].min()\n",
    "        print(\"__________________________________\")\n",
    "        print(f'London high: {ldn_high}')\n",
    "        print(f'London low: {ldn_low}')\n",
    "        \n",
    "        #HAVE THE DATAFRAME FOR THE CURRENT NEW YORK SESSION and LOOK FOR THE NY HIGH AND LOW: \n",
    "        ny_rates_frame = rates_frame[(rates_frame['time'].dt.date == date_today) & (rates_frame['time'].dt.hour >= 14) & (rates_frame['time'].dt.hour <= 19)]\n",
    "        ny_high = ny_rates_frame[\"high\"].max()\n",
    "        ny_low = ny_rates_frame[\"low\"].min()\n",
    "        print(f'NY high: {ny_high}')\n",
    "        print(f'NY low: {ny_low}')\n",
    "        print(\"__________________________________\")\n",
    "\n",
    "        try:\n",
    "            #Determine the max and min value of the highs and lows for the last 35 mins\n",
    "            Last_110 = rates_frame.tail(110)\n",
    "            MaxHighPrice = Last_110[\"high\"].max()\n",
    "            MinLowPrice = Last_110[\"low\"].min()\n",
    "    \n",
    "            #Determine the if the last 80 mins is in a downtrend or uptrend\n",
    "            HighestPoint = rates_frame[rates_frame[\"high\"] == MaxHighPrice].iloc[-1]\n",
    "            LowestPoint = rates_frame[rates_frame[\"low\"] == MinLowPrice].iloc[-1]\n",
    "        except IndexError as err1:\n",
    "            print(\"It is weekend you dumbass! The forex market is closed!\")\n",
    "            \n",
    "        #Based on the trend (and the conditions inside) decide whether to buy, sell, or wait.\n",
    "        try:\n",
    "            if (HighestPoint[\"time\"] > LowestPoint[\"time\"]) & BEARISH_BIAS:\n",
    "                print(\"Looking to sell...\")\n",
    "                check_sell_entry_drill()\n",
    "                download_and_display_updated_values()\n",
    "                time.sleep(60)\n",
    "                continue\n",
    "            elif (HighestPoint[\"time\"] < LowestPoint[\"time\"]) & BULLISH_BIAS:\n",
    "                print(\"Looking to buy...\")\n",
    "                check_buy_entry_drill()\n",
    "                download_and_display_updated_values()s\n",
    "                time.sleep(60)\n",
    "                continue\n",
    "            else:\n",
    "                print(\"Waiting for an opportunity...\")\n",
    "                download_and_display_updated_values()\n",
    "                time.sleep(60)\n",
    "                continue\n",
    "        except NameError as err1:\n",
    "            print(\"It is weekend you dumbass! The forex market is closed!\")"
   ]
  },
  {
   "cell_type": "code",
   "execution_count": null,
   "id": "db53af8f-d6dd-41fb-bec4-a5bac1a10065",
   "metadata": {},
   "outputs": [],
   "source": []
  },
  {
   "cell_type": "code",
   "execution_count": null,
   "id": "61a94208-31b7-443c-a4d6-bbad6ca215c9",
   "metadata": {},
   "outputs": [],
   "source": []
  },
  {
   "cell_type": "code",
   "execution_count": null,
   "id": "1e061dd9-1755-4647-a0e7-fdb1f890e28c",
   "metadata": {},
   "outputs": [],
   "source": []
  },
  {
   "cell_type": "code",
   "execution_count": null,
   "id": "b4c204ab-a86b-4a00-b68d-83b68fc25747",
   "metadata": {},
   "outputs": [],
   "source": []
  },
  {
   "cell_type": "code",
   "execution_count": null,
   "id": "1de870d5-96ac-4664-900a-ceefad5693e4",
   "metadata": {},
   "outputs": [],
   "source": []
  }
 ],
 "metadata": {
  "kernelspec": {
   "display_name": "Python 3 (ipykernel)",
   "language": "python",
   "name": "python3"
  },
  "language_info": {
   "codemirror_mode": {
    "name": "ipython",
    "version": 3
   },
   "file_extension": ".py",
   "mimetype": "text/x-python",
   "name": "python",
   "nbconvert_exporter": "python",
   "pygments_lexer": "ipython3",
   "version": "3.12.7"
  }
 },
 "nbformat": 4,
 "nbformat_minor": 5
}
