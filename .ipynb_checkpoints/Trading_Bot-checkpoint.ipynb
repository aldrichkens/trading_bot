{
 "cells": [
  {
   "cell_type": "code",
   "execution_count": 1,
   "id": "d7cd4aff-9aee-43cf-851e-cbe6af4764f9",
   "metadata": {},
   "outputs": [
    {
     "name": "stdout",
     "output_type": "stream",
     "text": [
      "Requirement already satisfied: MetaTrader5 in c:\\users\\aldrichken\\anaconda3\\lib\\site-packages (5.0.4738)Note: you may need to restart the kernel to use updated packages.\n",
      "\n",
      "Requirement already satisfied: numpy>=1.7 in c:\\users\\aldrichken\\anaconda3\\lib\\site-packages (from MetaTrader5) (1.26.4)\n"
     ]
    }
   ],
   "source": [
    "pip install --upgrade MetaTrader5"
   ]
  },
  {
   "cell_type": "code",
   "execution_count": 2,
   "id": "0ba18578-75d5-43b8-a097-11e19f98d1f0",
   "metadata": {},
   "outputs": [],
   "source": [
    "import numpy as np\n",
    "import pandas as pd\n",
    "from datetime import datetime, timedelta, timezone, date\n",
    "from scipy.signal import find_peaks\n",
    "import MetaTrader5 as mt5"
   ]
  },
  {
   "cell_type": "code",
   "execution_count": 3,
   "id": "5c0333c0-712f-4e1f-a17f-b4f538b62179",
   "metadata": {},
   "outputs": [],
   "source": [
    "# Initialize MetaTrader 5 connection\n",
    "if not mt5.initialize():\n",
    "    print(\"Initialization failed\")\n",
    "    quit()"
   ]
  },
  {
   "cell_type": "markdown",
   "id": "ffc7c628-887a-45cd-9b82-39ccafda6360",
   "metadata": {},
   "source": [
    "DEFINING FUNCTIONS"
   ]
  },
  {
   "cell_type": "code",
   "execution_count": 4,
   "id": "e7889847-4e56-47ce-a95e-2a994bb5efb4",
   "metadata": {},
   "outputs": [],
   "source": [
    "#DROP THE UNNCESSARY COLUMNS IN THE DATAFRAME AND CONVERTING THE TIME TO HUMAN READABLE FORMAT\n",
    "def df_convert_hr(rates_frame):\n",
    "    rates_frame['time'] = pd.to_datetime(rates_frame['time'], unit='s')\n",
    "    rates_frame.drop([\"tick_volume\", \"spread\", \"real_volume\"], inplace=True, axis=1)\n",
    "    rates_frame[\"time\"] = pd.to_datetime(rates_frame[\"time\"])\n",
    "    return rates_frame\n",
    "\n",
    "#Detect the entry drills\n",
    "def sell_entry_drill():\n",
    "    pass\n",
    "\n",
    "def buy_entry_drill():\n",
    "    pass"
   ]
  },
  {
   "cell_type": "markdown",
   "id": "c151a086-8655-41f0-8d09-cc34a9c07b23",
   "metadata": {},
   "source": [
    "DOWNLOAD THE OHLC DATA FROM THE LAST 7 DAYS"
   ]
  },
  {
   "cell_type": "code",
   "execution_count": 11,
   "id": "3153145d-bab9-4f1f-a8e5-b6028b37fb4d",
   "metadata": {},
   "outputs": [],
   "source": [
    "symbol = \"EURUSD\"\n",
    "timeframe = mt5.TIMEFRAME_M1\n",
    "\n",
    "#GETTING THE TIMESTAMP FOR TODAY AND 3 DAYS AGO\n",
    "utc_from = datetime.now(timezone.utc) - timedelta(days=7)\n",
    "utc_to = datetime.now(timezone.utc)\n",
    "startdate=utc_from.strftime('%Y%m%d')\n",
    "enddate=utc_to.strftime('%Y%m%d')\n",
    "\n",
    "# Get the OHLC data\n",
    "rates = mt5.copy_rates_range(symbol, timeframe, utc_from, utc_to)\n",
    "# Check if the data is downloaded successfully\n",
    "if rates is None:\n",
    "    print(\"No data available, error code =\", mt5.last_error())\n",
    "else:\n",
    "    # Convert the data to a pandas DataFrame\n",
    "    rates_frame = pd.DataFrame(rates)\n",
    "    df_convert_hr(rates_frame)\n"
   ]
  },
  {
   "cell_type": "code",
   "execution_count": 12,
   "id": "d2f50aef-8e60-4f58-8248-8f1578844aca",
   "metadata": {},
   "outputs": [
    {
     "data": {
      "text/html": [
       "<div>\n",
       "<style scoped>\n",
       "    .dataframe tbody tr th:only-of-type {\n",
       "        vertical-align: middle;\n",
       "    }\n",
       "\n",
       "    .dataframe tbody tr th {\n",
       "        vertical-align: top;\n",
       "    }\n",
       "\n",
       "    .dataframe thead th {\n",
       "        text-align: right;\n",
       "    }\n",
       "</style>\n",
       "<table border=\"1\" class=\"dataframe\">\n",
       "  <thead>\n",
       "    <tr style=\"text-align: right;\">\n",
       "      <th></th>\n",
       "      <th>time</th>\n",
       "      <th>open</th>\n",
       "      <th>high</th>\n",
       "      <th>low</th>\n",
       "      <th>close</th>\n",
       "    </tr>\n",
       "  </thead>\n",
       "  <tbody>\n",
       "    <tr>\n",
       "      <th>0</th>\n",
       "      <td>2024-12-30 00:01:00</td>\n",
       "      <td>1.04251</td>\n",
       "      <td>1.04257</td>\n",
       "      <td>1.04246</td>\n",
       "      <td>1.04253</td>\n",
       "    </tr>\n",
       "    <tr>\n",
       "      <th>1</th>\n",
       "      <td>2024-12-30 00:02:00</td>\n",
       "      <td>1.04246</td>\n",
       "      <td>1.04270</td>\n",
       "      <td>1.04246</td>\n",
       "      <td>1.04267</td>\n",
       "    </tr>\n",
       "    <tr>\n",
       "      <th>2</th>\n",
       "      <td>2024-12-30 00:03:00</td>\n",
       "      <td>1.04262</td>\n",
       "      <td>1.04262</td>\n",
       "      <td>1.04261</td>\n",
       "      <td>1.04262</td>\n",
       "    </tr>\n",
       "    <tr>\n",
       "      <th>3</th>\n",
       "      <td>2024-12-30 00:04:00</td>\n",
       "      <td>1.04283</td>\n",
       "      <td>1.04303</td>\n",
       "      <td>1.04283</td>\n",
       "      <td>1.04302</td>\n",
       "    </tr>\n",
       "    <tr>\n",
       "      <th>4</th>\n",
       "      <td>2024-12-30 00:05:00</td>\n",
       "      <td>1.04262</td>\n",
       "      <td>1.04284</td>\n",
       "      <td>1.04262</td>\n",
       "      <td>1.04283</td>\n",
       "    </tr>\n",
       "    <tr>\n",
       "      <th>...</th>\n",
       "      <td>...</td>\n",
       "      <td>...</td>\n",
       "      <td>...</td>\n",
       "      <td>...</td>\n",
       "      <td>...</td>\n",
       "    </tr>\n",
       "    <tr>\n",
       "      <th>5753</th>\n",
       "      <td>2025-01-03 23:54:00</td>\n",
       "      <td>1.03082</td>\n",
       "      <td>1.03082</td>\n",
       "      <td>1.03079</td>\n",
       "      <td>1.03080</td>\n",
       "    </tr>\n",
       "    <tr>\n",
       "      <th>5754</th>\n",
       "      <td>2025-01-03 23:55:00</td>\n",
       "      <td>1.03079</td>\n",
       "      <td>1.03079</td>\n",
       "      <td>1.03071</td>\n",
       "      <td>1.03078</td>\n",
       "    </tr>\n",
       "    <tr>\n",
       "      <th>5755</th>\n",
       "      <td>2025-01-03 23:56:00</td>\n",
       "      <td>1.03078</td>\n",
       "      <td>1.03089</td>\n",
       "      <td>1.03077</td>\n",
       "      <td>1.03078</td>\n",
       "    </tr>\n",
       "    <tr>\n",
       "      <th>5756</th>\n",
       "      <td>2025-01-03 23:57:00</td>\n",
       "      <td>1.03078</td>\n",
       "      <td>1.03080</td>\n",
       "      <td>1.03071</td>\n",
       "      <td>1.03080</td>\n",
       "    </tr>\n",
       "    <tr>\n",
       "      <th>5757</th>\n",
       "      <td>2025-01-03 23:58:00</td>\n",
       "      <td>1.03081</td>\n",
       "      <td>1.03081</td>\n",
       "      <td>1.03071</td>\n",
       "      <td>1.03078</td>\n",
       "    </tr>\n",
       "  </tbody>\n",
       "</table>\n",
       "<p>5758 rows × 5 columns</p>\n",
       "</div>"
      ],
      "text/plain": [
       "                    time     open     high      low    close\n",
       "0    2024-12-30 00:01:00  1.04251  1.04257  1.04246  1.04253\n",
       "1    2024-12-30 00:02:00  1.04246  1.04270  1.04246  1.04267\n",
       "2    2024-12-30 00:03:00  1.04262  1.04262  1.04261  1.04262\n",
       "3    2024-12-30 00:04:00  1.04283  1.04303  1.04283  1.04302\n",
       "4    2024-12-30 00:05:00  1.04262  1.04284  1.04262  1.04283\n",
       "...                  ...      ...      ...      ...      ...\n",
       "5753 2025-01-03 23:54:00  1.03082  1.03082  1.03079  1.03080\n",
       "5754 2025-01-03 23:55:00  1.03079  1.03079  1.03071  1.03078\n",
       "5755 2025-01-03 23:56:00  1.03078  1.03089  1.03077  1.03078\n",
       "5756 2025-01-03 23:57:00  1.03078  1.03080  1.03071  1.03080\n",
       "5757 2025-01-03 23:58:00  1.03081  1.03081  1.03071  1.03078\n",
       "\n",
       "[5758 rows x 5 columns]"
      ]
     },
     "execution_count": 12,
     "metadata": {},
     "output_type": "execute_result"
    }
   ],
   "source": [
    "rates_frame"
   ]
  },
  {
   "cell_type": "markdown",
   "id": "634ecf85-bf94-4a02-a1fd-34c1e15ef719",
   "metadata": {},
   "source": [
    "DETERMINE THE MOST RECENT HIGHEST/LOWEST POINTS and THE TREND FROM THE LAST 35 MINS "
   ]
  },
  {
   "cell_type": "code",
   "execution_count": 13,
   "id": "2420b68f-2c05-4505-9f4f-34214b658808",
   "metadata": {},
   "outputs": [],
   "source": [
    "#Determine the max and min value of the highs and lows for the last 35 mins\n",
    "Last_35 = rates_frame.tail(35)\n",
    "MaxHighPrice = Last_35[\"high\"].max()\n",
    "MinLowPrice = Last_35[\"low\"].min()\n",
    "\n",
    "#Determine the if the last 35 mins is in a downtrend or uptrend\n",
    "HighestPoint = rates_frame[rates_frame[\"high\"] == MaxHighPrice].iloc[-1]\n",
    "LowestPoint = rates_frame[rates_frame[\"low\"] == MinLowPrice].iloc[-1]\n",
    "\n",
    "if HighestPoint[\"time\"] > LowestPoint[\"time\"]:\n",
    "    trend_35 = \"uptrend\"\n",
    "elif HighestPoint[\"time\"] < LowestPoint[\"time\"]:\n",
    "    trend_35 = \"downtrend\"\n",
    "else:\n",
    "    trend_35 = \"sideways\""
   ]
  },
  {
   "cell_type": "markdown",
   "id": "5e53bab3-8e5c-4b1c-8999-efdf097f9420",
   "metadata": {},
   "source": [
    "DETERMINE THE SESSION LOW/HIGH OF PRICE"
   ]
  },
  {
   "cell_type": "code",
   "execution_count": 14,
   "id": "035ec196-f163-4543-819c-c121e1ffca0d",
   "metadata": {},
   "outputs": [],
   "source": [
    "date_today = date.today()\n",
    "\n",
    "#HAVE THE DATAFRAME FOR THE LATEST LONDON SESSION:\n",
    "ldn_rates_frame = rates_frame[(rates_frame['time'].dt.date == date_today) & (rates_frame['time'].dt.hour >= 9) & (rates_frame['time'].dt.hour < 12)]\n",
    "#HAVE THE DATAFRAME FOR THE LATEST NEW YORK SESSION: \n",
    "ny_rates_frame = rates_frame[(rates_frame['time'].dt.date == date_today) & (rates_frame['time'].dt.hour >= 12) & (rates_frame['time'].dt.hour < 19)]"
   ]
  }
 ],
 "metadata": {
  "kernelspec": {
   "display_name": "Python 3 (ipykernel)",
   "language": "python",
   "name": "python3"
  },
  "language_info": {
   "codemirror_mode": {
    "name": "ipython",
    "version": 3
   },
   "file_extension": ".py",
   "mimetype": "text/x-python",
   "name": "python",
   "nbconvert_exporter": "python",
   "pygments_lexer": "ipython3",
   "version": "3.12.7"
  }
 },
 "nbformat": 4,
 "nbformat_minor": 5
}
