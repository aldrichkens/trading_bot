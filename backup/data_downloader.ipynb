{
 "cells": [
  {
   "cell_type": "code",
   "execution_count": 1,
   "id": "4f125bef-bb77-4f84-9365-0c1449b7363b",
   "metadata": {},
   "outputs": [],
   "source": [
    "import numpy\n",
    "import pandas as pd\n",
    "import MetaTrader5 as mt5\n",
    "from datetime import datetime"
   ]
  },
  {
   "cell_type": "code",
   "execution_count": 2,
   "id": "f07c8ef2-f5e4-4537-9945-2e2498cbed9e",
   "metadata": {},
   "outputs": [],
   "source": [
    "# Initialize the connection\n",
    "if not mt5.initialize():\n",
    "    print(\"initialize() failed, error code =\", mt5.last_error())\n",
    "    quit()"
   ]
  },
  {
   "cell_type": "code",
   "execution_count": 22,
   "id": "6ac49c4e-a952-49f8-9d9b-5b00a7ec104f",
   "metadata": {},
   "outputs": [],
   "source": [
    "#INPUTS\n",
    "# SYMBOLS = AUDSD, EURUSD,EURJPY, XAUUSD, EURGPY, USDJPY\n",
    "symbol = \"EURUSD\"\n",
    "timeframe = mt5.TIMEFRAME_M1  # 1-minute timeframe\n",
    "utc_from = datetime(2025, 1, 6)\n",
    "utc_to = datetime(2025, 1, 7)"
   ]
  },
  {
   "cell_type": "code",
   "execution_count": 23,
   "id": "ebbd31d3-9fc1-4cdd-ab4d-79808ab03e8b",
   "metadata": {},
   "outputs": [],
   "source": [
    "startdate=utc_from.strftime('%Y%m%d')\n",
    "enddate=utc_to.strftime('%Y%m%d')"
   ]
  },
  {
   "cell_type": "code",
   "execution_count": 24,
   "id": "719b80aa-dad3-4d92-8722-c2b3a3d35018",
   "metadata": {},
   "outputs": [
    {
     "name": "stdout",
     "output_type": "stream",
     "text": [
      "                   time     open     high      low    close  tick_volume  \\\n",
      "0   2025-01-06 00:00:00  1.03018  1.03021  1.03018  1.03021            2   \n",
      "1   2025-01-06 00:01:00  1.03021  1.03021  1.03003  1.03004            5   \n",
      "2   2025-01-06 00:02:00  1.03013  1.03013  1.03005  1.03005            2   \n",
      "3   2025-01-06 00:03:00  1.02998  1.02998  1.02998  1.02998            1   \n",
      "4   2025-01-06 00:04:00  1.03007  1.03007  1.03006  1.03007            3   \n",
      "..                  ...      ...      ...      ...      ...          ...   \n",
      "956 2025-01-06 15:56:00  1.04149  1.04151  1.04120  1.04143           56   \n",
      "957 2025-01-06 15:57:00  1.04142  1.04182  1.04130  1.04158           63   \n",
      "958 2025-01-06 15:58:00  1.04155  1.04160  1.04133  1.04143           54   \n",
      "959 2025-01-06 15:59:00  1.04144  1.04171  1.04144  1.04168           67   \n",
      "960 2025-01-06 16:00:00  1.04169  1.04201  1.04150  1.04196           73   \n",
      "\n",
      "     spread  real_volume  \n",
      "0        58            0  \n",
      "1        58            0  \n",
      "2        81            0  \n",
      "3       100            0  \n",
      "4        95            0  \n",
      "..      ...          ...  \n",
      "956       4            0  \n",
      "957       4            0  \n",
      "958       4            0  \n",
      "959       4            0  \n",
      "960       4            0  \n",
      "\n",
      "[961 rows x 8 columns]\n"
     ]
    }
   ],
   "source": [
    "# Get the OHLC data\n",
    "rates = mt5.copy_rates_range(symbol, timeframe, utc_from, utc_to)\n",
    "\n",
    "# Check if the data is downloaded successfully\n",
    "if rates is None:\n",
    "    print(\"No data available, error code =\", mt5.last_error())\n",
    "else:\n",
    "    # Convert the data to a pandas DataFrame\n",
    "    rates_frame = pd.DataFrame(rates)\n",
    "    # Convert the time in seconds to a datetime format\n",
    "    rates_frame['time'] = pd.to_datetime(rates_frame['time'], unit='s')\n",
    "\n",
    "    # Display the data\n",
    "    print(rates_frame)"
   ]
  },
  {
   "cell_type": "code",
   "execution_count": 25,
   "id": "3952c38c-1760-4115-8118-5ea3a40254e1",
   "metadata": {},
   "outputs": [],
   "source": [
    "rates_frame.drop([\"tick_volume\", \"spread\", \"real_volume\"], inplace=True, axis=1)"
   ]
  },
  {
   "cell_type": "code",
   "execution_count": 26,
   "id": "28321aca-0c08-4aae-86e9-98604bf43d21",
   "metadata": {},
   "outputs": [
    {
     "data": {
      "text/html": [
       "<div>\n",
       "<style scoped>\n",
       "    .dataframe tbody tr th:only-of-type {\n",
       "        vertical-align: middle;\n",
       "    }\n",
       "\n",
       "    .dataframe tbody tr th {\n",
       "        vertical-align: top;\n",
       "    }\n",
       "\n",
       "    .dataframe thead th {\n",
       "        text-align: right;\n",
       "    }\n",
       "</style>\n",
       "<table border=\"1\" class=\"dataframe\">\n",
       "  <thead>\n",
       "    <tr style=\"text-align: right;\">\n",
       "      <th></th>\n",
       "      <th>time</th>\n",
       "      <th>open</th>\n",
       "      <th>high</th>\n",
       "      <th>low</th>\n",
       "      <th>close</th>\n",
       "    </tr>\n",
       "  </thead>\n",
       "  <tbody>\n",
       "    <tr>\n",
       "      <th>0</th>\n",
       "      <td>2025-01-06 00:00:00</td>\n",
       "      <td>1.03018</td>\n",
       "      <td>1.03021</td>\n",
       "      <td>1.03018</td>\n",
       "      <td>1.03021</td>\n",
       "    </tr>\n",
       "    <tr>\n",
       "      <th>1</th>\n",
       "      <td>2025-01-06 00:01:00</td>\n",
       "      <td>1.03021</td>\n",
       "      <td>1.03021</td>\n",
       "      <td>1.03003</td>\n",
       "      <td>1.03004</td>\n",
       "    </tr>\n",
       "    <tr>\n",
       "      <th>2</th>\n",
       "      <td>2025-01-06 00:02:00</td>\n",
       "      <td>1.03013</td>\n",
       "      <td>1.03013</td>\n",
       "      <td>1.03005</td>\n",
       "      <td>1.03005</td>\n",
       "    </tr>\n",
       "    <tr>\n",
       "      <th>3</th>\n",
       "      <td>2025-01-06 00:03:00</td>\n",
       "      <td>1.02998</td>\n",
       "      <td>1.02998</td>\n",
       "      <td>1.02998</td>\n",
       "      <td>1.02998</td>\n",
       "    </tr>\n",
       "    <tr>\n",
       "      <th>4</th>\n",
       "      <td>2025-01-06 00:04:00</td>\n",
       "      <td>1.03007</td>\n",
       "      <td>1.03007</td>\n",
       "      <td>1.03006</td>\n",
       "      <td>1.03007</td>\n",
       "    </tr>\n",
       "    <tr>\n",
       "      <th>...</th>\n",
       "      <td>...</td>\n",
       "      <td>...</td>\n",
       "      <td>...</td>\n",
       "      <td>...</td>\n",
       "      <td>...</td>\n",
       "    </tr>\n",
       "    <tr>\n",
       "      <th>956</th>\n",
       "      <td>2025-01-06 15:56:00</td>\n",
       "      <td>1.04149</td>\n",
       "      <td>1.04151</td>\n",
       "      <td>1.04120</td>\n",
       "      <td>1.04143</td>\n",
       "    </tr>\n",
       "    <tr>\n",
       "      <th>957</th>\n",
       "      <td>2025-01-06 15:57:00</td>\n",
       "      <td>1.04142</td>\n",
       "      <td>1.04182</td>\n",
       "      <td>1.04130</td>\n",
       "      <td>1.04158</td>\n",
       "    </tr>\n",
       "    <tr>\n",
       "      <th>958</th>\n",
       "      <td>2025-01-06 15:58:00</td>\n",
       "      <td>1.04155</td>\n",
       "      <td>1.04160</td>\n",
       "      <td>1.04133</td>\n",
       "      <td>1.04143</td>\n",
       "    </tr>\n",
       "    <tr>\n",
       "      <th>959</th>\n",
       "      <td>2025-01-06 15:59:00</td>\n",
       "      <td>1.04144</td>\n",
       "      <td>1.04171</td>\n",
       "      <td>1.04144</td>\n",
       "      <td>1.04168</td>\n",
       "    </tr>\n",
       "    <tr>\n",
       "      <th>960</th>\n",
       "      <td>2025-01-06 16:00:00</td>\n",
       "      <td>1.04169</td>\n",
       "      <td>1.04201</td>\n",
       "      <td>1.04150</td>\n",
       "      <td>1.04196</td>\n",
       "    </tr>\n",
       "  </tbody>\n",
       "</table>\n",
       "<p>961 rows × 5 columns</p>\n",
       "</div>"
      ],
      "text/plain": [
       "                   time     open     high      low    close\n",
       "0   2025-01-06 00:00:00  1.03018  1.03021  1.03018  1.03021\n",
       "1   2025-01-06 00:01:00  1.03021  1.03021  1.03003  1.03004\n",
       "2   2025-01-06 00:02:00  1.03013  1.03013  1.03005  1.03005\n",
       "3   2025-01-06 00:03:00  1.02998  1.02998  1.02998  1.02998\n",
       "4   2025-01-06 00:04:00  1.03007  1.03007  1.03006  1.03007\n",
       "..                  ...      ...      ...      ...      ...\n",
       "956 2025-01-06 15:56:00  1.04149  1.04151  1.04120  1.04143\n",
       "957 2025-01-06 15:57:00  1.04142  1.04182  1.04130  1.04158\n",
       "958 2025-01-06 15:58:00  1.04155  1.04160  1.04133  1.04143\n",
       "959 2025-01-06 15:59:00  1.04144  1.04171  1.04144  1.04168\n",
       "960 2025-01-06 16:00:00  1.04169  1.04201  1.04150  1.04196\n",
       "\n",
       "[961 rows x 5 columns]"
      ]
     },
     "execution_count": 26,
     "metadata": {},
     "output_type": "execute_result"
    }
   ],
   "source": [
    "rates_frame"
   ]
  },
  {
   "cell_type": "code",
   "execution_count": 27,
   "id": "4f5b97eb-9f6c-459c-bb0e-c45b72ab368d",
   "metadata": {},
   "outputs": [],
   "source": [
    "rates_frame.to_csv(f'./OHLC_data/{symbol}_{startdate}_{enddate}.csv', index=False)"
   ]
  },
  {
   "cell_type": "code",
   "execution_count": null,
   "id": "346c81dc-a23a-4151-846e-5d6b5d175a5a",
   "metadata": {},
   "outputs": [],
   "source": []
  },
  {
   "cell_type": "code",
   "execution_count": null,
   "id": "5aa6e012-e3e2-463e-903d-33333c91f7c4",
   "metadata": {},
   "outputs": [],
   "source": []
  }
 ],
 "metadata": {
  "kernelspec": {
   "display_name": "Python 3 (ipykernel)",
   "language": "python",
   "name": "python3"
  },
  "language_info": {
   "codemirror_mode": {
    "name": "ipython",
    "version": 3
   },
   "file_extension": ".py",
   "mimetype": "text/x-python",
   "name": "python",
   "nbconvert_exporter": "python",
   "pygments_lexer": "ipython3",
   "version": "3.12.7"
  }
 },
 "nbformat": 4,
 "nbformat_minor": 5
}
