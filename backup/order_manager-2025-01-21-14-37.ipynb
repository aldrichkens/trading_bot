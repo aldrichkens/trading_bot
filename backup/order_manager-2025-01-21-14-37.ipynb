{
 "cells": [
  {
   "cell_type": "code",
   "execution_count": 1,
   "id": "499facbf-4c68-473f-becc-6f862ae0e8e7",
   "metadata": {},
   "outputs": [],
   "source": [
    "import MetaTrader5 as mt5"
   ]
  },
  {
   "cell_type": "code",
   "execution_count": 2,
   "id": "023da974-b850-4e0c-b118-97689c015d80",
   "metadata": {},
   "outputs": [],
   "source": [
    "def log_in_to_mt5():\n",
    "    if not mt5.initialize(login=89500879, server=\"MetaQuotes-Demo\", password=\"6kF-FhYd\"):\n",
    "        print(\"Initialization failed\")\n",
    "        print(mt5.last_error())\n",
    "        quit()\n",
    "    \n",
    "    print(\"Connected to MT5 successfully\")"
   ]
  },
  {
   "cell_type": "code",
   "execution_count": 3,
   "id": "836f99f6-f0b8-478a-b577-ddfb706bbcb7",
   "metadata": {},
   "outputs": [
    {
     "name": "stdout",
     "output_type": "stream",
     "text": [
      "Connected to MT5 successfully\n"
     ]
    }
   ],
   "source": [
    "log_in_to_mt5()"
   ]
  },
  {
   "cell_type": "code",
   "execution_count": 4,
   "id": "f1fe437c-8bd8-4f67-895b-6b7bd884f24e",
   "metadata": {},
   "outputs": [],
   "source": [
    "def calculate_lot_size(SL_size):\n",
    "    account_info = mt5.account_info()\n",
    "    account_size = account_info.balance\n",
    "    \n",
    "    risk_amount = round(account_size,5) * 0.0025\n",
    "    \n",
    "    lot_size = (risk_amount) / (SL_size * 10)\n",
    "    lot_size = round(lot_size,2)\n",
    "    \n",
    "    return lot_size"
   ]
  },
  {
   "cell_type": "markdown",
   "id": "daf7f7b8-d32d-4067-a03e-530956fcdecf",
   "metadata": {},
   "source": [
    "### BUY LIMIT ORDER "
   ]
  },
  {
   "cell_type": "code",
   "execution_count": 64,
   "id": "cead25ae-5922-4b58-9263-bedbe3b6bad1",
   "metadata": {},
   "outputs": [],
   "source": [
    "def place_buy_limit_order(symbol,limit_price, sl_price, tp_price, buy_tp):\n",
    "    SL_size = round(limit_price - sl_price,5) * 10000\n",
    "    lot_size = calculate_lot_size(SL_size)     # Trade volume (lot size)\n",
    "    \n",
    "    # Ensure the symbol is available\n",
    "    if not mt5.symbol_select(symbol, True):\n",
    "        print(f\"Failed to select symbol: {symbol}\")\n",
    "        mt5.shutdown()\n",
    "        quit()\n",
    "    \n",
    "    # Validate SL and TP distances\n",
    "    symbol_info = mt5.symbol_info(symbol)\n",
    "    if symbol_info is None:\n",
    "        print(f\"Symbol {symbol} not found\")\n",
    "        mt5.shutdown()\n",
    "        quit()\n",
    "    \n",
    "    # Prepare the request 1 (0.8 of the positions)\n",
    "    request1 = {\n",
    "        \"action\": mt5.TRADE_ACTION_PENDING,\n",
    "        \"symbol\": symbol,\n",
    "        \"volume\": round(lot_size * 0.8,2),\n",
    "        \"type\": mt5.ORDER_TYPE_BUY_LIMIT,\n",
    "        \"price\": limit_price,\n",
    "        \"sl\": sl_price,\n",
    "        \"tp\": tp_price,\n",
    "        \"deviation\": 50,\n",
    "        \"magic\": 123456,\n",
    "        \"type_time\": mt5.ORDER_TIME_GTC,\n",
    "        \"type_filling\": mt5.ORDER_FILLING_RETURN,\n",
    "    }\n",
    "  \n",
    "    # Send the 1st trade request\n",
    "    result1 = mt5.order_send(request1)\n",
    "    \n",
    "    if result1.retcode == mt5.TRADE_RETCODE_DONE:\n",
    "        print(f\"Buy limit order placed successfully! Order ID: {result1.order}\")\n",
    "    else:\n",
    "        print(f\"Failed to place buy limit order. Retcode: {result1.retcode}\")\n",
    "# ---------------------------------------------------------  \n",
    "    # Prepare the request 1 (0.2 of the positions)\n",
    "    request2 = {\n",
    "        \"action\": mt5.TRADE_ACTION_PENDING,\n",
    "        \"symbol\": symbol,\n",
    "        \"volume\": round(lot_size * 0.2,2),\n",
    "        \"type\": mt5.ORDER_TYPE_BUY_LIMIT,\n",
    "        \"price\": limit_price,\n",
    "        \"sl\": sl_price,\n",
    "        \"tp\": buy_tp,\n",
    "        \"deviation\": 50,\n",
    "        \"magic\": 123456,\n",
    "        \"type_time\": mt5.ORDER_TIME_GTC,\n",
    "        \"type_filling\": mt5.ORDER_FILLING_RETURN,\n",
    "    }\n",
    "    \n",
    "    # Send the 2nd trade request\n",
    "    result2 = mt5.order_send(request2)\n",
    "\n",
    "    if result2.retcode == mt5.TRADE_RETCODE_DONE:\n",
    "        print(f\"Buy limit order placed successfully! Order ID: {result2.order}\")\n",
    "    else:\n",
    "        print(f\"Failed to place buy limit order. Retcode: {result2.retcode}\")\n",
    "    return"
   ]
  },
  {
   "cell_type": "code",
   "execution_count": 65,
   "id": "148d1bc8-049e-413b-be66-4c6f5a2dda77",
   "metadata": {},
   "outputs": [
    {
     "name": "stdout",
     "output_type": "stream",
     "text": [
      "Buy limit order placed successfully! Order ID: 3251061943\n",
      "Buy limit order placed successfully! Order ID: 3251061953\n"
     ]
    }
   ],
   "source": [
    "symbol = 'EURUSD'\n",
    "limit_price=1.03541\n",
    "sl_price=1.03283\n",
    "tp_price=1.04176\n",
    "buy_tp=1.05261\n",
    "\n",
    "place_buy_limit_order(symbol,limit_price, sl_price, tp_price, buy_tp)"
   ]
  },
  {
   "cell_type": "markdown",
   "id": "9b44de5e-6c0a-4bf5-a451-8835a09854c2",
   "metadata": {},
   "source": [
    "### BUY STOP ORDER"
   ]
  },
  {
   "cell_type": "code",
   "execution_count": 60,
   "id": "8719fe5e-aa02-42d7-a522-bf94513709a8",
   "metadata": {},
   "outputs": [],
   "source": [
    "def place_buy_stop_order(symbol,stop_price, sl_price, tp_price, buy_tp):\n",
    "    \n",
    "    SL_size = round(stop_price - sl_price,5) * 10000\n",
    "    lot_size = calculate_lot_size(SL_size)     # Trade volume (lot size)\n",
    "    \n",
    "    # Ensure the symbol is available\n",
    "    if not mt5.symbol_select(symbol, True):\n",
    "        print(f\"Failed to select symbol: {symbol}\")\n",
    "        mt5.shutdown()\n",
    "        quit()\n",
    "    \n",
    "    # Prepare the request (80% of the volume)\n",
    "    request1 = {\n",
    "        \"action\": mt5.TRADE_ACTION_PENDING,  # Pending order\n",
    "        \"symbol\": symbol,\n",
    "        \"volume\": round(lot_size * 0.8,2),\n",
    "        \"type\": mt5.ORDER_TYPE_BUY_STOP,  # Buy stop order\n",
    "        \"price\": stop_price,  # The price at which the order will trigger (must be above current market price)\n",
    "        \"sl\": sl_price,        # Stop Loss level\n",
    "        \"tp\": tp_price,        # Take Profit level\n",
    "        \"deviation\": 50,       # Max price deviation (not used in pending orders)\n",
    "        \"magic\": 123456,       # Unique identifier for your trades\n",
    "        \"type_time\": mt5.ORDER_TIME_GTC,  # Good Till Cancelled\n",
    "        \"type_filling\": mt5.ORDER_FILLING_RETURN,  # Return unused portion\n",
    "    }\n",
    "\n",
    "    # Send the trade request\n",
    "    result1 = mt5.order_send(request1)\n",
    "    if result1 is None:\n",
    "        print(\"Failed to send order. Error:\", mt5.last_error())\n",
    "    else:\n",
    "        if result1.retcode == mt5.TRADE_RETCODE_DONE:\n",
    "            print(f\"Buy stop order placed successfully! Order ID: {result1.order}\")\n",
    "        else:\n",
    "            print(f\"Order failed, retcode: {result1.retcode}\")\n",
    "            print(\"Error details:\", result1)\n",
    "    #-------------------------------------------------\n",
    "\n",
    "    # Prepare the request (20% of the volume)\n",
    "    request2 = {\n",
    "        \"action\": mt5.TRADE_ACTION_PENDING,  # Pending order\n",
    "        \"symbol\": symbol,\n",
    "        \"volume\": round(lot_size * 0.2,2),\n",
    "        \"type\": mt5.ORDER_TYPE_BUY_STOP,  # Buy stop order\n",
    "        \"price\": stop_price,  # The price at which the order will trigger (must be above current market price)\n",
    "        \"sl\": sl_price,        # Stop Loss level\n",
    "        \"tp\": buy_tp,        # Take Profit level\n",
    "        \"deviation\": 50,       # Max price deviation (not used in pending orders)\n",
    "        \"magic\": 123456,       # Unique identifier for your trades\n",
    "        \"type_time\": mt5.ORDER_TIME_GTC,  # Good Till Cancelled\n",
    "        \"type_filling\": mt5.ORDER_FILLING_RETURN,  # Return unused portion\n",
    "    }\n",
    "\n",
    "    # Send the trade request\n",
    "    result2 = mt5.order_send(request2)\n",
    "    \n",
    "    # Check the result\n",
    "    if result2 is None:\n",
    "        print(\"Failed to send order. Error:\", mt5.last_error())\n",
    "    else:\n",
    "        if result2.retcode == mt5.TRADE_RETCODE_DONE:\n",
    "            print(f\"Buy stop order placed successfully! Order ID: {result2.order}\")\n",
    "        else:\n",
    "            print(f\"Order failed, retcode: {result2.retcode}\")\n",
    "            print(\"Error details:\", result2)\n",
    "    return"
   ]
  },
  {
   "cell_type": "code",
   "execution_count": 61,
   "id": "3c43b6da-482e-4172-8702-4717acad5250",
   "metadata": {},
   "outputs": [
    {
     "name": "stdout",
     "output_type": "stream",
     "text": [
      "Buy stop order placed successfully! Order ID: 3251059693\n",
      "Buy stop order placed successfully! Order ID: 3251059699\n"
     ]
    }
   ],
   "source": [
    "symbol = 'EURUSD'\n",
    "stop_price=1.04267\n",
    "sl_price=1.04000\n",
    "tp_price=1.04957\n",
    "buy_tp=1.05807\n",
    "\n",
    "place_buy_stop_order(symbol,stop_price, sl_price, tp_price, buy_tp)"
   ]
  },
  {
   "cell_type": "markdown",
   "id": "abf019d7-b911-4eba-98d7-4322ccb1eb9c",
   "metadata": {},
   "source": [
    "### SELL LIMIT ORDER"
   ]
  },
  {
   "cell_type": "code",
   "execution_count": 56,
   "id": "ffb346ea-ea5c-4928-b47d-b034f1db6f29",
   "metadata": {},
   "outputs": [],
   "source": [
    "def place_sell_limit_order(symbol,limit_price, sl_price, tp_price, sell_tp):\n",
    "\n",
    "    SL_size = round(sl_price - limit_price,5) * 10000\n",
    "    lot_size = calculate_lot_size(SL_size)     # Trade volume (lot size)\n",
    "    \n",
    "    # Ensure the symbol is available\n",
    "    if not mt5.symbol_select(symbol, True):\n",
    "        print(f\"Failed to select symbol: {symbol}\")\n",
    "        mt5.shutdown()\n",
    "        quit()\n",
    "    \n",
    "    # Validate SL and TP distances\n",
    "    symbol_info = mt5.symbol_info(symbol)\n",
    "    if symbol_info is None:\n",
    "        print(f\"Symbol {symbol} not found\")\n",
    "        mt5.shutdown()\n",
    "        quit()\n",
    "    \n",
    "    # Prepare the request (0.8 of the volume)\n",
    "    request1 = {\n",
    "        \"action\": mt5.TRADE_ACTION_PENDING,  # Pending order\n",
    "        \"symbol\": symbol,\n",
    "        \"volume\": round(lot_size * 0.8,2),\n",
    "        \"type\": mt5.ORDER_TYPE_SELL_LIMIT,  # Sell limit order\n",
    "        \"price\": limit_price,  # The price at which the order will trigger\n",
    "        \"sl\": sl_price,        # Stop Loss level\n",
    "        \"tp\": tp_price,        # Take Profit level\n",
    "        \"deviation\": 50,       # Max price deviation (not used in pending orders)\n",
    "        \"magic\": 123456,       # Unique identifier for your trades,\n",
    "        \"type_time\": mt5.ORDER_TIME_GTC,  # Good Till Cancelled\n",
    "        \"type_filling\": mt5.ORDER_FILLING_RETURN,  # Return unused portion\n",
    "    }\n",
    "    \n",
    "    # Send the trade request\n",
    "    result1 = mt5.order_send(request1)\n",
    "\n",
    "    if result1 is None:\n",
    "        print(\"Failed to send order. Error:\", mt5.last_error())\n",
    "    else:\n",
    "        if result1.retcode == mt5.TRADE_RETCODE_DONE:\n",
    "            print(f\"Sell limit order placed successfully! Order ID: {result1.order}\")\n",
    "        else:\n",
    "            print(f\"Order failed, retcode: {result1.retcode}\")\n",
    "            print(\"Error details:\", result1)\n",
    "    #---------------------------------\n",
    "    # Prepare the request (0.2 of the volume)\n",
    "    request2 = {\n",
    "        \"action\": mt5.TRADE_ACTION_PENDING,  # Pending order\n",
    "        \"symbol\": symbol,\n",
    "        \"volume\": round(lot_size * 0.2,2),\n",
    "        \"type\": mt5.ORDER_TYPE_SELL_LIMIT,  # Sell limit order\n",
    "        \"price\": limit_price,  # The price at which the order will trigger\n",
    "        \"sl\": sl_price,        # Stop Loss level\n",
    "        \"tp\": sell_tp,        # Take Profit level\n",
    "        \"deviation\": 50,       # Max price deviation (not used in pending orders)\n",
    "        \"magic\": 123456,       # Unique identifier for your trades,\n",
    "        \"type_time\": mt5.ORDER_TIME_GTC,  # Good Till Cancelled\n",
    "        \"type_filling\": mt5.ORDER_FILLING_RETURN,  # Return unused portion\n",
    "    }\n",
    "    \n",
    "    # Send the trade request\n",
    "    result2 = mt5.order_send(request2)\n",
    "    \n",
    "    if result2 is None:\n",
    "        print(\"Failed to send order. Error:\", mt5.last_error())\n",
    "    else:\n",
    "        if result2.retcode == mt5.TRADE_RETCODE_DONE:\n",
    "            print(f\"Sell limit order placed successfully! Order ID: {result2.order}\")\n",
    "        else:\n",
    "            print(f\"Order failed, retcode: {result2.retcode}\")\n",
    "            print(\"Error details:\", result2)\n",
    "    return"
   ]
  },
  {
   "cell_type": "code",
   "execution_count": 57,
   "id": "42876a4b-acd9-43d0-afd4-b4e7ccc2f859",
   "metadata": {},
   "outputs": [
    {
     "name": "stdout",
     "output_type": "stream",
     "text": [
      "Sell limit order placed successfully! Order ID: 3251058228\n",
      "Sell limit order placed successfully! Order ID: 3251058234\n"
     ]
    }
   ],
   "source": [
    "symbol = 'EURUSD'\n",
    "limit_price=1.04280\n",
    "sl_price=1.04344\n",
    "tp_price=1.03866\n",
    "sell_tp=1.03541\n",
    "\n",
    "place_sell_limit_order(symbol,limit_price, sl_price, tp_price, sell_tp)"
   ]
  },
  {
   "cell_type": "markdown",
   "id": "624d9da7-cb52-4861-9d1b-b17b437d1591",
   "metadata": {},
   "source": [
    "### SELL STOP ORDER"
   ]
  },
  {
   "cell_type": "code",
   "execution_count": 68,
   "id": "894002ee-973a-4dc6-adc0-008d1999cfe7",
   "metadata": {},
   "outputs": [],
   "source": [
    "def place_sell_stop_order(symbol,stop_price, sl_price, tp_price, sell_tp):\n",
    "    \n",
    "    SL_size = round(sl_price - stop_price,5) * 10000\n",
    "    lot_size = calculate_lot_size(SL_size)     # Trade volume (lot size)\n",
    "\n",
    "    # Ensure the symbol is available\n",
    "    if not mt5.symbol_select(symbol, True):\n",
    "        print(f\"Failed to select symbol: {symbol}\")\n",
    "        mt5.shutdown()\n",
    "        quit()\n",
    "    \n",
    "    # Validate SL and TP distances\n",
    "    symbol_info = mt5.symbol_info(symbol)\n",
    "    if symbol_info is None:\n",
    "        print(f\"Symbol {symbol} not found\")\n",
    "        mt5.shutdown()\n",
    "        quit()\n",
    "    \n",
    "    # Prepare the request (80% of the volume)\n",
    "    request1 = {\n",
    "        \"action\": mt5.TRADE_ACTION_PENDING,  # Pending order\n",
    "        \"symbol\": symbol,\n",
    "        \"volume\": round(lot_size * 0.8 ,2),\n",
    "        \"type\": mt5.ORDER_TYPE_SELL_STOP,  # Sell stop order\n",
    "        \"price\": stop_price,  # The price at which the order will trigger (must be below current market price)\n",
    "        \"sl\": sl_price,        # Stop Loss level\n",
    "        \"tp\": tp_price,        # Take Profit level\n",
    "        \"deviation\": 50,       # Max price deviation (not used in pending orders)\n",
    "        \"magic\": 123456,       # Unique identifier for your trades\n",
    "        \"type_time\": mt5.ORDER_TIME_GTC,  # Good Till Cancelled\n",
    "        \"type_filling\": mt5.ORDER_FILLING_RETURN,  # Return unused portion\n",
    "    }\n",
    "    \n",
    "    \n",
    "    # Send the trade request\n",
    "    result1 = mt5.order_send(request1)\n",
    "\n",
    "    if result1 is None:\n",
    "        print(\"Failed to send order. Error:\", mt5.last_error())\n",
    "    else:\n",
    "        if result1.retcode == mt5.TRADE_RETCODE_DONE:\n",
    "            print(f\"Sell limit order placed successfully! Order ID: {result1.order}\")\n",
    "        else:\n",
    "            print(f\"Order failed, retcode: {result1.retcode}\")\n",
    "            print(\"Error details:\", result1)\n",
    "    #------------------------------------------------------\n",
    "    # Prepare the request (20% of the volume)\n",
    "    request2 = {\n",
    "        \"action\": mt5.TRADE_ACTION_PENDING,  # Pending order\n",
    "        \"symbol\": symbol,\n",
    "        \"volume\": round(lot_size * 0.2 ,2),\n",
    "        \"type\": mt5.ORDER_TYPE_SELL_STOP,  # Sell stop order\n",
    "        \"price\": stop_price,  # The price at which the order will trigger (must be below current market price)\n",
    "        \"sl\": sl_price,        # Stop Loss level\n",
    "        \"tp\": sell_tp,        # Take Profit level\n",
    "        \"deviation\": 50,       # Max price deviation (not used in pending orders)\n",
    "        \"magic\": 123456,       # Unique identifier for your trades\n",
    "        \"type_time\": mt5.ORDER_TIME_GTC,  # Good Till Cancelled\n",
    "        \"type_filling\": mt5.ORDER_FILLING_RETURN,  # Return unused portion\n",
    "    }\n",
    "    \n",
    "    \n",
    "    # Send the trade request\n",
    "    result2 = mt5.order_send(request2)\n",
    "    # Check the result\n",
    "    if result2 is None:\n",
    "        print(\"Failed to send order. Error:\", mt5.last_error())\n",
    "    else:\n",
    "        if result2.retcode == mt5.TRADE_RETCODE_DONE:\n",
    "            print(f\"Sell limit order placed successfully! Order ID: {result2.order}\")\n",
    "        else:\n",
    "            print(f\"Order failed, retcode: {result2.retcode}\")\n",
    "            print(\"Error details:\", result2)\n",
    "    return"
   ]
  },
  {
   "cell_type": "code",
   "execution_count": 69,
   "id": "d1167c1d-a18f-43a4-be49-68f5cf96be26",
   "metadata": {},
   "outputs": [
    {
     "name": "stdout",
     "output_type": "stream",
     "text": [
      "Sell limit order placed successfully! Order ID: 3251103884\n",
      "Sell limit order placed successfully! Order ID: 3251103894\n"
     ]
    }
   ],
   "source": [
    "symbol = 'EURUSD'\n",
    "stop_price=1.03055\n",
    "sl_price=1.03423\n",
    "tp_price=1.02138\n",
    "sell_tp=1.01251\n",
    "\n",
    "place_sell_stop_order(symbol,stop_price, sl_price, tp_price, sell_tp)"
   ]
  },
  {
   "cell_type": "markdown",
   "id": "53c9971e-3e13-4a44-8a2e-1de8cfec4679",
   "metadata": {},
   "source": [
    "### MOVING THE STOP LOSS  FOR AN ONGOING TRADE (FOR BOTH BUYS AND SELLS)"
   ]
  },
  {
   "cell_type": "code",
   "execution_count": 76,
   "id": "3a0ac9ea-a48b-41f8-a098-f94914149530",
   "metadata": {},
   "outputs": [],
   "source": [
    "def trail_stop_loss(symbol, new_stop_loss):\n",
    "    \"\"\"\n",
    "    Adjusts the stop loss for all open positions of the given symbol, grouping them by symbol.\n",
    "    \"\"\"\n",
    "    # Retrieve all open positions\n",
    "    positions = mt5.positions_get()\n",
    "\n",
    "    if positions is None or len(positions) == 0:\n",
    "        print(\"No active positions found.\")\n",
    "        mt5.shutdown()\n",
    "        return\n",
    "\n",
    "    # Filter positions by the provided symbol\n",
    "    positions_by_symbol = [position for position in positions if position.symbol == symbol]\n",
    "\n",
    "    if len(positions_by_symbol) == 0:\n",
    "        print(f\"No active positions found for symbol: {symbol}\")\n",
    "        return\n",
    "\n",
    "    # Iterate over all positions for the given symbol and adjust stop loss\n",
    "    for position in positions_by_symbol:\n",
    "        # Prepare the modification request to update the Stop Loss\n",
    "        request = {\n",
    "            \"action\": mt5.TRADE_ACTION_SLTP,  # Specify action for Stop Loss / Take Profit modification\n",
    "            \"symbol\": position.symbol,        # Symbol of the position\n",
    "            \"sl\": new_stop_loss,              # New Stop Loss price provided by your logic\n",
    "            \"tp\": position.tp,                # Keep the existing Take Profit\n",
    "            \"position\": position.ticket,      # Position ID of the trade to modify\n",
    "            \"deviation\": 50,                  # Max price deviation allowed\n",
    "            \"magic\": position.magic,          # Unique identifier for your trades\n",
    "            \"comment\": \"Trailing Stop Adjust\",# Comment for the trade modification\n",
    "        }\n",
    "\n",
    "        # Send the modification request\n",
    "        result = mt5.order_send(request)\n",
    "\n",
    "        # Check the result of the request\n",
    "        if result is None:\n",
    "            print(f\"Failed to modify stop loss for position {position.ticket}. Error:\", mt5.last_error())\n",
    "        else:\n",
    "            if result.retcode == mt5.TRADE_RETCODE_DONE:\n",
    "                print(f\"Stop loss modified successfully for position {position.ticket}. New SL: {new_stop_loss}\")\n",
    "            else:\n",
    "                print(f\"Failed to modify stop loss for position {position.ticket}, retcode: {result.retcode}\")\n",
    "                print(\"Error details:\", result)\n",
    "\n",
    "    print(f\"Stop loss adjustment completed for all positions of symbol: {symbol}\")"
   ]
  },
  {
   "cell_type": "code",
   "execution_count": 77,
   "id": "71d132c8-27e6-4f35-b121-75637d11a8c2",
   "metadata": {},
   "outputs": [
    {
     "name": "stdout",
     "output_type": "stream",
     "text": [
      "Stop loss modified successfully for position 3251150731. New SL: 1.03998\n",
      "Stop loss modified successfully for position 3251150894. New SL: 1.03998\n",
      "Stop loss adjustment completed for all positions of symbol: EURUSD\n"
     ]
    }
   ],
   "source": [
    "symbol = 'EURUSD'\n",
    "new_stop_loss = 1.03998\n",
    "trail_stop_loss(symbol, new_stop_loss)"
   ]
  },
  {
   "cell_type": "markdown",
   "id": "76b74c89-b581-4fb6-9772-111a8861aab5",
   "metadata": {},
   "source": [
    "### DELETING AN ORDER (BUY LIMIT, BUY ORDER, SELL LIMIT, SELL ORDER)"
   ]
  },
  {
   "cell_type": "code",
   "execution_count": 74,
   "id": "2e5a2c81-2a23-48d5-96cd-3fbc72aef715",
   "metadata": {},
   "outputs": [],
   "source": [
    "def delete_order(symbol):\n",
    "    # Retrieve all pending orders\n",
    "    orders = mt5.orders_get()\n",
    "    \n",
    "    if orders is None or len(orders) == 0:\n",
    "        print(\"No active orders or failed to retrieve orders.\")\n",
    "        return\n",
    "    else:\n",
    "        # Group orders by entry price\n",
    "        orders_by_price = {}\n",
    "        for order in orders:\n",
    "            entry_price = order.price_open  # Entry price of the order\n",
    "            if entry_price not in orders_by_price:\n",
    "                orders_by_price[entry_price] = []\n",
    "            orders_by_price[entry_price].append(order)\n",
    "        # Delete orders with the same entry price\n",
    "        for price, orders_list in orders_by_price.items():\n",
    "            if len(orders_list) > 1:  # Only act on duplicate entry prices\n",
    "                print(f\"Deleting orders with the same entry price ({price}):\")\n",
    "                for order in orders_list:\n",
    "                    delete_request = {\n",
    "                        \"action\": mt5.TRADE_ACTION_REMOVE,\n",
    "                        \"order\": order.ticket,  # Order ID to delete\n",
    "                        \"magic\": order.magic,   # Magic number\n",
    "                        \"symbol\": order.symbol  # Symbol of the order\n",
    "                    }\n",
    "                    # Send the delete request\n",
    "                    result = mt5.order_send(delete_request)\n",
    "                    if result.retcode == mt5.TRADE_RETCODE_DONE:\n",
    "                        print(f\"Order {order.ticket} deleted successfully.\")\n",
    "                    else:\n",
    "                        print(f\"Failed to delete order {order.ticket}. Retcode: {result.retcode}\")\n",
    "    # Send the request to delete the order\n",
    "    return "
   ]
  },
  {
   "cell_type": "code",
   "execution_count": 75,
   "id": "2f4f39e9-3819-4ead-8ed2-af1e7f07265c",
   "metadata": {},
   "outputs": [
    {
     "name": "stdout",
     "output_type": "stream",
     "text": [
      "Deleting orders with the same entry price (1.03055):\n",
      "Order 3251103884 deleted successfully.\n",
      "Order 3251103894 deleted successfully.\n"
     ]
    }
   ],
   "source": [
    "symbol = 'EURUSD'\n",
    "delete_order(symbol)"
   ]
  },
  {
   "cell_type": "code",
   "execution_count": null,
   "id": "10ad7c89-8412-4e63-9a97-57bcff8eba06",
   "metadata": {},
   "outputs": [],
   "source": []
  }
 ],
 "metadata": {
  "kernelspec": {
   "display_name": "Python 3 (ipykernel)",
   "language": "python",
   "name": "python3"
  },
  "language_info": {
   "codemirror_mode": {
    "name": "ipython",
    "version": 3
   },
   "file_extension": ".py",
   "mimetype": "text/x-python",
   "name": "python",
   "nbconvert_exporter": "python",
   "pygments_lexer": "ipython3",
   "version": "3.12.7"
  }
 },
 "nbformat": 4,
 "nbformat_minor": 5
}
