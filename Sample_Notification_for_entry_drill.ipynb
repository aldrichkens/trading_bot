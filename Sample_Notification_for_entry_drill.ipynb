{
 "cells": [
  {
   "cell_type": "code",
   "execution_count": 1,
   "id": "fbdaf1ba-3da9-4ee4-b761-b288c3fff4aa",
   "metadata": {},
   "outputs": [],
   "source": [
    "import os\n",
    "import platform\n",
    "import time"
   ]
  },
  {
   "cell_type": "code",
   "execution_count": 2,
   "id": "ae9e2f40-929d-47c9-b0bd-a158fb117df5",
   "metadata": {},
   "outputs": [],
   "source": [
    "def alarm_and_get_input():\n",
    "    # Play a notification sound or system beep\n",
    "    if platform.system() == \"Windows\":\n",
    "        import winsound\n",
    "        winsound.Beep(1000, 3000)  # Frequency 1000 Hz, Duration 3000 ms\n",
    "    else:\n",
    "        print(\"\\a\")  # ASCII Bell (works on macOS/Linux)\n",
    "    \n",
    "    # Display a message\n",
    "    print(\"🚨 Entry signal detected! 🚨\")\n",
    "    \n",
    "    # Wait for user input\n",
    "    while True:\n",
    "        decision = input(\"Take the trade? (Y/N): \").strip().lower()\n",
    "        if decision in ['y', 'n']:\n",
    "            return decision\n",
    "        else:\n",
    "            print(\"Invalid input. Please type 'Y' or 'N'.\")"
   ]
  },
  {
   "cell_type": "code",
   "execution_count": 5,
   "id": "cfd28946-edbc-4edd-8b72-bb58c054397c",
   "metadata": {},
   "outputs": [
    {
     "name": "stdout",
     "output_type": "stream",
     "text": [
      "🚨 Entry signal detected! 🚨\n"
     ]
    },
    {
     "name": "stdin",
     "output_type": "stream",
     "text": [
      "Take the trade? (Y/N):  y\n"
     ]
    },
    {
     "name": "stdout",
     "output_type": "stream",
     "text": [
      "✅ Trade confirmed!\n"
     ]
    }
   ],
   "source": [
    "decision = alarm_and_get_input()\n",
    "if decision == 'y':\n",
    "    print(\"✅ Trade confirmed!\")\n",
    "elif decision == 'n':\n",
    "    print(\"❌ Trade declined.\")"
   ]
  },
  {
   "cell_type": "code",
   "execution_count": null,
   "id": "11de3835-383b-4ec1-8ddc-b2009dd1f495",
   "metadata": {},
   "outputs": [],
   "source": []
  }
 ],
 "metadata": {
  "kernelspec": {
   "display_name": "Python 3 (ipykernel)",
   "language": "python",
   "name": "python3"
  },
  "language_info": {
   "codemirror_mode": {
    "name": "ipython",
    "version": 3
   },
   "file_extension": ".py",
   "mimetype": "text/x-python",
   "name": "python",
   "nbconvert_exporter": "python",
   "pygments_lexer": "ipython3",
   "version": "3.12.7"
  }
 },
 "nbformat": 4,
 "nbformat_minor": 5
}
