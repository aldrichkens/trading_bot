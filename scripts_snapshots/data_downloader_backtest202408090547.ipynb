{
 "cells": [
  {
   "cell_type": "code",
   "execution_count": 1,
   "id": "4f125bef-bb77-4f84-9365-0c1449b7363b",
   "metadata": {},
   "outputs": [
    {
     "name": "stdout",
     "output_type": "stream",
     "text": [
      "yawa\n",
      "yawa\n",
      "yawa\n",
      "yawa\n"
     ]
    }
   ],
   "source": [
    "import numpy\n",
    "print('yawa')\n",
    "import pandas as pd\n",
    "print('yawa')\n",
    "import MetaTrader5 as mt5\n",
    "print('yawa')\n",
    "from datetime import datetime\n",
    "print('yawa')"
   ]
  },
  {
   "cell_type": "code",
   "execution_count": 2,
   "id": "f07c8ef2-f5e4-4537-9945-2e2498cbed9e",
   "metadata": {},
   "outputs": [],
   "source": [
    "# Initialize the connection\n",
    "if not mt5.initialize():\n",
    "    print(\"initialize() failed, error code =\", mt5.last_error())\n",
    "    quit()"
   ]
  },
  {
   "cell_type": "code",
   "execution_count": 5,
   "id": "6ac49c4e-a952-49f8-9d9b-5b00a7ec104f",
   "metadata": {},
   "outputs": [
    {
     "name": "stdin",
     "output_type": "stream",
     "text": [
      "year:  2024\n",
      "start month:  7\n",
      "start day of  the month:  5\n",
      "end month:  7\n",
      "end day of  the month:  6\n"
     ]
    }
   ],
   "source": [
    "#INPUTS\n",
    "# SYMBOLS = AUDSD, EURUSD,EURJPY, XAUUSD, EURGPY, USDJPY,\n",
    "#symbol = input(\"Choose one AUDSD, EURUSD,EURJPY, XAUUSD, EURGBP, USDJPY.... :\").upper()\n",
    "symbol = [\"AUDUSD\",\"EURUSD\",\"EURJPY\",\"XAUUSD\",\"EURGBP\",\"USDJPY\",\"USDCAD\",\"GBPUSD\"]\n",
    "timeframe = mt5.TIMEFRAME_M1  # 1-minute timeframe\n",
    "year = int(input(\"year: \"))\n",
    "start_month = int(input(\"start month: \"))\n",
    "start_dom = int(input(\"start day of  the month: \"))\n",
    "end_month = int(input(\"end month: \"))\n",
    "end_dom = int(input(\"end day of  the month: \"))\n",
    "utc_from = datetime(year, start_month, start_dom)\n",
    "utc_to = datetime(year, end_month, end_dom)"
   ]
  },
  {
   "cell_type": "code",
   "execution_count": 6,
   "id": "719b80aa-dad3-4d92-8722-c2b3a3d35018",
   "metadata": {},
   "outputs": [],
   "source": [
    "startdate=utc_from.strftime('%Y%m%d')\n",
    "enddate=utc_to.strftime('%Y%m%d')"
   ]
  },
  {
   "cell_type": "code",
   "execution_count": 8,
   "id": "08dac50e-16d6-4cad-9fce-99ec494bde4e",
   "metadata": {},
   "outputs": [
    {
     "name": "stdout",
     "output_type": "stream",
     "text": [
      "<class 'str'>\n"
     ]
    }
   ],
   "source": []
  },
  {
   "cell_type": "code",
   "execution_count": null,
   "id": "3952c38c-1760-4115-8118-5ea3a40254e1",
   "metadata": {},
   "outputs": [],
   "source": [
    "for symbol in symbol:\n",
    "    # Get the OHLC data\n",
    "    rates = mt5.copy_rates_range(symbol, timeframe, utc_from, utc_to)\n",
    "    \n",
    "    # Check if the data is downloaded successfully\n",
    "    if rates is None:\n",
    "        print(\"No data available, error code =\", mt5.last_error())\n",
    "    else:\n",
    "        # Convert the data to a pandas DataFrame\n",
    "        rates_frame = pd.DataFrame(rates)\n",
    "        # Convert the time in seconds to a datetime format\n",
    "        rates_frame['time'] = pd.to_datetime(rates_frame['time'], unit='s')\n",
    "    rates_frame.drop([\"tick_volume\", \"spread\", \"real_volume\"], inplace=True, axis=1)\n",
    "    rates_frame[\"date\"] = rates_frame[\"time\"].astype(\"str\").str[:10]\n",
    "    rates_frame[\"time\"] = rates_frame[\"time\"].astype(\"str\").str[11:16]\n",
    "    rates = rates_frame.reindex(labels=[\"date\", \"time\", \"open\", \"high\", \"low\", \"close\"], axis = 1)\n",
    "    rates.to_csv(f'./{symbol}_{startdate}_{enddate}.csv', index=False)"
   ]
  },
  {
   "cell_type": "markdown",
   "id": "0efde784-5263-4e23-8661-6bfa30e0c5f6",
   "metadata": {},
   "source": []
  }
 ],
 "metadata": {
  "kernelspec": {
   "display_name": "Python 3 (ipykernel)",
   "language": "python",
   "name": "python3"
  },
  "language_info": {
   "codemirror_mode": {
    "name": "ipython",
    "version": 3
   },
   "file_extension": ".py",
   "mimetype": "text/x-python",
   "name": "python",
   "nbconvert_exporter": "python",
   "pygments_lexer": "ipython3",
   "version": "3.11.9"
  }
 },
 "nbformat": 4,
 "nbformat_minor": 5
}
