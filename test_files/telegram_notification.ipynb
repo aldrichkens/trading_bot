{
 "cells": [
  {
   "cell_type": "code",
   "execution_count": 18,
   "id": "f310c74e-d452-488b-9b85-a7c7bbe40993",
   "metadata": {},
   "outputs": [],
   "source": [
    "import nest_asyncio\n",
    "import asyncio\n",
    "from telegram import InlineKeyboardButton, InlineKeyboardMarkup\n",
    "from telegram.ext import Application, CallbackQueryHandler\n",
    "from datetime import datetime, timedelta, timezone, date"
   ]
  },
  {
   "cell_type": "code",
   "execution_count": 25,
   "id": "8f7a1052-eeaa-4115-bf0a-10362ae1872f",
   "metadata": {},
   "outputs": [],
   "source": [
    "with open(\"parameters.txt\", \"r\") as file:\n",
    "    exec(file.read())"
   ]
  },
  {
   "cell_type": "code",
   "execution_count": 20,
   "id": "a279151d-b0ae-4ee1-87bb-b097267927d3",
   "metadata": {},
   "outputs": [],
   "source": [
    "decision = None"
   ]
  },
  {
   "cell_type": "code",
   "execution_count": 28,
   "id": "34edcf58-27f3-49bf-9be3-5705ded9e120",
   "metadata": {},
   "outputs": [],
   "source": [
    "async def alarm_and_decide():\n",
    "    global decision\n",
    "    # Apply the patch for nested asyncio event loops\n",
    "    nest_asyncio.apply()\n",
    "    \n",
    "    user_input = None  # Variable to store the decision\n",
    "    \n",
    "    app = Application.builder().token(chatbot_token).build()  # Replace with your actual bot token\n",
    "    \n",
    "    # Create the buttons for \"Yes\" and \"No\"\n",
    "    keyboard = [\n",
    "        [InlineKeyboardButton(\"Yes\", callback_data='yes')],\n",
    "        [InlineKeyboardButton(\"No\", callback_data='no')]\n",
    "    ]\n",
    "    reply_markup = InlineKeyboardMarkup(keyboard)\n",
    "    \n",
    "    # Send the message with buttons\n",
    "    await app.bot.send_message(chat_id=chat_id, text=f\"🚨 {symbol} entry signal detected! 🚨 \\n {datetime.now().strftime(\"%Y-%m-%d %I:%M %p\")}\\n   Take the trade?\", reply_markup=reply_markup)\n",
    "    \n",
    "    async def handle_callback_query(update, context):\n",
    "        global decision\n",
    "        decision = update.callback_query.data  # Store the decision (\"yes\" or \"no\")\n",
    "        \n",
    "        # Acknowledge the callback\n",
    "        await update.callback_query.answer()\n",
    "    \n",
    "        # Stop the polling loop immediately\n",
    "        asyncio.get_event_loop().stop()  # Stop the event loop after the callback\n",
    "        message_id = update.callback_query.message.message_id\n",
    "        await context.bot.edit_message_reply_markup(chat_id=chat_id, message_id=message_id, reply_markup=None)\n",
    "        await context.bot.send_message(chat_id=chat_id, text=f\"Your decision: {decision}\")\n",
    "    app.add_handler(CallbackQueryHandler(handle_callback_query))\n",
    "    \n",
    "    try:\n",
    "        await app.run_polling()\n",
    "    except (RuntimeError, RuntimeWarning) as RTE_RTW:\n",
    "        pass"
   ]
  },
  {
   "cell_type": "code",
   "execution_count": 29,
   "id": "a4088fb2-4464-49ae-83a7-89854bb05441",
   "metadata": {},
   "outputs": [],
   "source": [
    "await alarm_and_decide()"
   ]
  },
  {
   "cell_type": "code",
   "execution_count": 30,
   "id": "1243dbb4-a04c-456e-aecb-f42cc77c4255",
   "metadata": {},
   "outputs": [
    {
     "data": {
      "text/plain": [
       "'no'"
      ]
     },
     "execution_count": 30,
     "metadata": {},
     "output_type": "execute_result"
    }
   ],
   "source": [
    "decision"
   ]
  },
  {
   "cell_type": "code",
   "execution_count": null,
   "id": "7aa50b8c-44eb-41fd-8f98-835582b33607",
   "metadata": {},
   "outputs": [],
   "source": []
  }
 ],
 "metadata": {
  "kernelspec": {
   "display_name": "Python 3 (ipykernel)",
   "language": "python",
   "name": "python3"
  },
  "language_info": {
   "codemirror_mode": {
    "name": "ipython",
    "version": 3
   },
   "file_extension": ".py",
   "mimetype": "text/x-python",
   "name": "python",
   "nbconvert_exporter": "python",
   "pygments_lexer": "ipython3",
   "version": "3.12.7"
  }
 },
 "nbformat": 4,
 "nbformat_minor": 5
}
