{
 "cells": [
  {
   "cell_type": "code",
   "execution_count": 9,
   "id": "f0b2cbff-c7d2-47fe-b561-815fff9d9d8a",
   "metadata": {},
   "outputs": [
    {
     "name": "stdout",
     "output_type": "stream",
     "text": [
      "Connected to MT5 successfully\n",
      "                    time     open     high      low    close  tick_volume  \\\n",
      "0    2025-02-03 00:01:00  190.288  190.650  190.182  190.450           32   \n",
      "1    2025-02-03 00:02:00  190.279  190.311  190.228  190.231           12   \n",
      "2    2025-02-03 00:03:00  190.355  190.387  190.355  190.387            3   \n",
      "3    2025-02-03 00:04:00  190.386  190.412  190.372  190.410            7   \n",
      "4    2025-02-03 00:05:00  190.408  190.513  190.408  190.513            7   \n",
      "...                  ...      ...      ...      ...      ...          ...   \n",
      "1212 2025-02-03 20:14:00  191.719  191.750  191.693  191.699           63   \n",
      "1213 2025-02-03 20:15:00  191.693  191.727  191.692  191.724           59   \n",
      "1214 2025-02-03 20:16:00  191.723  191.754  191.706  191.751           69   \n",
      "1215 2025-02-03 20:17:00  191.750  191.787  191.708  191.759           77   \n",
      "1216 2025-02-03 20:18:00  191.759  191.797  191.744  191.744           52   \n",
      "\n",
      "      spread  real_volume  \n",
      "0        221            0  \n",
      "1        336            0  \n",
      "2        404            0  \n",
      "3        329            0  \n",
      "4        333            0  \n",
      "...      ...          ...  \n",
      "1212      22            0  \n",
      "1213      19            0  \n",
      "1214      20            0  \n",
      "1215      23            0  \n",
      "1216      21            0  \n",
      "\n",
      "[1217 rows x 8 columns]\n"
     ]
    }
   ],
   "source": [
    "import numpy\n",
    "import pandas as pd\n",
    "import MetaTrader5 as mt5\n",
    "from datetime import datetime\n",
    "\n",
    "if not mt5.initialize(login=89500879, server=\"MetaQuotes-Demo\", password=\"6kF-FhYd\"):\n",
    "    print(\"Initialization failed\")\n",
    "    print(mt5.last_error())\n",
    "    quit()\n",
    "\n",
    "print(\"Connected to MT5 successfully\")\n",
    "\n",
    "#INPUTS\n",
    "# SYMBOLS = AUDSD, EURUSD,EURJPY, XAUUSD, EURGPY, USDJPY\n",
    "symbol = \"GBPJPY\"\n",
    "timeframe = mt5.TIMEFRAME_M1  # 1-minute timeframe\n",
    "utc_from = datetime(2025, 2, 3)\n",
    "utc_to = datetime(2025, 2, 5)\n",
    "\n",
    "startdate=utc_from.strftime('%Y%m%d')\n",
    "enddate=utc_to.strftime('%Y%m%d')\n",
    "\n",
    "# Get the OHLC data\n",
    "rates = mt5.copy_rates_range(symbol, timeframe, utc_from, utc_to)\n",
    "\n",
    "# Check if the data is downloaded successfully\n",
    "if rates is None:\n",
    "    print(\"No data available, error code =\", mt5.last_error())\n",
    "else:\n",
    "    # Convert the data to a pandas DataFrame\n",
    "    rates_frame = pd.DataFrame(rates)\n",
    "    # Convert the time in seconds to a datetime format\n",
    "    rates_frame['time'] = pd.to_datetime(rates_frame['time'], unit='s')\n",
    "\n",
    "    # Display the data\n",
    "    print(rates_frame)\n",
    "\n",
    "rates_frame.drop([\"tick_volume\", \"spread\", \"real_volume\"], inplace=True, axis=1)\n",
    "\n",
    "rates_frame.tail(40)\n",
    "\n",
    "rates_frame.to_csv(f'./OHLC_data/{symbol}_{startdate}_{enddate}.csv', index=False)"
   ]
  },
  {
   "cell_type": "code",
   "execution_count": null,
   "id": "51c34960-526a-466b-ba00-9b7c522291bd",
   "metadata": {},
   "outputs": [],
   "source": []
  },
  {
   "cell_type": "code",
   "execution_count": null,
   "id": "29ec5c76-791a-473f-992e-f59cfaf441c6",
   "metadata": {},
   "outputs": [],
   "source": []
  }
 ],
 "metadata": {
  "kernelspec": {
   "display_name": "Python 3 (ipykernel)",
   "language": "python",
   "name": "python3"
  },
  "language_info": {
   "codemirror_mode": {
    "name": "ipython",
    "version": 3
   },
   "file_extension": ".py",
   "mimetype": "text/x-python",
   "name": "python",
   "nbconvert_exporter": "python",
   "pygments_lexer": "ipython3",
   "version": "3.12.7"
  }
 },
 "nbformat": 4,
 "nbformat_minor": 5
}
