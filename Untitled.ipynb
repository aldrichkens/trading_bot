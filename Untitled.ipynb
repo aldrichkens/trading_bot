{
 "cells": [
  {
   "cell_type": "code",
   "execution_count": 20,
   "id": "4e4b6133-845d-4774-8065-ae3d83327f66",
   "metadata": {},
   "outputs": [],
   "source": [
    "p3_h_or_l = []"
   ]
  },
  {
   "cell_type": "code",
   "execution_count": null,
   "id": "d3dc8cec-26d4-4892-82ae-9625959f75dd",
   "metadata": {},
   "outputs": [],
   "source": []
  },
  {
   "cell_type": "code",
   "execution_count": 21,
   "id": "85018736-ff72-4d77-81c9-598c27a3e639",
   "metadata": {},
   "outputs": [],
   "source": [
    "def check_p3_if_it_exists_already(p3y):\n",
    "    global p3_h_or_l\n",
    "    if p3y in p3_h_or_l:\n",
    "        p3y_repeat = True\n",
    "    elif p3y not in p3_h_or_l:\n",
    "        p3y_repeat  = False\n",
    "        p3_h_or_l.append(p3y)\n",
    "    return p3y_repeat"
   ]
  },
  {
   "cell_type": "code",
   "execution_count": null,
   "id": "65092306-295f-45dd-95c8-f75867597e45",
   "metadata": {},
   "outputs": [],
   "source": []
  },
  {
   "cell_type": "code",
   "execution_count": 40,
   "id": "42b7ce23-49d5-4cb4-b440-298144bd5c40",
   "metadata": {},
   "outputs": [],
   "source": [
    "p3y = 1.001"
   ]
  },
  {
   "cell_type": "code",
   "execution_count": 41,
   "id": "5acb2847-b0d3-47b7-86d4-b433909c1b88",
   "metadata": {},
   "outputs": [
    {
     "data": {
      "text/plain": [
       "True"
      ]
     },
     "execution_count": 41,
     "metadata": {},
     "output_type": "execute_result"
    }
   ],
   "source": [
    "p3y_repeat = check_p3_if_it_exists_already(p3y)\n",
    "p3y_repeat"
   ]
  },
  {
   "cell_type": "code",
   "execution_count": 42,
   "id": "64f33074-0415-4e56-acce-f337ac8ffe57",
   "metadata": {},
   "outputs": [
    {
     "data": {
      "text/plain": [
       "[1.001, 1.002, 1.005, 1.003, 1.006]"
      ]
     },
     "execution_count": 42,
     "metadata": {},
     "output_type": "execute_result"
    }
   ],
   "source": [
    "p3_h_or_l"
   ]
  },
  {
   "cell_type": "code",
   "execution_count": null,
   "id": "45fa1526-b6ca-45e1-9437-eda89b4ce70e",
   "metadata": {},
   "outputs": [],
   "source": []
  }
 ],
 "metadata": {
  "kernelspec": {
   "display_name": "Python 3 (ipykernel)",
   "language": "python",
   "name": "python3"
  },
  "language_info": {
   "codemirror_mode": {
    "name": "ipython",
    "version": 3
   },
   "file_extension": ".py",
   "mimetype": "text/x-python",
   "name": "python",
   "nbconvert_exporter": "python",
   "pygments_lexer": "ipython3",
   "version": "3.12.7"
  }
 },
 "nbformat": 4,
 "nbformat_minor": 5
}
