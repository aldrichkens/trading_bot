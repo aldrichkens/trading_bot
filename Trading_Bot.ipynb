{
 "cells": [
  {
   "cell_type": "code",
   "execution_count": 1,
   "id": "0ba18578-75d5-43b8-a097-11e19f98d1f0",
   "metadata": {},
   "outputs": [],
   "source": [
    "import numpy as np\n",
    "import pandas as pd\n",
    "from datetime import datetime, timedelta\n",
    "from scipy.signal import find_peaks"
   ]
  },
  {
   "cell_type": "code",
   "execution_count": 5,
   "id": "5c0333c0-712f-4e1f-a17f-b4f538b62179",
   "metadata": {},
   "outputs": [
    {
     "ename": "NameError",
     "evalue": "name 'mt5' is not defined",
     "output_type": "error",
     "traceback": [
      "\u001b[0;31m---------------------------------------------------------------------------\u001b[0m",
      "\u001b[0;31mNameError\u001b[0m                                 Traceback (most recent call last)",
      "Cell \u001b[0;32mIn[5], line 2\u001b[0m\n\u001b[1;32m      1\u001b[0m \u001b[38;5;66;03m# Initialize MetaTrader 5 connection\u001b[39;00m\n\u001b[0;32m----> 2\u001b[0m \u001b[38;5;28;01mif\u001b[39;00m \u001b[38;5;129;01mnot\u001b[39;00m mt5\u001b[38;5;241m.\u001b[39minitialize():\n\u001b[1;32m      3\u001b[0m     \u001b[38;5;28mprint\u001b[39m(\u001b[38;5;124m\"\u001b[39m\u001b[38;5;124mInitialization failed\u001b[39m\u001b[38;5;124m\"\u001b[39m)\n\u001b[1;32m      4\u001b[0m     quit()\n",
      "\u001b[0;31mNameError\u001b[0m: name 'mt5' is not defined"
     ]
    }
   ],
   "source": [
    "# Initialize MetaTrader 5 connection\n",
    "if not mt5.initialize():\n",
    "    print(\"Initialization failed\")\n",
    "    quit()"
   ]
  },
  {
   "cell_type": "code",
   "execution_count": 9,
   "id": "3153145d-bab9-4f1f-a8e5-b6028b37fb4d",
   "metadata": {},
   "outputs": [
    {
     "name": "stderr",
     "output_type": "stream",
     "text": [
      "/var/folders/2q/hzgb6kgx0d7cswzg01w1q5qh0000gn/T/ipykernel_40193/3491965863.py:2: DeprecationWarning: datetime.datetime.utcnow() is deprecated and scheduled for removal in a future version. Use timezone-aware objects to represent datetimes in UTC: datetime.datetime.now(datetime.UTC).\n",
      "  utc_from = datetime.utcnow() - timedelta(days=7)\n",
      "/var/folders/2q/hzgb6kgx0d7cswzg01w1q5qh0000gn/T/ipykernel_40193/3491965863.py:3: DeprecationWarning: datetime.datetime.utcnow() is deprecated and scheduled for removal in a future version. Use timezone-aware objects to represent datetimes in UTC: datetime.datetime.now(datetime.UTC).\n",
      "  utc_to = datetime.utcnow()\n"
     ]
    }
   ],
   "source": [
    "#Download the OHLC data from the last 7 days\n",
    "utc_from = datetime.utcnow() - timedelta(days=7)\n",
    "utc_to = datetime.utcnow()"
   ]
  },
  {
   "cell_type": "code",
   "execution_count": null,
   "id": "018ab677-a6a3-4cc3-a399-aaeaf9806354",
   "metadata": {},
   "outputs": [],
   "source": []
  }
 ],
 "metadata": {
  "kernelspec": {
   "display_name": "Python 3 (ipykernel)",
   "language": "python",
   "name": "python3"
  },
  "language_info": {
   "codemirror_mode": {
    "name": "ipython",
    "version": 3
   },
   "file_extension": ".py",
   "mimetype": "text/x-python",
   "name": "python",
   "nbconvert_exporter": "python",
   "pygments_lexer": "ipython3",
   "version": "3.12.4"
  }
 },
 "nbformat": 4,
 "nbformat_minor": 5
}
