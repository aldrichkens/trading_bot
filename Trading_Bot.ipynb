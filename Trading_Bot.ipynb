{
 "cells": [
  {
   "cell_type": "code",
   "execution_count": 1,
   "id": "d7cd4aff-9aee-43cf-851e-cbe6af4764f9",
   "metadata": {},
   "outputs": [
    {
     "name": "stdout",
     "output_type": "stream",
     "text": [
      "Requirement already satisfied: MetaTrader5 in c:\\users\\aldrichken\\anaconda3\\lib\\site-packages (5.0.4738)\n",
      "Requirement already satisfied: numpy>=1.7 in c:\\users\\aldrichken\\anaconda3\\lib\\site-packages (from MetaTrader5) (1.26.4)\n",
      "Note: you may need to restart the kernel to use updated packages.\n"
     ]
    }
   ],
   "source": [
    "pip install --upgrade MetaTrader5"
   ]
  },
  {
   "cell_type": "code",
   "execution_count": 2,
   "id": "0ba18578-75d5-43b8-a097-11e19f98d1f0",
   "metadata": {},
   "outputs": [],
   "source": [
    "import numpy as np\n",
    "import pandas as pd\n",
    "from datetime import datetime, timedelta, timezone, date\n",
    "from scipy.signal import find_peaks\n",
    "import MetaTrader5 as mt5\n",
    "from zoneinfo import ZoneInfo"
   ]
  },
  {
   "cell_type": "code",
   "execution_count": 3,
   "id": "5c0333c0-712f-4e1f-a17f-b4f538b62179",
   "metadata": {},
   "outputs": [],
   "source": [
    "# Initialize MetaTrader 5 connection\n",
    "if not mt5.initialize():\n",
    "    print(\"Initialization failed\")\n",
    "    quit()"
   ]
  },
  {
   "cell_type": "markdown",
   "id": "ffc7c628-887a-45cd-9b82-39ccafda6360",
   "metadata": {},
   "source": [
    "DEFINING FUNCTIONS"
   ]
  },
  {
   "cell_type": "code",
   "execution_count": 4,
   "id": "e7889847-4e56-47ce-a95e-2a994bb5efb4",
   "metadata": {},
   "outputs": [],
   "source": [
    "#DROP THE UNNCESSARY COLUMNS IN THE DATAFRAME AND CONVERTING THE TIME TO HUMAN READABLE FORMAT\n",
    "def df_convert_hr(rates_frame):\n",
    "    rates_frame['time'] = pd.to_datetime(rates_frame['time'], unit='s')\n",
    "    rates_frame.drop([\"tick_volume\", \"spread\", \"real_volume\"], inplace=True, axis=1)\n",
    "    rates_frame[\"time\"] = pd.to_datetime(rates_frame[\"time\"])\n",
    "    return rates_frame\n",
    "\n",
    "#Detect the entry drills\n",
    "def sell_entry_drill():\n",
    "    pass\n",
    "\n",
    "def buy_entry_drill():\n",
    "    pass"
   ]
  },
  {
   "cell_type": "markdown",
   "id": "c151a086-8655-41f0-8d09-cc34a9c07b23",
   "metadata": {},
   "source": [
    "DOWNLOAD THE OHLC DATA FROM THE LAST 7 DAYS"
   ]
  },
  {
   "cell_type": "code",
   "execution_count": 68,
   "id": "3153145d-bab9-4f1f-a8e5-b6028b37fb4d",
   "metadata": {},
   "outputs": [],
   "source": [
    "symbol = \"EURUSD\"\n",
    "timeframe = mt5.TIMEFRAME_M1\n",
    "\n",
    "#GETTING THE TIMESTAMP FOR TODAY AND 3 DAYS AGO\n",
    "utc_plus_2 = timezone(timedelta(hours=2))\n",
    "utc_from = datetime.now(utc_plus_2) - timedelta(days=7)\n",
    "utc_to = datetime.now(utc_plus_2) + timedelta(days=1)\n",
    "startdate=utc_from.strftime('%Y%m%d')\n",
    "enddate=utc_to.strftime('%Y%m%d')\n",
    "\n",
    "# Get the OHLC data\n",
    "rates = mt5.copy_rates_range(symbol, timeframe, utc_from, utc_to)\n",
    "# Check if the data is downloaded successfully\n",
    "if rates is None:\n",
    "    print(\"No data available, error code =\", mt5.last_error())\n",
    "else:\n",
    "    # Convert the data to a pandas DataFrame\n",
    "    rates_frame = pd.DataFrame(rates)\n",
    "    df_convert_hr(rates_frame)\n"
   ]
  },
  {
   "cell_type": "code",
   "execution_count": 69,
   "id": "d2f50aef-8e60-4f58-8248-8f1578844aca",
   "metadata": {},
   "outputs": [
    {
     "data": {
      "text/html": [
       "<div>\n",
       "<style scoped>\n",
       "    .dataframe tbody tr th:only-of-type {\n",
       "        vertical-align: middle;\n",
       "    }\n",
       "\n",
       "    .dataframe tbody tr th {\n",
       "        vertical-align: top;\n",
       "    }\n",
       "\n",
       "    .dataframe thead th {\n",
       "        text-align: right;\n",
       "    }\n",
       "</style>\n",
       "<table border=\"1\" class=\"dataframe\">\n",
       "  <thead>\n",
       "    <tr style=\"text-align: right;\">\n",
       "      <th></th>\n",
       "      <th>time</th>\n",
       "      <th>open</th>\n",
       "      <th>high</th>\n",
       "      <th>low</th>\n",
       "      <th>close</th>\n",
       "    </tr>\n",
       "  </thead>\n",
       "  <tbody>\n",
       "    <tr>\n",
       "      <th>0</th>\n",
       "      <td>2024-12-30 13:32:00</td>\n",
       "      <td>1.04470</td>\n",
       "      <td>1.04471</td>\n",
       "      <td>1.04461</td>\n",
       "      <td>1.04463</td>\n",
       "    </tr>\n",
       "    <tr>\n",
       "      <th>1</th>\n",
       "      <td>2024-12-30 13:33:00</td>\n",
       "      <td>1.04463</td>\n",
       "      <td>1.04480</td>\n",
       "      <td>1.04462</td>\n",
       "      <td>1.04472</td>\n",
       "    </tr>\n",
       "    <tr>\n",
       "      <th>2</th>\n",
       "      <td>2024-12-30 13:34:00</td>\n",
       "      <td>1.04472</td>\n",
       "      <td>1.04482</td>\n",
       "      <td>1.04470</td>\n",
       "      <td>1.04471</td>\n",
       "    </tr>\n",
       "    <tr>\n",
       "      <th>3</th>\n",
       "      <td>2024-12-30 13:35:00</td>\n",
       "      <td>1.04470</td>\n",
       "      <td>1.04477</td>\n",
       "      <td>1.04464</td>\n",
       "      <td>1.04476</td>\n",
       "    </tr>\n",
       "    <tr>\n",
       "      <th>4</th>\n",
       "      <td>2024-12-30 13:36:00</td>\n",
       "      <td>1.04476</td>\n",
       "      <td>1.04480</td>\n",
       "      <td>1.04474</td>\n",
       "      <td>1.04476</td>\n",
       "    </tr>\n",
       "    <tr>\n",
       "      <th>...</th>\n",
       "      <td>...</td>\n",
       "      <td>...</td>\n",
       "      <td>...</td>\n",
       "      <td>...</td>\n",
       "      <td>...</td>\n",
       "    </tr>\n",
       "    <tr>\n",
       "      <th>5874</th>\n",
       "      <td>2025-01-06 15:27:00</td>\n",
       "      <td>1.04267</td>\n",
       "      <td>1.04335</td>\n",
       "      <td>1.04267</td>\n",
       "      <td>1.04312</td>\n",
       "    </tr>\n",
       "    <tr>\n",
       "      <th>5875</th>\n",
       "      <td>2025-01-06 15:28:00</td>\n",
       "      <td>1.04315</td>\n",
       "      <td>1.04343</td>\n",
       "      <td>1.04299</td>\n",
       "      <td>1.04330</td>\n",
       "    </tr>\n",
       "    <tr>\n",
       "      <th>5876</th>\n",
       "      <td>2025-01-06 15:29:00</td>\n",
       "      <td>1.04330</td>\n",
       "      <td>1.04365</td>\n",
       "      <td>1.04328</td>\n",
       "      <td>1.04355</td>\n",
       "    </tr>\n",
       "    <tr>\n",
       "      <th>5877</th>\n",
       "      <td>2025-01-06 15:30:00</td>\n",
       "      <td>1.04356</td>\n",
       "      <td>1.04356</td>\n",
       "      <td>1.04299</td>\n",
       "      <td>1.04339</td>\n",
       "    </tr>\n",
       "    <tr>\n",
       "      <th>5878</th>\n",
       "      <td>2025-01-06 15:31:00</td>\n",
       "      <td>1.04341</td>\n",
       "      <td>1.04341</td>\n",
       "      <td>1.04300</td>\n",
       "      <td>1.04300</td>\n",
       "    </tr>\n",
       "  </tbody>\n",
       "</table>\n",
       "<p>5879 rows × 5 columns</p>\n",
       "</div>"
      ],
      "text/plain": [
       "                    time     open     high      low    close\n",
       "0    2024-12-30 13:32:00  1.04470  1.04471  1.04461  1.04463\n",
       "1    2024-12-30 13:33:00  1.04463  1.04480  1.04462  1.04472\n",
       "2    2024-12-30 13:34:00  1.04472  1.04482  1.04470  1.04471\n",
       "3    2024-12-30 13:35:00  1.04470  1.04477  1.04464  1.04476\n",
       "4    2024-12-30 13:36:00  1.04476  1.04480  1.04474  1.04476\n",
       "...                  ...      ...      ...      ...      ...\n",
       "5874 2025-01-06 15:27:00  1.04267  1.04335  1.04267  1.04312\n",
       "5875 2025-01-06 15:28:00  1.04315  1.04343  1.04299  1.04330\n",
       "5876 2025-01-06 15:29:00  1.04330  1.04365  1.04328  1.04355\n",
       "5877 2025-01-06 15:30:00  1.04356  1.04356  1.04299  1.04339\n",
       "5878 2025-01-06 15:31:00  1.04341  1.04341  1.04300  1.04300\n",
       "\n",
       "[5879 rows x 5 columns]"
      ]
     },
     "execution_count": 69,
     "metadata": {},
     "output_type": "execute_result"
    }
   ],
   "source": [
    "rates_frame"
   ]
  },
  {
   "cell_type": "markdown",
   "id": "634ecf85-bf94-4a02-a1fd-34c1e15ef719",
   "metadata": {},
   "source": [
    "DETERMINE THE MOST RECENT HIGHEST/LOWEST POINTS and THE TREND FROM THE LAST 35 MINS "
   ]
  },
  {
   "cell_type": "code",
   "execution_count": 70,
   "id": "2420b68f-2c05-4505-9f4f-34214b658808",
   "metadata": {},
   "outputs": [],
   "source": [
    "#Determine the max and min value of the highs and lows for the last 35 mins\n",
    "Last_35 = rates_frame.tail(35)\n",
    "MaxHighPrice = Last_35[\"high\"].max()\n",
    "MinLowPrice = Last_35[\"low\"].min()\n",
    "\n",
    "#Determine the if the last 35 mins is in a downtrend or uptrend\n",
    "HighestPoint = rates_frame[rates_frame[\"high\"] == MaxHighPrice].iloc[-1]\n",
    "LowestPoint = rates_frame[rates_frame[\"low\"] == MinLowPrice].iloc[-1]\n",
    "\n",
    "if HighestPoint[\"time\"] > LowestPoint[\"time\"]:\n",
    "    trend_35 = \"uptrend\"\n",
    "elif HighestPoint[\"time\"] < LowestPoint[\"time\"]:\n",
    "    trend_35 = \"downtrend\"\n",
    "else:\n",
    "    trend_35 = \"sideways\""
   ]
  },
  {
   "cell_type": "markdown",
   "id": "5e53bab3-8e5c-4b1c-8999-efdf097f9420",
   "metadata": {},
   "source": [
    "DETERMINE THE SESSION LOW/HIGH OF PRICE"
   ]
  },
  {
   "cell_type": "code",
   "execution_count": 74,
   "id": "035ec196-f163-4543-819c-c121e1ffca0d",
   "metadata": {},
   "outputs": [],
   "source": [
    "date_today = date.today()\n",
    "\n",
    "#HAVE THE DATAFRAME FOR THE CURRENT LONDON SESSION and LOOK FOR THE LONDON HIGH AND LOW:\n",
    "ldn_rates_frame = rates_frame[(rates_frame['time'].dt.date == date_today) & (rates_frame['time'].dt.hour >= 10) & (rates_frame['time'].dt.hour < 14)]\n",
    "ldn_high = ldn_rates_frame[\"high\"].max()\n",
    "ldn_low = ldn_rates_frame[\"low\"].min()\n",
    "\n",
    "#HAVE THE DATAFRAME FOR THE CURRENT NEW YORK SESSION and LOOK FOR THE NY HIGH AND LOW: \n",
    "ny_rates_frame = rates_frame[(rates_frame['time'].dt.date == date_today) & (rates_frame['time'].dt.hour >= 15) & (rates_frame['time'].dt.hour < 19)]\n",
    "ny_high = ny_rates_frame[\"high\"].max()\n",
    "ny_low = ny_rates_frame[\"low\"].min()"
   ]
  },
  {
   "cell_type": "code",
   "execution_count": null,
   "id": "536d69bc-311d-4727-b805-e5076f3ae536",
   "metadata": {},
   "outputs": [],
   "source": []
  }
 ],
 "metadata": {
  "kernelspec": {
   "display_name": "Python 3 (ipykernel)",
   "language": "python",
   "name": "python3"
  },
  "language_info": {
   "codemirror_mode": {
    "name": "ipython",
    "version": 3
   },
   "file_extension": ".py",
   "mimetype": "text/x-python",
   "name": "python",
   "nbconvert_exporter": "python",
   "pygments_lexer": "ipython3",
   "version": "3.12.7"
  }
 },
 "nbformat": 4,
 "nbformat_minor": 5
}
