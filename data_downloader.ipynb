{
 "cells": [
  {
   "cell_type": "code",
   "execution_count": 2,
   "id": "e51ae63d-217e-419e-ae85-5007b775db2a",
   "metadata": {},
   "outputs": [
    {
     "name": "stdout",
     "output_type": "stream",
     "text": [
      "Connected to MT5 successfully\n",
      "                   time     open     high      low    close  tick_volume  \\\n",
      "0   2025-02-04 00:01:00  154.692  154.763  154.662  154.662            3   \n",
      "1   2025-02-04 00:02:00  154.692  154.692  154.692  154.692            1   \n",
      "2   2025-02-04 00:03:00  154.692  154.692  154.662  154.666            7   \n",
      "3   2025-02-04 00:04:00  154.692  154.694  154.671  154.673            4   \n",
      "4   2025-02-04 00:05:00  154.694  154.694  154.691  154.691            2   \n",
      "..                  ...      ...      ...      ...      ...          ...   \n",
      "955 2025-02-04 15:56:00  155.350  155.350  155.296  155.305           55   \n",
      "956 2025-02-04 15:57:00  155.305  155.313  155.273  155.285           61   \n",
      "957 2025-02-04 15:58:00  155.283  155.292  155.272  155.278           60   \n",
      "958 2025-02-04 15:59:00  155.277  155.279  155.258  155.260           66   \n",
      "959 2025-02-04 16:00:00  155.259  155.260  155.198  155.215           86   \n",
      "\n",
      "     spread  real_volume  \n",
      "0        26            0  \n",
      "1       121            0  \n",
      "2       121            0  \n",
      "3       121            0  \n",
      "4       114            0  \n",
      "..      ...          ...  \n",
      "955       4            0  \n",
      "956       4            0  \n",
      "957       4            0  \n",
      "958       4            0  \n",
      "959       4            0  \n",
      "\n",
      "[960 rows x 8 columns]\n"
     ]
    }
   ],
   "source": [
    "import numpy\n",
    "import pandas as pd\n",
    "import MetaTrader5 as mt5\n",
    "from datetime import datetime\n",
    "\n",
    "if not mt5.initialize(login=89500879, server=\"MetaQuotes-Demo\", password=\"6kF-FhYd\"):\n",
    "    print(\"Initialization failed\")\n",
    "    print(mt5.last_error())\n",
    "    quit()\n",
    "\n",
    "print(\"Connected to MT5 successfully\")\n",
    "\n",
    "#INPUTS\n",
    "# SYMBOLS = AUDSD, EURUSD,EURJPY, XAUUSD, EURGPY, USDJPY\n",
    "symbol = \"USDJPY\"\n",
    "timeframe = mt5.TIMEFRAME_M1  # 1-minute timeframe\n",
    "utc_from = datetime(2025, 2, 3)\n",
    "utc_to = datetime(2025, 2, 5)\n",
    "\n",
    "startdate=utc_from.strftime('%Y%m%d')\n",
    "enddate=utc_to.strftime('%Y%m%d')\n",
    "\n",
    "# Get the OHLC data\n",
    "rates = mt5.copy_rates_range(symbol, timeframe, utc_from, utc_to)\n",
    "\n",
    "# Check if the data is downloaded successfully\n",
    "if rates is None:\n",
    "    print(\"No data available, error code =\", mt5.last_error())\n",
    "else:\n",
    "    # Convert the data to a pandas DataFrame\n",
    "    rates_frame = pd.DataFrame(rates)\n",
    "    # Convert the time in seconds to a datetime format\n",
    "    rates_frame['time'] = pd.to_datetime(rates_frame['time'], unit='s')\n",
    "\n",
    "    # Display the data\n",
    "    print(rates_frame)\n",
    "\n",
    "rates_frame.drop([\"tick_volume\", \"spread\", \"real_volume\"], inplace=True, axis=1)\n",
    "\n",
    "rates_frame.to_csv(f'./OHLC_data/{symbol}_{startdate}_{enddate}.csv', index=False)"
   ]
  },
  {
   "cell_type": "code",
   "execution_count": null,
   "id": "51c34960-526a-466b-ba00-9b7c522291bd",
   "metadata": {},
   "outputs": [],
   "source": []
  },
  {
   "cell_type": "code",
   "execution_count": null,
   "id": "29ec5c76-791a-473f-992e-f59cfaf441c6",
   "metadata": {},
   "outputs": [],
   "source": []
  }
 ],
 "metadata": {
  "kernelspec": {
   "display_name": "Python 3 (ipykernel)",
   "language": "python",
   "name": "python3"
  },
  "language_info": {
   "codemirror_mode": {
    "name": "ipython",
    "version": 3
   },
   "file_extension": ".py",
   "mimetype": "text/x-python",
   "name": "python",
   "nbconvert_exporter": "python",
   "pygments_lexer": "ipython3",
   "version": "3.12.7"
  }
 },
 "nbformat": 4,
 "nbformat_minor": 5
}
