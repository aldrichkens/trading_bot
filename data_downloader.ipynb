{
 "cells": [
  {
   "cell_type": "code",
   "execution_count": 1,
   "id": "06627ff4-7030-4a68-9539-2b8a7813736b",
   "metadata": {},
   "outputs": [
    {
     "name": "stdout",
     "output_type": "stream",
     "text": [
      "Requirement already satisfied: MetaTrader5 in c:\\users\\aldri\\appdata\\local\\anaconda3\\lib\\site-packages (5.0.4738)\n",
      "Requirement already satisfied: numpy>=1.7 in c:\\users\\aldri\\appdata\\local\\anaconda3\\lib\\site-packages (from MetaTrader5) (1.26.4)\n",
      "Note: you may need to restart the kernel to use updated packages.\n"
     ]
    }
   ],
   "source": [
    "pip install --upgrade MetaTrader5"
   ]
  },
  {
   "cell_type": "code",
   "execution_count": 2,
   "id": "4f125bef-bb77-4f84-9365-0c1449b7363b",
   "metadata": {},
   "outputs": [],
   "source": [
    "import numpy\n",
    "import pandas as pd\n",
    "import MetaTrader5 as mt5\n",
    "from datetime import datetime"
   ]
  },
  {
   "cell_type": "code",
   "execution_count": 3,
   "id": "f07c8ef2-f5e4-4537-9945-2e2498cbed9e",
   "metadata": {},
   "outputs": [],
   "source": [
    "# Initialize the connection\n",
    "if not mt5.initialize():\n",
    "    print(\"initialize() failed, error code =\", mt5.last_error())\n",
    "    quit()"
   ]
  },
  {
   "cell_type": "code",
   "execution_count": 10,
   "id": "6ac49c4e-a952-49f8-9d9b-5b00a7ec104f",
   "metadata": {},
   "outputs": [],
   "source": [
    "#INPUTS\n",
    "# SYMBOLS = AUDSD, EURUSD,EURJPY, XAUUSD, EURGPY, USDJPY\n",
    "symbol = \"GBPUSD\"\n",
    "timeframe = mt5.TIMEFRAME_M1  # 1-minute timeframe\n",
    "utc_from = datetime(2025, 1, 9)\n",
    "utc_to = datetime(2025, 1, 11)"
   ]
  },
  {
   "cell_type": "code",
   "execution_count": 11,
   "id": "ebbd31d3-9fc1-4cdd-ab4d-79808ab03e8b",
   "metadata": {},
   "outputs": [],
   "source": [
    "startdate=utc_from.strftime('%Y%m%d')\n",
    "enddate=utc_to.strftime('%Y%m%d')"
   ]
  },
  {
   "cell_type": "code",
   "execution_count": 12,
   "id": "719b80aa-dad3-4d92-8722-c2b3a3d35018",
   "metadata": {},
   "outputs": [
    {
     "name": "stdout",
     "output_type": "stream",
     "text": [
      "                    time     open     high      low    close  tick_volume  \\\n",
      "0    2025-01-08 16:00:00  1.23559  1.23636  1.23559  1.23607          100   \n",
      "1    2025-01-08 16:01:00  1.23604  1.23651  1.23581  1.23637          101   \n",
      "2    2025-01-08 16:02:00  1.23639  1.23661  1.23615  1.23642           92   \n",
      "3    2025-01-08 16:03:00  1.23640  1.23640  1.23597  1.23610           67   \n",
      "4    2025-01-08 16:04:00  1.23607  1.23613  1.23575  1.23576           67   \n",
      "...                  ...      ...      ...      ...      ...          ...   \n",
      "2875 2025-01-10 15:56:00  1.22275  1.22301  1.22259  1.22281           90   \n",
      "2876 2025-01-10 15:57:00  1.22282  1.22300  1.22234  1.22277           92   \n",
      "2877 2025-01-10 15:58:00  1.22271  1.22302  1.22255  1.22279           91   \n",
      "2878 2025-01-10 15:59:00  1.22284  1.22336  1.22265  1.22314           85   \n",
      "2879 2025-01-10 16:00:00  1.22308  1.22320  1.22233  1.22234           95   \n",
      "\n",
      "      spread  real_volume  \n",
      "0          4            0  \n",
      "1          5            0  \n",
      "2          5            0  \n",
      "3          5            0  \n",
      "4          5            0  \n",
      "...      ...          ...  \n",
      "2875       5            0  \n",
      "2876       5            0  \n",
      "2877       5            0  \n",
      "2878       3            0  \n",
      "2879       3            0  \n",
      "\n",
      "[2880 rows x 8 columns]\n"
     ]
    }
   ],
   "source": [
    "# Get the OHLC data\n",
    "rates = mt5.copy_rates_range(symbol, timeframe, utc_from, utc_to)\n",
    "\n",
    "# Check if the data is downloaded successfully\n",
    "if rates is None:\n",
    "    print(\"No data available, error code =\", mt5.last_error())\n",
    "else:\n",
    "    # Convert the data to a pandas DataFrame\n",
    "    rates_frame = pd.DataFrame(rates)\n",
    "    # Convert the time in seconds to a datetime format\n",
    "    rates_frame['time'] = pd.to_datetime(rates_frame['time'], unit='s')\n",
    "\n",
    "    # Display the data\n",
    "    print(rates_frame)"
   ]
  },
  {
   "cell_type": "code",
   "execution_count": 13,
   "id": "3952c38c-1760-4115-8118-5ea3a40254e1",
   "metadata": {},
   "outputs": [],
   "source": [
    "rates_frame.drop([\"tick_volume\", \"spread\", \"real_volume\"], inplace=True, axis=1)"
   ]
  },
  {
   "cell_type": "code",
   "execution_count": 14,
   "id": "28321aca-0c08-4aae-86e9-98604bf43d21",
   "metadata": {},
   "outputs": [
    {
     "data": {
      "text/html": [
       "<div>\n",
       "<style scoped>\n",
       "    .dataframe tbody tr th:only-of-type {\n",
       "        vertical-align: middle;\n",
       "    }\n",
       "\n",
       "    .dataframe tbody tr th {\n",
       "        vertical-align: top;\n",
       "    }\n",
       "\n",
       "    .dataframe thead th {\n",
       "        text-align: right;\n",
       "    }\n",
       "</style>\n",
       "<table border=\"1\" class=\"dataframe\">\n",
       "  <thead>\n",
       "    <tr style=\"text-align: right;\">\n",
       "      <th></th>\n",
       "      <th>time</th>\n",
       "      <th>open</th>\n",
       "      <th>high</th>\n",
       "      <th>low</th>\n",
       "      <th>close</th>\n",
       "    </tr>\n",
       "  </thead>\n",
       "  <tbody>\n",
       "    <tr>\n",
       "      <th>0</th>\n",
       "      <td>2025-01-08 16:00:00</td>\n",
       "      <td>1.23559</td>\n",
       "      <td>1.23636</td>\n",
       "      <td>1.23559</td>\n",
       "      <td>1.23607</td>\n",
       "    </tr>\n",
       "    <tr>\n",
       "      <th>1</th>\n",
       "      <td>2025-01-08 16:01:00</td>\n",
       "      <td>1.23604</td>\n",
       "      <td>1.23651</td>\n",
       "      <td>1.23581</td>\n",
       "      <td>1.23637</td>\n",
       "    </tr>\n",
       "    <tr>\n",
       "      <th>2</th>\n",
       "      <td>2025-01-08 16:02:00</td>\n",
       "      <td>1.23639</td>\n",
       "      <td>1.23661</td>\n",
       "      <td>1.23615</td>\n",
       "      <td>1.23642</td>\n",
       "    </tr>\n",
       "    <tr>\n",
       "      <th>3</th>\n",
       "      <td>2025-01-08 16:03:00</td>\n",
       "      <td>1.23640</td>\n",
       "      <td>1.23640</td>\n",
       "      <td>1.23597</td>\n",
       "      <td>1.23610</td>\n",
       "    </tr>\n",
       "    <tr>\n",
       "      <th>4</th>\n",
       "      <td>2025-01-08 16:04:00</td>\n",
       "      <td>1.23607</td>\n",
       "      <td>1.23613</td>\n",
       "      <td>1.23575</td>\n",
       "      <td>1.23576</td>\n",
       "    </tr>\n",
       "    <tr>\n",
       "      <th>...</th>\n",
       "      <td>...</td>\n",
       "      <td>...</td>\n",
       "      <td>...</td>\n",
       "      <td>...</td>\n",
       "      <td>...</td>\n",
       "    </tr>\n",
       "    <tr>\n",
       "      <th>2875</th>\n",
       "      <td>2025-01-10 15:56:00</td>\n",
       "      <td>1.22275</td>\n",
       "      <td>1.22301</td>\n",
       "      <td>1.22259</td>\n",
       "      <td>1.22281</td>\n",
       "    </tr>\n",
       "    <tr>\n",
       "      <th>2876</th>\n",
       "      <td>2025-01-10 15:57:00</td>\n",
       "      <td>1.22282</td>\n",
       "      <td>1.22300</td>\n",
       "      <td>1.22234</td>\n",
       "      <td>1.22277</td>\n",
       "    </tr>\n",
       "    <tr>\n",
       "      <th>2877</th>\n",
       "      <td>2025-01-10 15:58:00</td>\n",
       "      <td>1.22271</td>\n",
       "      <td>1.22302</td>\n",
       "      <td>1.22255</td>\n",
       "      <td>1.22279</td>\n",
       "    </tr>\n",
       "    <tr>\n",
       "      <th>2878</th>\n",
       "      <td>2025-01-10 15:59:00</td>\n",
       "      <td>1.22284</td>\n",
       "      <td>1.22336</td>\n",
       "      <td>1.22265</td>\n",
       "      <td>1.22314</td>\n",
       "    </tr>\n",
       "    <tr>\n",
       "      <th>2879</th>\n",
       "      <td>2025-01-10 16:00:00</td>\n",
       "      <td>1.22308</td>\n",
       "      <td>1.22320</td>\n",
       "      <td>1.22233</td>\n",
       "      <td>1.22234</td>\n",
       "    </tr>\n",
       "  </tbody>\n",
       "</table>\n",
       "<p>2880 rows × 5 columns</p>\n",
       "</div>"
      ],
      "text/plain": [
       "                    time     open     high      low    close\n",
       "0    2025-01-08 16:00:00  1.23559  1.23636  1.23559  1.23607\n",
       "1    2025-01-08 16:01:00  1.23604  1.23651  1.23581  1.23637\n",
       "2    2025-01-08 16:02:00  1.23639  1.23661  1.23615  1.23642\n",
       "3    2025-01-08 16:03:00  1.23640  1.23640  1.23597  1.23610\n",
       "4    2025-01-08 16:04:00  1.23607  1.23613  1.23575  1.23576\n",
       "...                  ...      ...      ...      ...      ...\n",
       "2875 2025-01-10 15:56:00  1.22275  1.22301  1.22259  1.22281\n",
       "2876 2025-01-10 15:57:00  1.22282  1.22300  1.22234  1.22277\n",
       "2877 2025-01-10 15:58:00  1.22271  1.22302  1.22255  1.22279\n",
       "2878 2025-01-10 15:59:00  1.22284  1.22336  1.22265  1.22314\n",
       "2879 2025-01-10 16:00:00  1.22308  1.22320  1.22233  1.22234\n",
       "\n",
       "[2880 rows x 5 columns]"
      ]
     },
     "execution_count": 14,
     "metadata": {},
     "output_type": "execute_result"
    }
   ],
   "source": [
    "rates_frame"
   ]
  },
  {
   "cell_type": "code",
   "execution_count": 15,
   "id": "4f5b97eb-9f6c-459c-bb0e-c45b72ab368d",
   "metadata": {},
   "outputs": [],
   "source": [
    "rates_frame.to_csv(f'./OHLC_data/{symbol}_{startdate}_{enddate}.csv', index=False)"
   ]
  },
  {
   "cell_type": "code",
   "execution_count": null,
   "id": "346c81dc-a23a-4151-846e-5d6b5d175a5a",
   "metadata": {},
   "outputs": [],
   "source": []
  },
  {
   "cell_type": "code",
   "execution_count": null,
   "id": "5aa6e012-e3e2-463e-903d-33333c91f7c4",
   "metadata": {},
   "outputs": [],
   "source": []
  }
 ],
 "metadata": {
  "kernelspec": {
   "display_name": "Python 3 (ipykernel)",
   "language": "python",
   "name": "python3"
  },
  "language_info": {
   "codemirror_mode": {
    "name": "ipython",
    "version": 3
   },
   "file_extension": ".py",
   "mimetype": "text/x-python",
   "name": "python",
   "nbconvert_exporter": "python",
   "pygments_lexer": "ipython3",
   "version": "3.12.7"
  }
 },
 "nbformat": 4,
 "nbformat_minor": 5
}
