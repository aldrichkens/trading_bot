{
 "cells": [
  {
   "cell_type": "code",
   "execution_count": 1,
   "id": "06627ff4-7030-4a68-9539-2b8a7813736b",
   "metadata": {},
   "outputs": [
    {
     "name": "stdout",
     "output_type": "stream",
     "text": [
      "Requirement already satisfied: MetaTrader5 in c:\\users\\aldri\\appdata\\local\\anaconda3\\lib\\site-packages (5.0.4738)\n",
      "Requirement already satisfied: numpy>=1.7 in c:\\users\\aldri\\appdata\\local\\anaconda3\\lib\\site-packages (from MetaTrader5) (1.26.4)\n",
      "Note: you may need to restart the kernel to use updated packages.\n"
     ]
    }
   ],
   "source": [
    "pip install --upgrade MetaTrader5"
   ]
  },
  {
   "cell_type": "code",
   "execution_count": 2,
   "id": "4f125bef-bb77-4f84-9365-0c1449b7363b",
   "metadata": {},
   "outputs": [],
   "source": [
    "import numpy\n",
    "import pandas as pd\n",
    "import MetaTrader5 as mt5\n",
    "from datetime import datetime"
   ]
  },
  {
   "cell_type": "code",
   "execution_count": 3,
   "id": "f07c8ef2-f5e4-4537-9945-2e2498cbed9e",
   "metadata": {},
   "outputs": [],
   "source": [
    "# Initialize the connection\n",
    "if not mt5.initialize():\n",
    "    print(\"initialize() failed, error code =\", mt5.last_error())\n",
    "    quit()"
   ]
  },
  {
   "cell_type": "code",
   "execution_count": 4,
   "id": "6ac49c4e-a952-49f8-9d9b-5b00a7ec104f",
   "metadata": {},
   "outputs": [],
   "source": [
    "#INPUTS\n",
    "# SYMBOLS = AUDSD, EURUSD,EURJPY, XAUUSD, EURGPY, USDJPY\n",
    "symbol = \"GBPUSD\"\n",
    "timeframe = mt5.TIMEFRAME_M1  # 1-minute timeframe\n",
    "utc_from = datetime(2025, 1, 1)\n",
    "utc_to = datetime(2025, 1, 3)"
   ]
  },
  {
   "cell_type": "code",
   "execution_count": 5,
   "id": "ebbd31d3-9fc1-4cdd-ab4d-79808ab03e8b",
   "metadata": {},
   "outputs": [],
   "source": [
    "startdate=utc_from.strftime('%Y%m%d')\n",
    "enddate=utc_to.strftime('%Y%m%d')"
   ]
  },
  {
   "cell_type": "code",
   "execution_count": 6,
   "id": "719b80aa-dad3-4d92-8722-c2b3a3d35018",
   "metadata": {},
   "outputs": [
    {
     "name": "stdout",
     "output_type": "stream",
     "text": [
      "                    time     open     high      low    close  tick_volume  \\\n",
      "0    2024-12-31 16:00:00  1.25289  1.25305  1.25276  1.25282           33   \n",
      "1    2024-12-31 16:01:00  1.25283  1.25288  1.25272  1.25282           39   \n",
      "2    2024-12-31 16:02:00  1.25283  1.25295  1.25274  1.25291           60   \n",
      "3    2024-12-31 16:03:00  1.25291  1.25310  1.25290  1.25302           40   \n",
      "4    2024-12-31 16:04:00  1.25302  1.25305  1.25254  1.25261           46   \n",
      "...                  ...      ...      ...      ...      ...          ...   \n",
      "1436 2025-01-02 15:56:00  1.24062  1.24103  1.24061  1.24083           59   \n",
      "1437 2025-01-02 15:57:00  1.24082  1.24100  1.24060  1.24087           64   \n",
      "1438 2025-01-02 15:58:00  1.24087  1.24093  1.24070  1.24072           55   \n",
      "1439 2025-01-02 15:59:00  1.24072  1.24075  1.24040  1.24040           56   \n",
      "1440 2025-01-02 16:00:00  1.24040  1.24052  1.24001  1.24007           63   \n",
      "\n",
      "      spread  real_volume  \n",
      "0          3            0  \n",
      "1          4            0  \n",
      "2          3            0  \n",
      "3          5            0  \n",
      "4          5            0  \n",
      "...      ...          ...  \n",
      "1436       5            0  \n",
      "1437       5            0  \n",
      "1438       5            0  \n",
      "1439       5            0  \n",
      "1440       5            0  \n",
      "\n",
      "[1441 rows x 8 columns]\n"
     ]
    }
   ],
   "source": [
    "# Get the OHLC data\n",
    "rates = mt5.copy_rates_range(symbol, timeframe, utc_from, utc_to)\n",
    "\n",
    "# Check if the data is downloaded successfully\n",
    "if rates is None:\n",
    "    print(\"No data available, error code =\", mt5.last_error())\n",
    "else:\n",
    "    # Convert the data to a pandas DataFrame\n",
    "    rates_frame = pd.DataFrame(rates)\n",
    "    # Convert the time in seconds to a datetime format\n",
    "    rates_frame['time'] = pd.to_datetime(rates_frame['time'], unit='s')\n",
    "\n",
    "    # Display the data\n",
    "    print(rates_frame)"
   ]
  },
  {
   "cell_type": "code",
   "execution_count": 7,
   "id": "3952c38c-1760-4115-8118-5ea3a40254e1",
   "metadata": {},
   "outputs": [],
   "source": [
    "rates_frame.drop([\"tick_volume\", \"spread\", \"real_volume\"], inplace=True, axis=1)"
   ]
  },
  {
   "cell_type": "code",
   "execution_count": 8,
   "id": "28321aca-0c08-4aae-86e9-98604bf43d21",
   "metadata": {},
   "outputs": [
    {
     "data": {
      "text/html": [
       "<div>\n",
       "<style scoped>\n",
       "    .dataframe tbody tr th:only-of-type {\n",
       "        vertical-align: middle;\n",
       "    }\n",
       "\n",
       "    .dataframe tbody tr th {\n",
       "        vertical-align: top;\n",
       "    }\n",
       "\n",
       "    .dataframe thead th {\n",
       "        text-align: right;\n",
       "    }\n",
       "</style>\n",
       "<table border=\"1\" class=\"dataframe\">\n",
       "  <thead>\n",
       "    <tr style=\"text-align: right;\">\n",
       "      <th></th>\n",
       "      <th>time</th>\n",
       "      <th>open</th>\n",
       "      <th>high</th>\n",
       "      <th>low</th>\n",
       "      <th>close</th>\n",
       "    </tr>\n",
       "  </thead>\n",
       "  <tbody>\n",
       "    <tr>\n",
       "      <th>0</th>\n",
       "      <td>2024-12-31 16:00:00</td>\n",
       "      <td>1.25289</td>\n",
       "      <td>1.25305</td>\n",
       "      <td>1.25276</td>\n",
       "      <td>1.25282</td>\n",
       "    </tr>\n",
       "    <tr>\n",
       "      <th>1</th>\n",
       "      <td>2024-12-31 16:01:00</td>\n",
       "      <td>1.25283</td>\n",
       "      <td>1.25288</td>\n",
       "      <td>1.25272</td>\n",
       "      <td>1.25282</td>\n",
       "    </tr>\n",
       "    <tr>\n",
       "      <th>2</th>\n",
       "      <td>2024-12-31 16:02:00</td>\n",
       "      <td>1.25283</td>\n",
       "      <td>1.25295</td>\n",
       "      <td>1.25274</td>\n",
       "      <td>1.25291</td>\n",
       "    </tr>\n",
       "    <tr>\n",
       "      <th>3</th>\n",
       "      <td>2024-12-31 16:03:00</td>\n",
       "      <td>1.25291</td>\n",
       "      <td>1.25310</td>\n",
       "      <td>1.25290</td>\n",
       "      <td>1.25302</td>\n",
       "    </tr>\n",
       "    <tr>\n",
       "      <th>4</th>\n",
       "      <td>2024-12-31 16:04:00</td>\n",
       "      <td>1.25302</td>\n",
       "      <td>1.25305</td>\n",
       "      <td>1.25254</td>\n",
       "      <td>1.25261</td>\n",
       "    </tr>\n",
       "    <tr>\n",
       "      <th>...</th>\n",
       "      <td>...</td>\n",
       "      <td>...</td>\n",
       "      <td>...</td>\n",
       "      <td>...</td>\n",
       "      <td>...</td>\n",
       "    </tr>\n",
       "    <tr>\n",
       "      <th>1436</th>\n",
       "      <td>2025-01-02 15:56:00</td>\n",
       "      <td>1.24062</td>\n",
       "      <td>1.24103</td>\n",
       "      <td>1.24061</td>\n",
       "      <td>1.24083</td>\n",
       "    </tr>\n",
       "    <tr>\n",
       "      <th>1437</th>\n",
       "      <td>2025-01-02 15:57:00</td>\n",
       "      <td>1.24082</td>\n",
       "      <td>1.24100</td>\n",
       "      <td>1.24060</td>\n",
       "      <td>1.24087</td>\n",
       "    </tr>\n",
       "    <tr>\n",
       "      <th>1438</th>\n",
       "      <td>2025-01-02 15:58:00</td>\n",
       "      <td>1.24087</td>\n",
       "      <td>1.24093</td>\n",
       "      <td>1.24070</td>\n",
       "      <td>1.24072</td>\n",
       "    </tr>\n",
       "    <tr>\n",
       "      <th>1439</th>\n",
       "      <td>2025-01-02 15:59:00</td>\n",
       "      <td>1.24072</td>\n",
       "      <td>1.24075</td>\n",
       "      <td>1.24040</td>\n",
       "      <td>1.24040</td>\n",
       "    </tr>\n",
       "    <tr>\n",
       "      <th>1440</th>\n",
       "      <td>2025-01-02 16:00:00</td>\n",
       "      <td>1.24040</td>\n",
       "      <td>1.24052</td>\n",
       "      <td>1.24001</td>\n",
       "      <td>1.24007</td>\n",
       "    </tr>\n",
       "  </tbody>\n",
       "</table>\n",
       "<p>1441 rows × 5 columns</p>\n",
       "</div>"
      ],
      "text/plain": [
       "                    time     open     high      low    close\n",
       "0    2024-12-31 16:00:00  1.25289  1.25305  1.25276  1.25282\n",
       "1    2024-12-31 16:01:00  1.25283  1.25288  1.25272  1.25282\n",
       "2    2024-12-31 16:02:00  1.25283  1.25295  1.25274  1.25291\n",
       "3    2024-12-31 16:03:00  1.25291  1.25310  1.25290  1.25302\n",
       "4    2024-12-31 16:04:00  1.25302  1.25305  1.25254  1.25261\n",
       "...                  ...      ...      ...      ...      ...\n",
       "1436 2025-01-02 15:56:00  1.24062  1.24103  1.24061  1.24083\n",
       "1437 2025-01-02 15:57:00  1.24082  1.24100  1.24060  1.24087\n",
       "1438 2025-01-02 15:58:00  1.24087  1.24093  1.24070  1.24072\n",
       "1439 2025-01-02 15:59:00  1.24072  1.24075  1.24040  1.24040\n",
       "1440 2025-01-02 16:00:00  1.24040  1.24052  1.24001  1.24007\n",
       "\n",
       "[1441 rows x 5 columns]"
      ]
     },
     "execution_count": 8,
     "metadata": {},
     "output_type": "execute_result"
    }
   ],
   "source": [
    "rates_frame"
   ]
  },
  {
   "cell_type": "code",
   "execution_count": 9,
   "id": "4f5b97eb-9f6c-459c-bb0e-c45b72ab368d",
   "metadata": {},
   "outputs": [],
   "source": [
    "rates_frame.to_csv(f'./OHLC_data/{symbol}_{startdate}_{enddate}.csv', index=False)"
   ]
  },
  {
   "cell_type": "code",
   "execution_count": null,
   "id": "346c81dc-a23a-4151-846e-5d6b5d175a5a",
   "metadata": {},
   "outputs": [],
   "source": []
  },
  {
   "cell_type": "code",
   "execution_count": null,
   "id": "5aa6e012-e3e2-463e-903d-33333c91f7c4",
   "metadata": {},
   "outputs": [],
   "source": []
  }
 ],
 "metadata": {
  "kernelspec": {
   "display_name": "Python 3 (ipykernel)",
   "language": "python",
   "name": "python3"
  },
  "language_info": {
   "codemirror_mode": {
    "name": "ipython",
    "version": 3
   },
   "file_extension": ".py",
   "mimetype": "text/x-python",
   "name": "python",
   "nbconvert_exporter": "python",
   "pygments_lexer": "ipython3",
   "version": "3.12.7"
  }
 },
 "nbformat": 4,
 "nbformat_minor": 5
}
