{
 "cells": [
  {
   "cell_type": "code",
   "execution_count": 1,
   "id": "e51ae63d-217e-419e-ae85-5007b775db2a",
   "metadata": {},
   "outputs": [
    {
     "name": "stdout",
     "output_type": "stream",
     "text": [
      "Connected to MT5 successfully\n",
      "                    time     open     high      low    close  tick_volume  \\\n",
      "0    2025-01-27 00:00:00  0.62931  0.62931  0.62931  0.62931            1   \n",
      "1    2025-01-27 00:01:00  0.62931  0.63089  0.62931  0.63004            7   \n",
      "2    2025-01-27 00:02:00  0.63003  0.63025  0.63001  0.63025           12   \n",
      "3    2025-01-27 00:03:00  0.63026  0.63032  0.63026  0.63032            5   \n",
      "4    2025-01-27 00:04:00  0.63027  0.63027  0.63004  0.63004            6   \n",
      "...                  ...      ...      ...      ...      ...          ...   \n",
      "7192 2025-01-31 23:55:00  0.62076  0.62089  0.62076  0.62089           44   \n",
      "7193 2025-01-31 23:56:00  0.62086  0.62096  0.62057  0.62077          121   \n",
      "7194 2025-01-31 23:57:00  0.62077  0.62097  0.62065  0.62078          146   \n",
      "7195 2025-01-31 23:58:00  0.62078  0.62111  0.62052  0.62058          119   \n",
      "7196 2025-01-31 23:59:00  0.62110  0.62110  0.62100  0.62100            2   \n",
      "\n",
      "      spread  real_volume  \n",
      "0        171            0  \n",
      "1         84            0  \n",
      "2         59            0  \n",
      "3         53            0  \n",
      "4         54            0  \n",
      "...      ...          ...  \n",
      "7192      18            0  \n",
      "7193      18            0  \n",
      "7194      18            0  \n",
      "7195      20            0  \n",
      "7196      30            0  \n",
      "\n",
      "[7197 rows x 8 columns]\n"
     ]
    }
   ],
   "source": [
    "import numpy\n",
    "import pandas as pd\n",
    "import MetaTrader5 as mt5\n",
    "from datetime import datetime\n",
    "\n",
    "if not mt5.initialize(login=89500879, server=\"MetaQuotes-Demo\", password=\"6kF-FhYd\"):\n",
    "    print(\"Initialization failed\")\n",
    "    print(mt5.last_error())\n",
    "    quit()\n",
    "\n",
    "print(\"Connected to MT5 successfully\")\n",
    "\n",
    "#INPUTS\n",
    "# SYMBOLS = AUDSD, EURUSD,EURJPY, XAUUSD, EURGPY, USDJPY\n",
    "symbol = \"AUDUSD\"\n",
    "timeframe = mt5.TIMEFRAME_M1  # 1-minute timeframe\n",
    "utc_from = datetime(2025, 1, 26)\n",
    "utc_to = datetime(2025, 2, 2)\n",
    "\n",
    "startdate=utc_from.strftime('%Y%m%d')\n",
    "enddate=utc_to.strftime('%Y%m%d')\n",
    "\n",
    "# Get the OHLC data\n",
    "rates = mt5.copy_rates_range(symbol, timeframe, utc_from, utc_to)\n",
    "\n",
    "# Check if the data is downloaded successfully\n",
    "if rates is None:\n",
    "    print(\"No data available, error code =\", mt5.last_error())\n",
    "else:\n",
    "    # Convert the data to a pandas DataFrame\n",
    "    rates_frame = pd.DataFrame(rates)\n",
    "    # Convert the time in seconds to a datetime format\n",
    "    rates_frame['time'] = pd.to_datetime(rates_frame['time'], unit='s')\n",
    "\n",
    "    # Display the data\n",
    "    print(rates_frame)\n",
    "\n",
    "rates_frame.drop([\"tick_volume\", \"spread\", \"real_volume\"], inplace=True, axis=1)\n",
    "\n",
    "rates_frame.to_csv(f'./OHLC_data/{symbol}_{startdate}_{enddate}.csv', index=False)"
   ]
  },
  {
   "cell_type": "code",
   "execution_count": null,
   "id": "51c34960-526a-466b-ba00-9b7c522291bd",
   "metadata": {},
   "outputs": [],
   "source": []
  },
  {
   "cell_type": "code",
   "execution_count": null,
   "id": "29ec5c76-791a-473f-992e-f59cfaf441c6",
   "metadata": {},
   "outputs": [],
   "source": []
  }
 ],
 "metadata": {
  "kernelspec": {
   "display_name": "Python 3 (ipykernel)",
   "language": "python",
   "name": "python3"
  },
  "language_info": {
   "codemirror_mode": {
    "name": "ipython",
    "version": 3
   },
   "file_extension": ".py",
   "mimetype": "text/x-python",
   "name": "python",
   "nbconvert_exporter": "python",
   "pygments_lexer": "ipython3",
   "version": "3.12.7"
  }
 },
 "nbformat": 4,
 "nbformat_minor": 5
}
